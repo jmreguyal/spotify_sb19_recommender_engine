{
 "cells": [
  {
   "cell_type": "markdown",
   "metadata": {
    "id": "qj3xABgu2wlz"
   },
   "source": [
    "# Genre Classification using Supervised Machine Learning Models"
   ]
  },
  {
   "cell_type": "code",
   "execution_count": null,
   "metadata": {
    "colab": {
     "base_uri": "https://localhost:8080/"
    },
    "id": "XBRCzmDx78fO",
    "outputId": "e3494d09-1e82-43f1-d215-82b118df7e63"
   },
   "outputs": [
    {
     "name": "stdout",
     "output_type": "stream",
     "text": [
      "Requirement already satisfied: shap in /usr/local/lib/python3.10/dist-packages (0.43.0)\n",
      "Requirement already satisfied: numpy in /usr/local/lib/python3.10/dist-packages (from shap) (1.23.5)\n",
      "Requirement already satisfied: scipy in /usr/local/lib/python3.10/dist-packages (from shap) (1.11.3)\n",
      "Requirement already satisfied: scikit-learn in /usr/local/lib/python3.10/dist-packages (from shap) (1.2.2)\n",
      "Requirement already satisfied: pandas in /usr/local/lib/python3.10/dist-packages (from shap) (1.5.3)\n",
      "Requirement already satisfied: tqdm>=4.27.0 in /usr/local/lib/python3.10/dist-packages (from shap) (4.66.1)\n",
      "Requirement already satisfied: packaging>20.9 in /usr/local/lib/python3.10/dist-packages (from shap) (23.2)\n",
      "Requirement already satisfied: slicer==0.0.7 in /usr/local/lib/python3.10/dist-packages (from shap) (0.0.7)\n",
      "Requirement already satisfied: numba in /usr/local/lib/python3.10/dist-packages (from shap) (0.56.4)\n",
      "Requirement already satisfied: cloudpickle in /usr/local/lib/python3.10/dist-packages (from shap) (2.2.1)\n",
      "Requirement already satisfied: llvmlite<0.40,>=0.39.0dev0 in /usr/local/lib/python3.10/dist-packages (from numba->shap) (0.39.1)\n",
      "Requirement already satisfied: setuptools in /usr/local/lib/python3.10/dist-packages (from numba->shap) (67.7.2)\n",
      "Requirement already satisfied: python-dateutil>=2.8.1 in /usr/local/lib/python3.10/dist-packages (from pandas->shap) (2.8.2)\n",
      "Requirement already satisfied: pytz>=2020.1 in /usr/local/lib/python3.10/dist-packages (from pandas->shap) (2023.3.post1)\n",
      "Requirement already satisfied: joblib>=1.1.1 in /usr/local/lib/python3.10/dist-packages (from scikit-learn->shap) (1.3.2)\n",
      "Requirement already satisfied: threadpoolctl>=2.0.0 in /usr/local/lib/python3.10/dist-packages (from scikit-learn->shap) (3.2.0)\n",
      "Requirement already satisfied: six>=1.5 in /usr/local/lib/python3.10/dist-packages (from python-dateutil>=2.8.1->pandas->shap) (1.16.0)\n"
     ]
    }
   ],
   "source": [
    "# Installing shap\n",
    "\n",
    "!pip install shap"
   ]
  },
  {
   "cell_type": "code",
   "execution_count": null,
   "metadata": {
    "id": "Lsafdzzl2wl1"
   },
   "outputs": [],
   "source": [
    "# Importing modules\n",
    "\n",
    "import pandas as pd\n",
    "import numpy as np\n",
    "\n",
    "import seaborn as sns\n",
    "import matplotlib.pyplot as plt\n",
    "\n",
    "from sklearn.preprocessing import MinMaxScaler\n",
    "from sklearn.model_selection import train_test_split, KFold, cross_val_score, GridSearchCV\n",
    "from sklearn.pipeline import Pipeline\n",
    "from sklearn.neighbors import KNeighborsClassifier\n",
    "from sklearn.svm import SVC\n",
    "from sklearn.ensemble import RandomForestClassifier\n",
    "from sklearn.metrics import confusion_matrix, classification_report, ConfusionMatrixDisplay\n",
    "from sklearn.tree import plot_tree\n",
    "\n",
    "import shap\n",
    "import joblib\n",
    "from tqdm import tqdm"
   ]
  },
  {
   "cell_type": "code",
   "execution_count": null,
   "metadata": {
    "colab": {
     "base_uri": "https://localhost:8080/"
    },
    "id": "Bq3OWeM43YZ4",
    "outputId": "e43ddcde-d9a3-44b8-c2f0-623ad1c771d6"
   },
   "outputs": [
    {
     "name": "stdout",
     "output_type": "stream",
     "text": [
      "Drive already mounted at /content/drive; to attempt to forcibly remount, call drive.mount(\"/content/drive\", force_remount=True).\n"
     ]
    }
   ],
   "source": [
    "# Mount GDrive folders\n",
    "from google.colab import drive\n",
    "drive.mount('/content/drive')"
   ]
  },
  {
   "cell_type": "code",
   "execution_count": null,
   "metadata": {
    "id": "fw6V2riz3YXY"
   },
   "outputs": [],
   "source": [
    "# Set home directory\n",
    "import os\n",
    "home_dir = \"drive/MyDrive/Eskwelabs\"\n",
    "os.chdir(home_dir)"
   ]
  },
  {
   "cell_type": "markdown",
   "metadata": {
    "id": "u2xjQkLs2wl1"
   },
   "source": [
    "## 1. Read and check values of playlist sets"
   ]
  },
  {
   "cell_type": "markdown",
   "metadata": {
    "id": "eS6dg2t02wl1"
   },
   "source": [
    "### 1.1. Set genres for prediction"
   ]
  },
  {
   "cell_type": "code",
   "execution_count": null,
   "metadata": {
    "id": "OdtxShjz2wl1"
   },
   "outputs": [],
   "source": [
    "genre_names = ['R&B', 'Electronic', 'Jazz', 'Rap', 'Rock']"
   ]
  },
  {
   "cell_type": "markdown",
   "metadata": {
    "id": "P2ChqDxQ2wl1"
   },
   "source": [
    "### 1.2. Read and check tracks data for each genre"
   ]
  },
  {
   "cell_type": "markdown",
   "metadata": {
    "id": "jlgrycM12wl2"
   },
   "source": [
    "Collect genre playlist data"
   ]
  },
  {
   "cell_type": "code",
   "execution_count": null,
   "metadata": {
    "colab": {
     "base_uri": "https://localhost:8080/"
    },
    "id": "gKSaTrnN2wl2",
    "outputId": "5eb20471-866e-42f7-b774-d480424d8c6e"
   },
   "outputs": [
    {
     "name": "stderr",
     "output_type": "stream",
     "text": [
      "100%|██████████| 5/5 [00:00<00:00, 40.51it/s]\n"
     ]
    }
   ],
   "source": [
    "playlist_df_list = []\n",
    "for genre in tqdm(genre_names):\n",
    "    pdf = pd.read_csv('data/playlists/'+genre.lower()+'_playlist_data.csv')\n",
    "    pdf['genre'] = genre.lower()\n",
    "    playlist_df_list.append(pdf)"
   ]
  },
  {
   "cell_type": "markdown",
   "metadata": {
    "id": "ohHoNZ2n2wl2"
   },
   "source": [
    "Collect genre track data"
   ]
  },
  {
   "cell_type": "code",
   "execution_count": null,
   "metadata": {
    "colab": {
     "base_uri": "https://localhost:8080/"
    },
    "id": "m6CR_PLV2wl2",
    "outputId": "ead65812-8d6c-4ae2-e8b4-0de1baa89e14"
   },
   "outputs": [
    {
     "name": "stderr",
     "output_type": "stream",
     "text": [
      "100%|██████████| 5/5 [00:00<00:00, 19.69it/s]\n"
     ]
    }
   ],
   "source": [
    "track_df_list = []\n",
    "for genre in tqdm(genre_names):\n",
    "    tdf = pd.read_csv('data/playlists/'+genre.lower()+'_playlist_tracks_data.csv')\n",
    "    tdf = tdf[~tdf.duplicated(subset=['track_id'])]\n",
    "    tdf['genre'] =  genre.lower()\n",
    "    track_df_list.append(tdf)"
   ]
  },
  {
   "cell_type": "markdown",
   "metadata": {
    "id": "yQFsoLgA2wl2"
   },
   "source": [
    "Concatenate playlist data"
   ]
  },
  {
   "cell_type": "code",
   "execution_count": null,
   "metadata": {
    "colab": {
     "base_uri": "https://localhost:8080/",
     "height": 206
    },
    "id": "VH_xEyqZ2wl2",
    "outputId": "123d992a-7c0a-45e2-9774-85dd4eb26edd"
   },
   "outputs": [
    {
     "data": {
      "text/html": [
       "\n",
       "  <div id=\"df-8cdf2d54-3357-47c3-84d3-4855b2611421\" class=\"colab-df-container\">\n",
       "    <div>\n",
       "<style scoped>\n",
       "    .dataframe tbody tr th:only-of-type {\n",
       "        vertical-align: middle;\n",
       "    }\n",
       "\n",
       "    .dataframe tbody tr th {\n",
       "        vertical-align: top;\n",
       "    }\n",
       "\n",
       "    .dataframe thead th {\n",
       "        text-align: right;\n",
       "    }\n",
       "</style>\n",
       "<table border=\"1\" class=\"dataframe\">\n",
       "  <thead>\n",
       "    <tr style=\"text-align: right;\">\n",
       "      <th></th>\n",
       "      <th>playlist_id</th>\n",
       "      <th>playlist_name</th>\n",
       "      <th>playlist_total_tracks</th>\n",
       "      <th>owner_id</th>\n",
       "      <th>owner_name</th>\n",
       "      <th>total_followers</th>\n",
       "      <th>genre</th>\n",
       "    </tr>\n",
       "  </thead>\n",
       "  <tbody>\n",
       "    <tr>\n",
       "      <th>0</th>\n",
       "      <td>37i9dQZF1DWYmmr74INQlb</td>\n",
       "      <td>I Love My '00s R&amp;B</td>\n",
       "      <td>40</td>\n",
       "      <td>spotify</td>\n",
       "      <td>Spotify</td>\n",
       "      <td>3759509</td>\n",
       "      <td>r&amp;b</td>\n",
       "    </tr>\n",
       "    <tr>\n",
       "      <th>1</th>\n",
       "      <td>37i9dQZF1DX6VDO8a6cQME</td>\n",
       "      <td>I Love My '90s R&amp;B</td>\n",
       "      <td>45</td>\n",
       "      <td>spotify</td>\n",
       "      <td>Spotify</td>\n",
       "      <td>2762610</td>\n",
       "      <td>r&amp;b</td>\n",
       "    </tr>\n",
       "    <tr>\n",
       "      <th>2</th>\n",
       "      <td>37i9dQZF1DX2UgsUIg75Vg</td>\n",
       "      <td>Chilled R&amp;B</td>\n",
       "      <td>50</td>\n",
       "      <td>spotify</td>\n",
       "      <td>Spotify</td>\n",
       "      <td>2188378</td>\n",
       "      <td>r&amp;b</td>\n",
       "    </tr>\n",
       "    <tr>\n",
       "      <th>3</th>\n",
       "      <td>37i9dQZF1DWSfMe9z89s9B</td>\n",
       "      <td>Alternative R&amp;B</td>\n",
       "      <td>100</td>\n",
       "      <td>spotify</td>\n",
       "      <td>Spotify</td>\n",
       "      <td>1175872</td>\n",
       "      <td>r&amp;b</td>\n",
       "    </tr>\n",
       "    <tr>\n",
       "      <th>4</th>\n",
       "      <td>37i9dQZF1EQoqCH7BwIYb7</td>\n",
       "      <td>R&amp;B Mix</td>\n",
       "      <td>50</td>\n",
       "      <td>spotify</td>\n",
       "      <td>Spotify</td>\n",
       "      <td>883491</td>\n",
       "      <td>r&amp;b</td>\n",
       "    </tr>\n",
       "  </tbody>\n",
       "</table>\n",
       "</div>\n",
       "    <div class=\"colab-df-buttons\">\n",
       "\n",
       "  <div class=\"colab-df-container\">\n",
       "    <button class=\"colab-df-convert\" onclick=\"convertToInteractive('df-8cdf2d54-3357-47c3-84d3-4855b2611421')\"\n",
       "            title=\"Convert this dataframe to an interactive table.\"\n",
       "            style=\"display:none;\">\n",
       "\n",
       "  <svg xmlns=\"http://www.w3.org/2000/svg\" height=\"24px\" viewBox=\"0 -960 960 960\">\n",
       "    <path d=\"M120-120v-720h720v720H120Zm60-500h600v-160H180v160Zm220 220h160v-160H400v160Zm0 220h160v-160H400v160ZM180-400h160v-160H180v160Zm440 0h160v-160H620v160ZM180-180h160v-160H180v160Zm440 0h160v-160H620v160Z\"/>\n",
       "  </svg>\n",
       "    </button>\n",
       "\n",
       "  <style>\n",
       "    .colab-df-container {\n",
       "      display:flex;\n",
       "      gap: 12px;\n",
       "    }\n",
       "\n",
       "    .colab-df-convert {\n",
       "      background-color: #E8F0FE;\n",
       "      border: none;\n",
       "      border-radius: 50%;\n",
       "      cursor: pointer;\n",
       "      display: none;\n",
       "      fill: #1967D2;\n",
       "      height: 32px;\n",
       "      padding: 0 0 0 0;\n",
       "      width: 32px;\n",
       "    }\n",
       "\n",
       "    .colab-df-convert:hover {\n",
       "      background-color: #E2EBFA;\n",
       "      box-shadow: 0px 1px 2px rgba(60, 64, 67, 0.3), 0px 1px 3px 1px rgba(60, 64, 67, 0.15);\n",
       "      fill: #174EA6;\n",
       "    }\n",
       "\n",
       "    .colab-df-buttons div {\n",
       "      margin-bottom: 4px;\n",
       "    }\n",
       "\n",
       "    [theme=dark] .colab-df-convert {\n",
       "      background-color: #3B4455;\n",
       "      fill: #D2E3FC;\n",
       "    }\n",
       "\n",
       "    [theme=dark] .colab-df-convert:hover {\n",
       "      background-color: #434B5C;\n",
       "      box-shadow: 0px 1px 3px 1px rgba(0, 0, 0, 0.15);\n",
       "      filter: drop-shadow(0px 1px 2px rgba(0, 0, 0, 0.3));\n",
       "      fill: #FFFFFF;\n",
       "    }\n",
       "  </style>\n",
       "\n",
       "    <script>\n",
       "      const buttonEl =\n",
       "        document.querySelector('#df-8cdf2d54-3357-47c3-84d3-4855b2611421 button.colab-df-convert');\n",
       "      buttonEl.style.display =\n",
       "        google.colab.kernel.accessAllowed ? 'block' : 'none';\n",
       "\n",
       "      async function convertToInteractive(key) {\n",
       "        const element = document.querySelector('#df-8cdf2d54-3357-47c3-84d3-4855b2611421');\n",
       "        const dataTable =\n",
       "          await google.colab.kernel.invokeFunction('convertToInteractive',\n",
       "                                                    [key], {});\n",
       "        if (!dataTable) return;\n",
       "\n",
       "        const docLinkHtml = 'Like what you see? Visit the ' +\n",
       "          '<a target=\"_blank\" href=https://colab.research.google.com/notebooks/data_table.ipynb>data table notebook</a>'\n",
       "          + ' to learn more about interactive tables.';\n",
       "        element.innerHTML = '';\n",
       "        dataTable['output_type'] = 'display_data';\n",
       "        await google.colab.output.renderOutput(dataTable, element);\n",
       "        const docLink = document.createElement('div');\n",
       "        docLink.innerHTML = docLinkHtml;\n",
       "        element.appendChild(docLink);\n",
       "      }\n",
       "    </script>\n",
       "  </div>\n",
       "\n",
       "\n",
       "<div id=\"df-acf6c51f-51a9-43cc-bbd9-e18ac1ab04d8\">\n",
       "  <button class=\"colab-df-quickchart\" onclick=\"quickchart('df-acf6c51f-51a9-43cc-bbd9-e18ac1ab04d8')\"\n",
       "            title=\"Suggest charts.\"\n",
       "            style=\"display:none;\">\n",
       "\n",
       "<svg xmlns=\"http://www.w3.org/2000/svg\" height=\"24px\"viewBox=\"0 0 24 24\"\n",
       "     width=\"24px\">\n",
       "    <g>\n",
       "        <path d=\"M19 3H5c-1.1 0-2 .9-2 2v14c0 1.1.9 2 2 2h14c1.1 0 2-.9 2-2V5c0-1.1-.9-2-2-2zM9 17H7v-7h2v7zm4 0h-2V7h2v10zm4 0h-2v-4h2v4z\"/>\n",
       "    </g>\n",
       "</svg>\n",
       "  </button>\n",
       "\n",
       "<style>\n",
       "  .colab-df-quickchart {\n",
       "      --bg-color: #E8F0FE;\n",
       "      --fill-color: #1967D2;\n",
       "      --hover-bg-color: #E2EBFA;\n",
       "      --hover-fill-color: #174EA6;\n",
       "      --disabled-fill-color: #AAA;\n",
       "      --disabled-bg-color: #DDD;\n",
       "  }\n",
       "\n",
       "  [theme=dark] .colab-df-quickchart {\n",
       "      --bg-color: #3B4455;\n",
       "      --fill-color: #D2E3FC;\n",
       "      --hover-bg-color: #434B5C;\n",
       "      --hover-fill-color: #FFFFFF;\n",
       "      --disabled-bg-color: #3B4455;\n",
       "      --disabled-fill-color: #666;\n",
       "  }\n",
       "\n",
       "  .colab-df-quickchart {\n",
       "    background-color: var(--bg-color);\n",
       "    border: none;\n",
       "    border-radius: 50%;\n",
       "    cursor: pointer;\n",
       "    display: none;\n",
       "    fill: var(--fill-color);\n",
       "    height: 32px;\n",
       "    padding: 0;\n",
       "    width: 32px;\n",
       "  }\n",
       "\n",
       "  .colab-df-quickchart:hover {\n",
       "    background-color: var(--hover-bg-color);\n",
       "    box-shadow: 0 1px 2px rgba(60, 64, 67, 0.3), 0 1px 3px 1px rgba(60, 64, 67, 0.15);\n",
       "    fill: var(--button-hover-fill-color);\n",
       "  }\n",
       "\n",
       "  .colab-df-quickchart-complete:disabled,\n",
       "  .colab-df-quickchart-complete:disabled:hover {\n",
       "    background-color: var(--disabled-bg-color);\n",
       "    fill: var(--disabled-fill-color);\n",
       "    box-shadow: none;\n",
       "  }\n",
       "\n",
       "  .colab-df-spinner {\n",
       "    border: 2px solid var(--fill-color);\n",
       "    border-color: transparent;\n",
       "    border-bottom-color: var(--fill-color);\n",
       "    animation:\n",
       "      spin 1s steps(1) infinite;\n",
       "  }\n",
       "\n",
       "  @keyframes spin {\n",
       "    0% {\n",
       "      border-color: transparent;\n",
       "      border-bottom-color: var(--fill-color);\n",
       "      border-left-color: var(--fill-color);\n",
       "    }\n",
       "    20% {\n",
       "      border-color: transparent;\n",
       "      border-left-color: var(--fill-color);\n",
       "      border-top-color: var(--fill-color);\n",
       "    }\n",
       "    30% {\n",
       "      border-color: transparent;\n",
       "      border-left-color: var(--fill-color);\n",
       "      border-top-color: var(--fill-color);\n",
       "      border-right-color: var(--fill-color);\n",
       "    }\n",
       "    40% {\n",
       "      border-color: transparent;\n",
       "      border-right-color: var(--fill-color);\n",
       "      border-top-color: var(--fill-color);\n",
       "    }\n",
       "    60% {\n",
       "      border-color: transparent;\n",
       "      border-right-color: var(--fill-color);\n",
       "    }\n",
       "    80% {\n",
       "      border-color: transparent;\n",
       "      border-right-color: var(--fill-color);\n",
       "      border-bottom-color: var(--fill-color);\n",
       "    }\n",
       "    90% {\n",
       "      border-color: transparent;\n",
       "      border-bottom-color: var(--fill-color);\n",
       "    }\n",
       "  }\n",
       "</style>\n",
       "\n",
       "  <script>\n",
       "    async function quickchart(key) {\n",
       "      const quickchartButtonEl =\n",
       "        document.querySelector('#' + key + ' button');\n",
       "      quickchartButtonEl.disabled = true;  // To prevent multiple clicks.\n",
       "      quickchartButtonEl.classList.add('colab-df-spinner');\n",
       "      try {\n",
       "        const charts = await google.colab.kernel.invokeFunction(\n",
       "            'suggestCharts', [key], {});\n",
       "      } catch (error) {\n",
       "        console.error('Error during call to suggestCharts:', error);\n",
       "      }\n",
       "      quickchartButtonEl.classList.remove('colab-df-spinner');\n",
       "      quickchartButtonEl.classList.add('colab-df-quickchart-complete');\n",
       "    }\n",
       "    (() => {\n",
       "      let quickchartButtonEl =\n",
       "        document.querySelector('#df-acf6c51f-51a9-43cc-bbd9-e18ac1ab04d8 button');\n",
       "      quickchartButtonEl.style.display =\n",
       "        google.colab.kernel.accessAllowed ? 'block' : 'none';\n",
       "    })();\n",
       "  </script>\n",
       "</div>\n",
       "    </div>\n",
       "  </div>\n"
      ],
      "text/plain": [
       "              playlist_id       playlist_name  playlist_total_tracks owner_id  \\\n",
       "0  37i9dQZF1DWYmmr74INQlb  I Love My '00s R&B                     40  spotify   \n",
       "1  37i9dQZF1DX6VDO8a6cQME  I Love My '90s R&B                     45  spotify   \n",
       "2  37i9dQZF1DX2UgsUIg75Vg         Chilled R&B                     50  spotify   \n",
       "3  37i9dQZF1DWSfMe9z89s9B     Alternative R&B                    100  spotify   \n",
       "4  37i9dQZF1EQoqCH7BwIYb7             R&B Mix                     50  spotify   \n",
       "\n",
       "  owner_name  total_followers genre  \n",
       "0    Spotify          3759509   r&b  \n",
       "1    Spotify          2762610   r&b  \n",
       "2    Spotify          2188378   r&b  \n",
       "3    Spotify          1175872   r&b  \n",
       "4    Spotify           883491   r&b  "
      ]
     },
     "execution_count": 10,
     "metadata": {},
     "output_type": "execute_result"
    }
   ],
   "source": [
    "playlist_df = pd.concat(playlist_df_list)\n",
    "playlist_df.head()"
   ]
  },
  {
   "cell_type": "code",
   "execution_count": null,
   "metadata": {
    "colab": {
     "base_uri": "https://localhost:8080/"
    },
    "id": "rYY8JcLF2wl2",
    "outputId": "84408da0-1058-45c0-926e-dfffdfdec563"
   },
   "outputs": [
    {
     "name": "stdout",
     "output_type": "stream",
     "text": [
      "<class 'pandas.core.frame.DataFrame'>\n",
      "Int64Index: 428 entries, 0 to 96\n",
      "Data columns (total 7 columns):\n",
      " #   Column                 Non-Null Count  Dtype \n",
      "---  ------                 --------------  ----- \n",
      " 0   playlist_id            428 non-null    object\n",
      " 1   playlist_name          428 non-null    object\n",
      " 2   playlist_total_tracks  428 non-null    int64 \n",
      " 3   owner_id               428 non-null    object\n",
      " 4   owner_name             428 non-null    object\n",
      " 5   total_followers        428 non-null    int64 \n",
      " 6   genre                  428 non-null    object\n",
      "dtypes: int64(2), object(5)\n",
      "memory usage: 26.8+ KB\n"
     ]
    }
   ],
   "source": [
    "playlist_df.info()"
   ]
  },
  {
   "cell_type": "markdown",
   "metadata": {
    "id": "DFyXY6A42wl2"
   },
   "source": [
    "Get genre playlist tally"
   ]
  },
  {
   "cell_type": "code",
   "execution_count": null,
   "metadata": {
    "colab": {
     "base_uri": "https://localhost:8080/"
    },
    "id": "iLvQ7Md82wl2",
    "outputId": "e976868b-46fc-4c4a-c9a1-519a79bc8815"
   },
   "outputs": [
    {
     "data": {
      "text/plain": [
       "jazz          100\n",
       "rock           97\n",
       "rap            92\n",
       "electronic     71\n",
       "r&b            68\n",
       "Name: genre, dtype: int64"
      ]
     },
     "execution_count": 12,
     "metadata": {},
     "output_type": "execute_result"
    }
   ],
   "source": [
    "playlist_df['genre'].value_counts()"
   ]
  },
  {
   "cell_type": "markdown",
   "metadata": {
    "id": "AEThfflD2wl2"
   },
   "source": [
    "Concatenate playlist data"
   ]
  },
  {
   "cell_type": "code",
   "execution_count": null,
   "metadata": {
    "colab": {
     "base_uri": "https://localhost:8080/",
     "height": 446
    },
    "id": "LP0bpxyP2wl2",
    "outputId": "71c96ad7-c1e6-4280-cabd-0a523e50e540"
   },
   "outputs": [
    {
     "data": {
      "text/html": [
       "\n",
       "  <div id=\"df-f17b80aa-0a30-4b31-947e-f3f12ea11121\" class=\"colab-df-container\">\n",
       "    <div>\n",
       "<style scoped>\n",
       "    .dataframe tbody tr th:only-of-type {\n",
       "        vertical-align: middle;\n",
       "    }\n",
       "\n",
       "    .dataframe tbody tr th {\n",
       "        vertical-align: top;\n",
       "    }\n",
       "\n",
       "    .dataframe thead th {\n",
       "        text-align: right;\n",
       "    }\n",
       "</style>\n",
       "<table border=\"1\" class=\"dataframe\">\n",
       "  <thead>\n",
       "    <tr style=\"text-align: right;\">\n",
       "      <th></th>\n",
       "      <th>track_id</th>\n",
       "      <th>track_name</th>\n",
       "      <th>artist_id</th>\n",
       "      <th>artist_name</th>\n",
       "      <th>album_id</th>\n",
       "      <th>duration</th>\n",
       "      <th>release_date</th>\n",
       "      <th>popularity</th>\n",
       "      <th>danceability</th>\n",
       "      <th>energy</th>\n",
       "      <th>...</th>\n",
       "      <th>mode</th>\n",
       "      <th>speechiness</th>\n",
       "      <th>acousticness</th>\n",
       "      <th>instrumentalness</th>\n",
       "      <th>liveness</th>\n",
       "      <th>valence</th>\n",
       "      <th>tempo</th>\n",
       "      <th>playlist_id</th>\n",
       "      <th>playlist_name</th>\n",
       "      <th>genre</th>\n",
       "    </tr>\n",
       "  </thead>\n",
       "  <tbody>\n",
       "    <tr>\n",
       "      <th>0</th>\n",
       "      <td>2c7huQpWR29bcXrrvLcG2j</td>\n",
       "      <td>We Need A Resolution (feat. Timbaland)</td>\n",
       "      <td>0urTpYCsixqZwgNTkPJOJ4</td>\n",
       "      <td>Aaliyah</td>\n",
       "      <td>0cNaDPtbHC1PMJMRTY2GFc</td>\n",
       "      <td>242826</td>\n",
       "      <td>2001-07-07</td>\n",
       "      <td>64</td>\n",
       "      <td>0.728</td>\n",
       "      <td>0.512</td>\n",
       "      <td>...</td>\n",
       "      <td>0</td>\n",
       "      <td>0.2900</td>\n",
       "      <td>0.3000</td>\n",
       "      <td>0.000000</td>\n",
       "      <td>0.113</td>\n",
       "      <td>0.824</td>\n",
       "      <td>147.170</td>\n",
       "      <td>37i9dQZF1DWYmmr74INQlb</td>\n",
       "      <td>I Love My '00s R&amp;B</td>\n",
       "      <td>r&amp;b</td>\n",
       "    </tr>\n",
       "    <tr>\n",
       "      <th>1</th>\n",
       "      <td>0ceeRNqbOzRiGE42KWSrRa</td>\n",
       "      <td>Into You (feat. Fabolous)</td>\n",
       "      <td>0le01dl1WllSHhjEXRl4in</td>\n",
       "      <td>Tamia</td>\n",
       "      <td>43QuYbSfbTjcsghwJyUnyP</td>\n",
       "      <td>294093</td>\n",
       "      <td>2004-04-05</td>\n",
       "      <td>61</td>\n",
       "      <td>0.677</td>\n",
       "      <td>0.531</td>\n",
       "      <td>...</td>\n",
       "      <td>0</td>\n",
       "      <td>0.0327</td>\n",
       "      <td>0.2190</td>\n",
       "      <td>0.000000</td>\n",
       "      <td>0.173</td>\n",
       "      <td>0.570</td>\n",
       "      <td>91.104</td>\n",
       "      <td>37i9dQZF1DWYmmr74INQlb</td>\n",
       "      <td>I Love My '00s R&amp;B</td>\n",
       "      <td>r&amp;b</td>\n",
       "    </tr>\n",
       "    <tr>\n",
       "      <th>2</th>\n",
       "      <td>4iuNZTcvT9diFySSzVsnVS</td>\n",
       "      <td>When I See U</td>\n",
       "      <td>7xAcVHPiirnUqfdqo0USb1</td>\n",
       "      <td>Fantasia</td>\n",
       "      <td>42DybH3gl3WcfXAQySOEiX</td>\n",
       "      <td>217346</td>\n",
       "      <td>2006-12-09</td>\n",
       "      <td>71</td>\n",
       "      <td>0.569</td>\n",
       "      <td>0.596</td>\n",
       "      <td>...</td>\n",
       "      <td>1</td>\n",
       "      <td>0.1720</td>\n",
       "      <td>0.4520</td>\n",
       "      <td>0.000079</td>\n",
       "      <td>0.205</td>\n",
       "      <td>0.754</td>\n",
       "      <td>93.135</td>\n",
       "      <td>37i9dQZF1DWYmmr74INQlb</td>\n",
       "      <td>I Love My '00s R&amp;B</td>\n",
       "      <td>r&amp;b</td>\n",
       "    </tr>\n",
       "    <tr>\n",
       "      <th>4</th>\n",
       "      <td>2RqZFOLOnzVmHUX7ZMcaES</td>\n",
       "      <td>Let It Go</td>\n",
       "      <td>1vfezMIyCr4XUdYRaKIKi3</td>\n",
       "      <td>Keyshia Cole</td>\n",
       "      <td>7mdy09EO4q6F9VWBtXDDjK</td>\n",
       "      <td>238333</td>\n",
       "      <td>2007-01-01</td>\n",
       "      <td>67</td>\n",
       "      <td>0.806</td>\n",
       "      <td>0.721</td>\n",
       "      <td>...</td>\n",
       "      <td>0</td>\n",
       "      <td>0.2150</td>\n",
       "      <td>0.1970</td>\n",
       "      <td>0.000000</td>\n",
       "      <td>0.209</td>\n",
       "      <td>0.781</td>\n",
       "      <td>94.967</td>\n",
       "      <td>37i9dQZF1DWYmmr74INQlb</td>\n",
       "      <td>I Love My '00s R&amp;B</td>\n",
       "      <td>r&amp;b</td>\n",
       "    </tr>\n",
       "    <tr>\n",
       "      <th>5</th>\n",
       "      <td>6nTcn8CybBcx0t7IaXEJ6O</td>\n",
       "      <td>Thank God I Found You (feat. Joe &amp; Nas) - Make...</td>\n",
       "      <td>4iHNK0tOyZPYnBU7nGAgpQ</td>\n",
       "      <td>Mariah Carey</td>\n",
       "      <td>6zuCJaxmHKNKN5hMDF556U</td>\n",
       "      <td>251640</td>\n",
       "      <td>2000-04-18</td>\n",
       "      <td>60</td>\n",
       "      <td>0.608</td>\n",
       "      <td>0.760</td>\n",
       "      <td>...</td>\n",
       "      <td>0</td>\n",
       "      <td>0.2420</td>\n",
       "      <td>0.0129</td>\n",
       "      <td>0.000000</td>\n",
       "      <td>0.332</td>\n",
       "      <td>0.366</td>\n",
       "      <td>168.211</td>\n",
       "      <td>37i9dQZF1DWYmmr74INQlb</td>\n",
       "      <td>I Love My '00s R&amp;B</td>\n",
       "      <td>r&amp;b</td>\n",
       "    </tr>\n",
       "  </tbody>\n",
       "</table>\n",
       "<p>5 rows × 22 columns</p>\n",
       "</div>\n",
       "    <div class=\"colab-df-buttons\">\n",
       "\n",
       "  <div class=\"colab-df-container\">\n",
       "    <button class=\"colab-df-convert\" onclick=\"convertToInteractive('df-f17b80aa-0a30-4b31-947e-f3f12ea11121')\"\n",
       "            title=\"Convert this dataframe to an interactive table.\"\n",
       "            style=\"display:none;\">\n",
       "\n",
       "  <svg xmlns=\"http://www.w3.org/2000/svg\" height=\"24px\" viewBox=\"0 -960 960 960\">\n",
       "    <path d=\"M120-120v-720h720v720H120Zm60-500h600v-160H180v160Zm220 220h160v-160H400v160Zm0 220h160v-160H400v160ZM180-400h160v-160H180v160Zm440 0h160v-160H620v160ZM180-180h160v-160H180v160Zm440 0h160v-160H620v160Z\"/>\n",
       "  </svg>\n",
       "    </button>\n",
       "\n",
       "  <style>\n",
       "    .colab-df-container {\n",
       "      display:flex;\n",
       "      gap: 12px;\n",
       "    }\n",
       "\n",
       "    .colab-df-convert {\n",
       "      background-color: #E8F0FE;\n",
       "      border: none;\n",
       "      border-radius: 50%;\n",
       "      cursor: pointer;\n",
       "      display: none;\n",
       "      fill: #1967D2;\n",
       "      height: 32px;\n",
       "      padding: 0 0 0 0;\n",
       "      width: 32px;\n",
       "    }\n",
       "\n",
       "    .colab-df-convert:hover {\n",
       "      background-color: #E2EBFA;\n",
       "      box-shadow: 0px 1px 2px rgba(60, 64, 67, 0.3), 0px 1px 3px 1px rgba(60, 64, 67, 0.15);\n",
       "      fill: #174EA6;\n",
       "    }\n",
       "\n",
       "    .colab-df-buttons div {\n",
       "      margin-bottom: 4px;\n",
       "    }\n",
       "\n",
       "    [theme=dark] .colab-df-convert {\n",
       "      background-color: #3B4455;\n",
       "      fill: #D2E3FC;\n",
       "    }\n",
       "\n",
       "    [theme=dark] .colab-df-convert:hover {\n",
       "      background-color: #434B5C;\n",
       "      box-shadow: 0px 1px 3px 1px rgba(0, 0, 0, 0.15);\n",
       "      filter: drop-shadow(0px 1px 2px rgba(0, 0, 0, 0.3));\n",
       "      fill: #FFFFFF;\n",
       "    }\n",
       "  </style>\n",
       "\n",
       "    <script>\n",
       "      const buttonEl =\n",
       "        document.querySelector('#df-f17b80aa-0a30-4b31-947e-f3f12ea11121 button.colab-df-convert');\n",
       "      buttonEl.style.display =\n",
       "        google.colab.kernel.accessAllowed ? 'block' : 'none';\n",
       "\n",
       "      async function convertToInteractive(key) {\n",
       "        const element = document.querySelector('#df-f17b80aa-0a30-4b31-947e-f3f12ea11121');\n",
       "        const dataTable =\n",
       "          await google.colab.kernel.invokeFunction('convertToInteractive',\n",
       "                                                    [key], {});\n",
       "        if (!dataTable) return;\n",
       "\n",
       "        const docLinkHtml = 'Like what you see? Visit the ' +\n",
       "          '<a target=\"_blank\" href=https://colab.research.google.com/notebooks/data_table.ipynb>data table notebook</a>'\n",
       "          + ' to learn more about interactive tables.';\n",
       "        element.innerHTML = '';\n",
       "        dataTable['output_type'] = 'display_data';\n",
       "        await google.colab.output.renderOutput(dataTable, element);\n",
       "        const docLink = document.createElement('div');\n",
       "        docLink.innerHTML = docLinkHtml;\n",
       "        element.appendChild(docLink);\n",
       "      }\n",
       "    </script>\n",
       "  </div>\n",
       "\n",
       "\n",
       "<div id=\"df-25bba4c9-c268-4e2c-8c21-8691138cbe13\">\n",
       "  <button class=\"colab-df-quickchart\" onclick=\"quickchart('df-25bba4c9-c268-4e2c-8c21-8691138cbe13')\"\n",
       "            title=\"Suggest charts.\"\n",
       "            style=\"display:none;\">\n",
       "\n",
       "<svg xmlns=\"http://www.w3.org/2000/svg\" height=\"24px\"viewBox=\"0 0 24 24\"\n",
       "     width=\"24px\">\n",
       "    <g>\n",
       "        <path d=\"M19 3H5c-1.1 0-2 .9-2 2v14c0 1.1.9 2 2 2h14c1.1 0 2-.9 2-2V5c0-1.1-.9-2-2-2zM9 17H7v-7h2v7zm4 0h-2V7h2v10zm4 0h-2v-4h2v4z\"/>\n",
       "    </g>\n",
       "</svg>\n",
       "  </button>\n",
       "\n",
       "<style>\n",
       "  .colab-df-quickchart {\n",
       "      --bg-color: #E8F0FE;\n",
       "      --fill-color: #1967D2;\n",
       "      --hover-bg-color: #E2EBFA;\n",
       "      --hover-fill-color: #174EA6;\n",
       "      --disabled-fill-color: #AAA;\n",
       "      --disabled-bg-color: #DDD;\n",
       "  }\n",
       "\n",
       "  [theme=dark] .colab-df-quickchart {\n",
       "      --bg-color: #3B4455;\n",
       "      --fill-color: #D2E3FC;\n",
       "      --hover-bg-color: #434B5C;\n",
       "      --hover-fill-color: #FFFFFF;\n",
       "      --disabled-bg-color: #3B4455;\n",
       "      --disabled-fill-color: #666;\n",
       "  }\n",
       "\n",
       "  .colab-df-quickchart {\n",
       "    background-color: var(--bg-color);\n",
       "    border: none;\n",
       "    border-radius: 50%;\n",
       "    cursor: pointer;\n",
       "    display: none;\n",
       "    fill: var(--fill-color);\n",
       "    height: 32px;\n",
       "    padding: 0;\n",
       "    width: 32px;\n",
       "  }\n",
       "\n",
       "  .colab-df-quickchart:hover {\n",
       "    background-color: var(--hover-bg-color);\n",
       "    box-shadow: 0 1px 2px rgba(60, 64, 67, 0.3), 0 1px 3px 1px rgba(60, 64, 67, 0.15);\n",
       "    fill: var(--button-hover-fill-color);\n",
       "  }\n",
       "\n",
       "  .colab-df-quickchart-complete:disabled,\n",
       "  .colab-df-quickchart-complete:disabled:hover {\n",
       "    background-color: var(--disabled-bg-color);\n",
       "    fill: var(--disabled-fill-color);\n",
       "    box-shadow: none;\n",
       "  }\n",
       "\n",
       "  .colab-df-spinner {\n",
       "    border: 2px solid var(--fill-color);\n",
       "    border-color: transparent;\n",
       "    border-bottom-color: var(--fill-color);\n",
       "    animation:\n",
       "      spin 1s steps(1) infinite;\n",
       "  }\n",
       "\n",
       "  @keyframes spin {\n",
       "    0% {\n",
       "      border-color: transparent;\n",
       "      border-bottom-color: var(--fill-color);\n",
       "      border-left-color: var(--fill-color);\n",
       "    }\n",
       "    20% {\n",
       "      border-color: transparent;\n",
       "      border-left-color: var(--fill-color);\n",
       "      border-top-color: var(--fill-color);\n",
       "    }\n",
       "    30% {\n",
       "      border-color: transparent;\n",
       "      border-left-color: var(--fill-color);\n",
       "      border-top-color: var(--fill-color);\n",
       "      border-right-color: var(--fill-color);\n",
       "    }\n",
       "    40% {\n",
       "      border-color: transparent;\n",
       "      border-right-color: var(--fill-color);\n",
       "      border-top-color: var(--fill-color);\n",
       "    }\n",
       "    60% {\n",
       "      border-color: transparent;\n",
       "      border-right-color: var(--fill-color);\n",
       "    }\n",
       "    80% {\n",
       "      border-color: transparent;\n",
       "      border-right-color: var(--fill-color);\n",
       "      border-bottom-color: var(--fill-color);\n",
       "    }\n",
       "    90% {\n",
       "      border-color: transparent;\n",
       "      border-bottom-color: var(--fill-color);\n",
       "    }\n",
       "  }\n",
       "</style>\n",
       "\n",
       "  <script>\n",
       "    async function quickchart(key) {\n",
       "      const quickchartButtonEl =\n",
       "        document.querySelector('#' + key + ' button');\n",
       "      quickchartButtonEl.disabled = true;  // To prevent multiple clicks.\n",
       "      quickchartButtonEl.classList.add('colab-df-spinner');\n",
       "      try {\n",
       "        const charts = await google.colab.kernel.invokeFunction(\n",
       "            'suggestCharts', [key], {});\n",
       "      } catch (error) {\n",
       "        console.error('Error during call to suggestCharts:', error);\n",
       "      }\n",
       "      quickchartButtonEl.classList.remove('colab-df-spinner');\n",
       "      quickchartButtonEl.classList.add('colab-df-quickchart-complete');\n",
       "    }\n",
       "    (() => {\n",
       "      let quickchartButtonEl =\n",
       "        document.querySelector('#df-25bba4c9-c268-4e2c-8c21-8691138cbe13 button');\n",
       "      quickchartButtonEl.style.display =\n",
       "        google.colab.kernel.accessAllowed ? 'block' : 'none';\n",
       "    })();\n",
       "  </script>\n",
       "</div>\n",
       "    </div>\n",
       "  </div>\n"
      ],
      "text/plain": [
       "                 track_id                                         track_name  \\\n",
       "0  2c7huQpWR29bcXrrvLcG2j             We Need A Resolution (feat. Timbaland)   \n",
       "1  0ceeRNqbOzRiGE42KWSrRa                          Into You (feat. Fabolous)   \n",
       "2  4iuNZTcvT9diFySSzVsnVS                                       When I See U   \n",
       "4  2RqZFOLOnzVmHUX7ZMcaES                                          Let It Go   \n",
       "5  6nTcn8CybBcx0t7IaXEJ6O  Thank God I Found You (feat. Joe & Nas) - Make...   \n",
       "\n",
       "                artist_id   artist_name                album_id  duration  \\\n",
       "0  0urTpYCsixqZwgNTkPJOJ4       Aaliyah  0cNaDPtbHC1PMJMRTY2GFc    242826   \n",
       "1  0le01dl1WllSHhjEXRl4in         Tamia  43QuYbSfbTjcsghwJyUnyP    294093   \n",
       "2  7xAcVHPiirnUqfdqo0USb1      Fantasia  42DybH3gl3WcfXAQySOEiX    217346   \n",
       "4  1vfezMIyCr4XUdYRaKIKi3  Keyshia Cole  7mdy09EO4q6F9VWBtXDDjK    238333   \n",
       "5  4iHNK0tOyZPYnBU7nGAgpQ  Mariah Carey  6zuCJaxmHKNKN5hMDF556U    251640   \n",
       "\n",
       "  release_date  popularity  danceability  energy  ...  mode  speechiness  \\\n",
       "0   2001-07-07          64         0.728   0.512  ...     0       0.2900   \n",
       "1   2004-04-05          61         0.677   0.531  ...     0       0.0327   \n",
       "2   2006-12-09          71         0.569   0.596  ...     1       0.1720   \n",
       "4   2007-01-01          67         0.806   0.721  ...     0       0.2150   \n",
       "5   2000-04-18          60         0.608   0.760  ...     0       0.2420   \n",
       "\n",
       "   acousticness  instrumentalness  liveness  valence    tempo  \\\n",
       "0        0.3000          0.000000     0.113    0.824  147.170   \n",
       "1        0.2190          0.000000     0.173    0.570   91.104   \n",
       "2        0.4520          0.000079     0.205    0.754   93.135   \n",
       "4        0.1970          0.000000     0.209    0.781   94.967   \n",
       "5        0.0129          0.000000     0.332    0.366  168.211   \n",
       "\n",
       "              playlist_id       playlist_name genre  \n",
       "0  37i9dQZF1DWYmmr74INQlb  I Love My '00s R&B   r&b  \n",
       "1  37i9dQZF1DWYmmr74INQlb  I Love My '00s R&B   r&b  \n",
       "2  37i9dQZF1DWYmmr74INQlb  I Love My '00s R&B   r&b  \n",
       "4  37i9dQZF1DWYmmr74INQlb  I Love My '00s R&B   r&b  \n",
       "5  37i9dQZF1DWYmmr74INQlb  I Love My '00s R&B   r&b  \n",
       "\n",
       "[5 rows x 22 columns]"
      ]
     },
     "execution_count": 13,
     "metadata": {},
     "output_type": "execute_result"
    }
   ],
   "source": [
    "tracks_df = pd.concat(track_df_list)\n",
    "tracks_df.head()"
   ]
  },
  {
   "cell_type": "code",
   "execution_count": null,
   "metadata": {
    "colab": {
     "base_uri": "https://localhost:8080/"
    },
    "id": "_d9ysDbm2wl2",
    "outputId": "8125328e-382d-4340-9c08-510778f89770"
   },
   "outputs": [
    {
     "name": "stdout",
     "output_type": "stream",
     "text": [
      "<class 'pandas.core.frame.DataFrame'>\n",
      "Int64Index: 8613 entries, 0 to 2130\n",
      "Data columns (total 22 columns):\n",
      " #   Column            Non-Null Count  Dtype  \n",
      "---  ------            --------------  -----  \n",
      " 0   track_id          8613 non-null   object \n",
      " 1   track_name        8613 non-null   object \n",
      " 2   artist_id         8613 non-null   object \n",
      " 3   artist_name       8613 non-null   object \n",
      " 4   album_id          8613 non-null   object \n",
      " 5   duration          8613 non-null   int64  \n",
      " 6   release_date      8613 non-null   object \n",
      " 7   popularity        8613 non-null   int64  \n",
      " 8   danceability      8613 non-null   float64\n",
      " 9   energy            8613 non-null   float64\n",
      " 10  key               8613 non-null   int64  \n",
      " 11  loudness          8613 non-null   float64\n",
      " 12  mode              8613 non-null   int64  \n",
      " 13  speechiness       8613 non-null   float64\n",
      " 14  acousticness      8613 non-null   float64\n",
      " 15  instrumentalness  8613 non-null   float64\n",
      " 16  liveness          8613 non-null   float64\n",
      " 17  valence           8613 non-null   float64\n",
      " 18  tempo             8613 non-null   float64\n",
      " 19  playlist_id       8613 non-null   object \n",
      " 20  playlist_name     8613 non-null   object \n",
      " 21  genre             8613 non-null   object \n",
      "dtypes: float64(9), int64(4), object(9)\n",
      "memory usage: 1.5+ MB\n"
     ]
    }
   ],
   "source": [
    "tracks_df.info()"
   ]
  },
  {
   "cell_type": "markdown",
   "metadata": {
    "id": "Pr_dl0Mx2wl2"
   },
   "source": [
    "Get genre tracks tally"
   ]
  },
  {
   "cell_type": "code",
   "execution_count": null,
   "metadata": {
    "colab": {
     "base_uri": "https://localhost:8080/"
    },
    "id": "rvhdPZvR2wl2",
    "outputId": "9ea6e44c-ad46-499e-a26b-37cd0c85db2d"
   },
   "outputs": [
    {
     "data": {
      "text/plain": [
       "jazz          2342\n",
       "rock          1877\n",
       "electronic    1874\n",
       "rap           1342\n",
       "r&b           1178\n",
       "Name: genre, dtype: int64"
      ]
     },
     "execution_count": 15,
     "metadata": {},
     "output_type": "execute_result"
    }
   ],
   "source": [
    "tracks_df['genre'].value_counts()"
   ]
  },
  {
   "cell_type": "markdown",
   "metadata": {
    "id": "ZysMhAZI2wl2"
   },
   "source": [
    "## 2. Refine the training data"
   ]
  },
  {
   "cell_type": "markdown",
   "metadata": {
    "id": "qZs2O9S72wl3"
   },
   "source": [
    "**Refinement 1**\n",
    "\n",
    "Get only *top 10 most followed playlists* per genre.\n",
    "\n",
    ">Q: Try out keeping top 15 most followed playlists and see what results youll get."
   ]
  },
  {
   "cell_type": "code",
   "execution_count": null,
   "metadata": {
    "colab": {
     "base_uri": "https://localhost:8080/",
     "height": 424
    },
    "id": "WhvfjbPD2wl3",
    "outputId": "8672b416-cd39-4813-bd17-5ec44a26d82c"
   },
   "outputs": [
    {
     "data": {
      "text/html": [
       "\n",
       "  <div id=\"df-29ad7a76-a4d2-4d0b-be7f-9fa12a4d3343\" class=\"colab-df-container\">\n",
       "    <div>\n",
       "<style scoped>\n",
       "    .dataframe tbody tr th:only-of-type {\n",
       "        vertical-align: middle;\n",
       "    }\n",
       "\n",
       "    .dataframe tbody tr th {\n",
       "        vertical-align: top;\n",
       "    }\n",
       "\n",
       "    .dataframe thead th {\n",
       "        text-align: right;\n",
       "    }\n",
       "</style>\n",
       "<table border=\"1\" class=\"dataframe\">\n",
       "  <thead>\n",
       "    <tr style=\"text-align: right;\">\n",
       "      <th></th>\n",
       "      <th>playlist_id</th>\n",
       "      <th>playlist_name</th>\n",
       "      <th>playlist_total_tracks</th>\n",
       "      <th>owner_id</th>\n",
       "      <th>owner_name</th>\n",
       "      <th>total_followers</th>\n",
       "      <th>genre</th>\n",
       "    </tr>\n",
       "  </thead>\n",
       "  <tbody>\n",
       "    <tr>\n",
       "      <th>0</th>\n",
       "      <td>37i9dQZF1DWYmmr74INQlb</td>\n",
       "      <td>I Love My '00s R&amp;B</td>\n",
       "      <td>40</td>\n",
       "      <td>spotify</td>\n",
       "      <td>Spotify</td>\n",
       "      <td>3759509</td>\n",
       "      <td>r&amp;b</td>\n",
       "    </tr>\n",
       "    <tr>\n",
       "      <th>1</th>\n",
       "      <td>37i9dQZF1DX6VDO8a6cQME</td>\n",
       "      <td>I Love My '90s R&amp;B</td>\n",
       "      <td>45</td>\n",
       "      <td>spotify</td>\n",
       "      <td>Spotify</td>\n",
       "      <td>2762610</td>\n",
       "      <td>r&amp;b</td>\n",
       "    </tr>\n",
       "    <tr>\n",
       "      <th>2</th>\n",
       "      <td>37i9dQZF1DX2UgsUIg75Vg</td>\n",
       "      <td>Chilled R&amp;B</td>\n",
       "      <td>50</td>\n",
       "      <td>spotify</td>\n",
       "      <td>Spotify</td>\n",
       "      <td>2188378</td>\n",
       "      <td>r&amp;b</td>\n",
       "    </tr>\n",
       "    <tr>\n",
       "      <th>3</th>\n",
       "      <td>37i9dQZF1DWSfMe9z89s9B</td>\n",
       "      <td>Alternative R&amp;B</td>\n",
       "      <td>100</td>\n",
       "      <td>spotify</td>\n",
       "      <td>Spotify</td>\n",
       "      <td>1175872</td>\n",
       "      <td>r&amp;b</td>\n",
       "    </tr>\n",
       "    <tr>\n",
       "      <th>4</th>\n",
       "      <td>37i9dQZF1EQoqCH7BwIYb7</td>\n",
       "      <td>R&amp;B Mix</td>\n",
       "      <td>50</td>\n",
       "      <td>spotify</td>\n",
       "      <td>Spotify</td>\n",
       "      <td>883491</td>\n",
       "      <td>r&amp;b</td>\n",
       "    </tr>\n",
       "    <tr>\n",
       "      <th>...</th>\n",
       "      <td>...</td>\n",
       "      <td>...</td>\n",
       "      <td>...</td>\n",
       "      <td>...</td>\n",
       "      <td>...</td>\n",
       "      <td>...</td>\n",
       "      <td>...</td>\n",
       "    </tr>\n",
       "    <tr>\n",
       "      <th>10</th>\n",
       "      <td>37i9dQZF1DWUoqEG4WY6ce</td>\n",
       "      <td>Indie Rock Road Trip</td>\n",
       "      <td>89</td>\n",
       "      <td>spotify</td>\n",
       "      <td>Spotify</td>\n",
       "      <td>762777</td>\n",
       "      <td>rock</td>\n",
       "    </tr>\n",
       "    <tr>\n",
       "      <th>11</th>\n",
       "      <td>37i9dQZF1DX30HHrCAl4ZG</td>\n",
       "      <td>Today's Indie Rock</td>\n",
       "      <td>100</td>\n",
       "      <td>spotify</td>\n",
       "      <td>Spotify</td>\n",
       "      <td>748474</td>\n",
       "      <td>rock</td>\n",
       "    </tr>\n",
       "    <tr>\n",
       "      <th>12</th>\n",
       "      <td>37i9dQZF1DX4vth7idTQch</td>\n",
       "      <td>Rockhymnen</td>\n",
       "      <td>100</td>\n",
       "      <td>spotify</td>\n",
       "      <td>Spotify</td>\n",
       "      <td>594327</td>\n",
       "      <td>rock</td>\n",
       "    </tr>\n",
       "    <tr>\n",
       "      <th>13</th>\n",
       "      <td>37i9dQZF1DWXs1L3AC0Xio</td>\n",
       "      <td>Rock Ballads</td>\n",
       "      <td>100</td>\n",
       "      <td>spotify</td>\n",
       "      <td>Spotify</td>\n",
       "      <td>587078</td>\n",
       "      <td>rock</td>\n",
       "    </tr>\n",
       "    <tr>\n",
       "      <th>14</th>\n",
       "      <td>37i9dQZF1DX2S9rTKTX6JP</td>\n",
       "      <td>Rock Covers</td>\n",
       "      <td>100</td>\n",
       "      <td>spotify</td>\n",
       "      <td>Spotify</td>\n",
       "      <td>578142</td>\n",
       "      <td>rock</td>\n",
       "    </tr>\n",
       "  </tbody>\n",
       "</table>\n",
       "<p>75 rows × 7 columns</p>\n",
       "</div>\n",
       "    <div class=\"colab-df-buttons\">\n",
       "\n",
       "  <div class=\"colab-df-container\">\n",
       "    <button class=\"colab-df-convert\" onclick=\"convertToInteractive('df-29ad7a76-a4d2-4d0b-be7f-9fa12a4d3343')\"\n",
       "            title=\"Convert this dataframe to an interactive table.\"\n",
       "            style=\"display:none;\">\n",
       "\n",
       "  <svg xmlns=\"http://www.w3.org/2000/svg\" height=\"24px\" viewBox=\"0 -960 960 960\">\n",
       "    <path d=\"M120-120v-720h720v720H120Zm60-500h600v-160H180v160Zm220 220h160v-160H400v160Zm0 220h160v-160H400v160ZM180-400h160v-160H180v160Zm440 0h160v-160H620v160ZM180-180h160v-160H180v160Zm440 0h160v-160H620v160Z\"/>\n",
       "  </svg>\n",
       "    </button>\n",
       "\n",
       "  <style>\n",
       "    .colab-df-container {\n",
       "      display:flex;\n",
       "      gap: 12px;\n",
       "    }\n",
       "\n",
       "    .colab-df-convert {\n",
       "      background-color: #E8F0FE;\n",
       "      border: none;\n",
       "      border-radius: 50%;\n",
       "      cursor: pointer;\n",
       "      display: none;\n",
       "      fill: #1967D2;\n",
       "      height: 32px;\n",
       "      padding: 0 0 0 0;\n",
       "      width: 32px;\n",
       "    }\n",
       "\n",
       "    .colab-df-convert:hover {\n",
       "      background-color: #E2EBFA;\n",
       "      box-shadow: 0px 1px 2px rgba(60, 64, 67, 0.3), 0px 1px 3px 1px rgba(60, 64, 67, 0.15);\n",
       "      fill: #174EA6;\n",
       "    }\n",
       "\n",
       "    .colab-df-buttons div {\n",
       "      margin-bottom: 4px;\n",
       "    }\n",
       "\n",
       "    [theme=dark] .colab-df-convert {\n",
       "      background-color: #3B4455;\n",
       "      fill: #D2E3FC;\n",
       "    }\n",
       "\n",
       "    [theme=dark] .colab-df-convert:hover {\n",
       "      background-color: #434B5C;\n",
       "      box-shadow: 0px 1px 3px 1px rgba(0, 0, 0, 0.15);\n",
       "      filter: drop-shadow(0px 1px 2px rgba(0, 0, 0, 0.3));\n",
       "      fill: #FFFFFF;\n",
       "    }\n",
       "  </style>\n",
       "\n",
       "    <script>\n",
       "      const buttonEl =\n",
       "        document.querySelector('#df-29ad7a76-a4d2-4d0b-be7f-9fa12a4d3343 button.colab-df-convert');\n",
       "      buttonEl.style.display =\n",
       "        google.colab.kernel.accessAllowed ? 'block' : 'none';\n",
       "\n",
       "      async function convertToInteractive(key) {\n",
       "        const element = document.querySelector('#df-29ad7a76-a4d2-4d0b-be7f-9fa12a4d3343');\n",
       "        const dataTable =\n",
       "          await google.colab.kernel.invokeFunction('convertToInteractive',\n",
       "                                                    [key], {});\n",
       "        if (!dataTable) return;\n",
       "\n",
       "        const docLinkHtml = 'Like what you see? Visit the ' +\n",
       "          '<a target=\"_blank\" href=https://colab.research.google.com/notebooks/data_table.ipynb>data table notebook</a>'\n",
       "          + ' to learn more about interactive tables.';\n",
       "        element.innerHTML = '';\n",
       "        dataTable['output_type'] = 'display_data';\n",
       "        await google.colab.output.renderOutput(dataTable, element);\n",
       "        const docLink = document.createElement('div');\n",
       "        docLink.innerHTML = docLinkHtml;\n",
       "        element.appendChild(docLink);\n",
       "      }\n",
       "    </script>\n",
       "  </div>\n",
       "\n",
       "\n",
       "<div id=\"df-84a8b6db-08f8-4ceb-889f-f7380c18520a\">\n",
       "  <button class=\"colab-df-quickchart\" onclick=\"quickchart('df-84a8b6db-08f8-4ceb-889f-f7380c18520a')\"\n",
       "            title=\"Suggest charts.\"\n",
       "            style=\"display:none;\">\n",
       "\n",
       "<svg xmlns=\"http://www.w3.org/2000/svg\" height=\"24px\"viewBox=\"0 0 24 24\"\n",
       "     width=\"24px\">\n",
       "    <g>\n",
       "        <path d=\"M19 3H5c-1.1 0-2 .9-2 2v14c0 1.1.9 2 2 2h14c1.1 0 2-.9 2-2V5c0-1.1-.9-2-2-2zM9 17H7v-7h2v7zm4 0h-2V7h2v10zm4 0h-2v-4h2v4z\"/>\n",
       "    </g>\n",
       "</svg>\n",
       "  </button>\n",
       "\n",
       "<style>\n",
       "  .colab-df-quickchart {\n",
       "      --bg-color: #E8F0FE;\n",
       "      --fill-color: #1967D2;\n",
       "      --hover-bg-color: #E2EBFA;\n",
       "      --hover-fill-color: #174EA6;\n",
       "      --disabled-fill-color: #AAA;\n",
       "      --disabled-bg-color: #DDD;\n",
       "  }\n",
       "\n",
       "  [theme=dark] .colab-df-quickchart {\n",
       "      --bg-color: #3B4455;\n",
       "      --fill-color: #D2E3FC;\n",
       "      --hover-bg-color: #434B5C;\n",
       "      --hover-fill-color: #FFFFFF;\n",
       "      --disabled-bg-color: #3B4455;\n",
       "      --disabled-fill-color: #666;\n",
       "  }\n",
       "\n",
       "  .colab-df-quickchart {\n",
       "    background-color: var(--bg-color);\n",
       "    border: none;\n",
       "    border-radius: 50%;\n",
       "    cursor: pointer;\n",
       "    display: none;\n",
       "    fill: var(--fill-color);\n",
       "    height: 32px;\n",
       "    padding: 0;\n",
       "    width: 32px;\n",
       "  }\n",
       "\n",
       "  .colab-df-quickchart:hover {\n",
       "    background-color: var(--hover-bg-color);\n",
       "    box-shadow: 0 1px 2px rgba(60, 64, 67, 0.3), 0 1px 3px 1px rgba(60, 64, 67, 0.15);\n",
       "    fill: var(--button-hover-fill-color);\n",
       "  }\n",
       "\n",
       "  .colab-df-quickchart-complete:disabled,\n",
       "  .colab-df-quickchart-complete:disabled:hover {\n",
       "    background-color: var(--disabled-bg-color);\n",
       "    fill: var(--disabled-fill-color);\n",
       "    box-shadow: none;\n",
       "  }\n",
       "\n",
       "  .colab-df-spinner {\n",
       "    border: 2px solid var(--fill-color);\n",
       "    border-color: transparent;\n",
       "    border-bottom-color: var(--fill-color);\n",
       "    animation:\n",
       "      spin 1s steps(1) infinite;\n",
       "  }\n",
       "\n",
       "  @keyframes spin {\n",
       "    0% {\n",
       "      border-color: transparent;\n",
       "      border-bottom-color: var(--fill-color);\n",
       "      border-left-color: var(--fill-color);\n",
       "    }\n",
       "    20% {\n",
       "      border-color: transparent;\n",
       "      border-left-color: var(--fill-color);\n",
       "      border-top-color: var(--fill-color);\n",
       "    }\n",
       "    30% {\n",
       "      border-color: transparent;\n",
       "      border-left-color: var(--fill-color);\n",
       "      border-top-color: var(--fill-color);\n",
       "      border-right-color: var(--fill-color);\n",
       "    }\n",
       "    40% {\n",
       "      border-color: transparent;\n",
       "      border-right-color: var(--fill-color);\n",
       "      border-top-color: var(--fill-color);\n",
       "    }\n",
       "    60% {\n",
       "      border-color: transparent;\n",
       "      border-right-color: var(--fill-color);\n",
       "    }\n",
       "    80% {\n",
       "      border-color: transparent;\n",
       "      border-right-color: var(--fill-color);\n",
       "      border-bottom-color: var(--fill-color);\n",
       "    }\n",
       "    90% {\n",
       "      border-color: transparent;\n",
       "      border-bottom-color: var(--fill-color);\n",
       "    }\n",
       "  }\n",
       "</style>\n",
       "\n",
       "  <script>\n",
       "    async function quickchart(key) {\n",
       "      const quickchartButtonEl =\n",
       "        document.querySelector('#' + key + ' button');\n",
       "      quickchartButtonEl.disabled = true;  // To prevent multiple clicks.\n",
       "      quickchartButtonEl.classList.add('colab-df-spinner');\n",
       "      try {\n",
       "        const charts = await google.colab.kernel.invokeFunction(\n",
       "            'suggestCharts', [key], {});\n",
       "      } catch (error) {\n",
       "        console.error('Error during call to suggestCharts:', error);\n",
       "      }\n",
       "      quickchartButtonEl.classList.remove('colab-df-spinner');\n",
       "      quickchartButtonEl.classList.add('colab-df-quickchart-complete');\n",
       "    }\n",
       "    (() => {\n",
       "      let quickchartButtonEl =\n",
       "        document.querySelector('#df-84a8b6db-08f8-4ceb-889f-f7380c18520a button');\n",
       "      quickchartButtonEl.style.display =\n",
       "        google.colab.kernel.accessAllowed ? 'block' : 'none';\n",
       "    })();\n",
       "  </script>\n",
       "</div>\n",
       "    </div>\n",
       "  </div>\n"
      ],
      "text/plain": [
       "               playlist_id         playlist_name  playlist_total_tracks  \\\n",
       "0   37i9dQZF1DWYmmr74INQlb    I Love My '00s R&B                     40   \n",
       "1   37i9dQZF1DX6VDO8a6cQME    I Love My '90s R&B                     45   \n",
       "2   37i9dQZF1DX2UgsUIg75Vg           Chilled R&B                     50   \n",
       "3   37i9dQZF1DWSfMe9z89s9B       Alternative R&B                    100   \n",
       "4   37i9dQZF1EQoqCH7BwIYb7               R&B Mix                     50   \n",
       "..                     ...                   ...                    ...   \n",
       "10  37i9dQZF1DWUoqEG4WY6ce  Indie Rock Road Trip                     89   \n",
       "11  37i9dQZF1DX30HHrCAl4ZG    Today's Indie Rock                    100   \n",
       "12  37i9dQZF1DX4vth7idTQch            Rockhymnen                    100   \n",
       "13  37i9dQZF1DWXs1L3AC0Xio          Rock Ballads                    100   \n",
       "14  37i9dQZF1DX2S9rTKTX6JP           Rock Covers                    100   \n",
       "\n",
       "   owner_id owner_name  total_followers genre  \n",
       "0   spotify    Spotify          3759509   r&b  \n",
       "1   spotify    Spotify          2762610   r&b  \n",
       "2   spotify    Spotify          2188378   r&b  \n",
       "3   spotify    Spotify          1175872   r&b  \n",
       "4   spotify    Spotify           883491   r&b  \n",
       "..      ...        ...              ...   ...  \n",
       "10  spotify    Spotify           762777  rock  \n",
       "11  spotify    Spotify           748474  rock  \n",
       "12  spotify    Spotify           594327  rock  \n",
       "13  spotify    Spotify           587078  rock  \n",
       "14  spotify    Spotify           578142  rock  \n",
       "\n",
       "[75 rows x 7 columns]"
      ]
     },
     "execution_count": 16,
     "metadata": {},
     "output_type": "execute_result"
    }
   ],
   "source": [
    "#.head() will show top 10 followed playlists\n",
    "# since playlists csv is already ordered by decreasing total followers\n",
    "top_playlists_df = playlist_df.groupby(['genre']).head(15)\n",
    "top_playlists_df"
   ]
  },
  {
   "cell_type": "code",
   "execution_count": null,
   "metadata": {
    "id": "kTuSE9PO2wl3"
   },
   "outputs": [],
   "source": [
    "# Filter keeping only top 10 playlists\n",
    "tracks_df = tracks_df[tracks_df['playlist_id'].isin(top_playlists_df['playlist_id'].values)]"
   ]
  },
  {
   "cell_type": "code",
   "execution_count": null,
   "metadata": {
    "colab": {
     "base_uri": "https://localhost:8080/"
    },
    "id": "loCuoMxj2wl3",
    "outputId": "b63909a4-a792-4616-b7c4-0518c1dc48b5"
   },
   "outputs": [
    {
     "data": {
      "text/plain": [
       "jazz          1719\n",
       "rock          1566\n",
       "electronic    1506\n",
       "rap           1087\n",
       "r&b            855\n",
       "Name: genre, dtype: int64"
      ]
     },
     "execution_count": 18,
     "metadata": {},
     "output_type": "execute_result"
    }
   ],
   "source": [
    "# Get new genre tracks tally\n",
    "tracks_df['genre'].value_counts()"
   ]
  },
  {
   "cell_type": "markdown",
   "metadata": {
    "id": "Z5LWsLgl2wl3"
   },
   "source": [
    "**Refinement 2**\n",
    "\n",
    "Remove tracks that appear in different genre playlists - get only *unique tracks* per genre"
   ]
  },
  {
   "cell_type": "code",
   "execution_count": null,
   "metadata": {
    "colab": {
     "base_uri": "https://localhost:8080/",
     "height": 565
    },
    "id": "h8d0ldBM2wl3",
    "outputId": "a957763c-b885-4263-dced-708082ccde58"
   },
   "outputs": [
    {
     "data": {
      "text/html": [
       "\n",
       "  <div id=\"df-ef6bbb15-70c2-49d6-b62a-3b31bec5fcd3\" class=\"colab-df-container\">\n",
       "    <div>\n",
       "<style scoped>\n",
       "    .dataframe tbody tr th:only-of-type {\n",
       "        vertical-align: middle;\n",
       "    }\n",
       "\n",
       "    .dataframe tbody tr th {\n",
       "        vertical-align: top;\n",
       "    }\n",
       "\n",
       "    .dataframe thead th {\n",
       "        text-align: right;\n",
       "    }\n",
       "</style>\n",
       "<table border=\"1\" class=\"dataframe\">\n",
       "  <thead>\n",
       "    <tr style=\"text-align: right;\">\n",
       "      <th></th>\n",
       "      <th>track_id</th>\n",
       "      <th>track_name</th>\n",
       "      <th>artist_id</th>\n",
       "      <th>artist_name</th>\n",
       "      <th>album_id</th>\n",
       "      <th>duration</th>\n",
       "      <th>release_date</th>\n",
       "      <th>popularity</th>\n",
       "      <th>danceability</th>\n",
       "      <th>energy</th>\n",
       "      <th>...</th>\n",
       "      <th>mode</th>\n",
       "      <th>speechiness</th>\n",
       "      <th>acousticness</th>\n",
       "      <th>instrumentalness</th>\n",
       "      <th>liveness</th>\n",
       "      <th>valence</th>\n",
       "      <th>tempo</th>\n",
       "      <th>playlist_id</th>\n",
       "      <th>playlist_name</th>\n",
       "      <th>genre</th>\n",
       "    </tr>\n",
       "  </thead>\n",
       "  <tbody>\n",
       "    <tr>\n",
       "      <th>319</th>\n",
       "      <td>4AIiCP2scA6jt6jAKfkvTX</td>\n",
       "      <td>fue mejor (feat. SZA)</td>\n",
       "      <td>1U1el3k54VvEUzo3ybLPlM</td>\n",
       "      <td>Kali Uchis</td>\n",
       "      <td>64SrjXrYNfYvQcccFmYEHu</td>\n",
       "      <td>230964</td>\n",
       "      <td>2020-12-04</td>\n",
       "      <td>66</td>\n",
       "      <td>0.769</td>\n",
       "      <td>0.384</td>\n",
       "      <td>...</td>\n",
       "      <td>0</td>\n",
       "      <td>0.0353</td>\n",
       "      <td>0.23900</td>\n",
       "      <td>0.000227</td>\n",
       "      <td>0.0762</td>\n",
       "      <td>0.230</td>\n",
       "      <td>106.002</td>\n",
       "      <td>37i9dQZF1EQoqCH7BwIYb7</td>\n",
       "      <td>R&amp;B Mix</td>\n",
       "      <td>r&amp;b</td>\n",
       "    </tr>\n",
       "    <tr>\n",
       "      <th>323</th>\n",
       "      <td>7GaFYUqP2WdR4KTPk7cXoP</td>\n",
       "      <td>Let Me Love You</td>\n",
       "      <td>20s0P9QLxGqKuCsGwFsp7w</td>\n",
       "      <td>Mario</td>\n",
       "      <td>0aihmuRLi1gBkxk4mbNfcv</td>\n",
       "      <td>249120</td>\n",
       "      <td>2004-03-15</td>\n",
       "      <td>69</td>\n",
       "      <td>0.686</td>\n",
       "      <td>0.588</td>\n",
       "      <td>...</td>\n",
       "      <td>0</td>\n",
       "      <td>0.0554</td>\n",
       "      <td>0.17800</td>\n",
       "      <td>0.000000</td>\n",
       "      <td>0.0954</td>\n",
       "      <td>0.617</td>\n",
       "      <td>94.519</td>\n",
       "      <td>37i9dQZF1EQoqCH7BwIYb7</td>\n",
       "      <td>R&amp;B Mix</td>\n",
       "      <td>r&amp;b</td>\n",
       "    </tr>\n",
       "    <tr>\n",
       "      <th>339</th>\n",
       "      <td>1DNA2z7Txysjk3cNz2nDLm</td>\n",
       "      <td>WFM</td>\n",
       "      <td>35R1B97CfrqKFFI3QBkTDx</td>\n",
       "      <td>RealestK</td>\n",
       "      <td>0bhFNhb3j8MRYLFXvnIXGp</td>\n",
       "      <td>136000</td>\n",
       "      <td>2021-10-06</td>\n",
       "      <td>82</td>\n",
       "      <td>0.437</td>\n",
       "      <td>0.184</td>\n",
       "      <td>...</td>\n",
       "      <td>1</td>\n",
       "      <td>0.0313</td>\n",
       "      <td>0.72000</td>\n",
       "      <td>0.002530</td>\n",
       "      <td>0.1130</td>\n",
       "      <td>0.247</td>\n",
       "      <td>80.088</td>\n",
       "      <td>37i9dQZF1EQoqCH7BwIYb7</td>\n",
       "      <td>R&amp;B Mix</td>\n",
       "      <td>r&amp;b</td>\n",
       "    </tr>\n",
       "    <tr>\n",
       "      <th>344</th>\n",
       "      <td>6IwKcFdiRQZOWeYNhUiWIv</td>\n",
       "      <td>No One</td>\n",
       "      <td>3DiDSECUqqY1AuBP8qtaIa</td>\n",
       "      <td>Alicia Keys</td>\n",
       "      <td>6KlxyxhXEDo1LdheFulN7h</td>\n",
       "      <td>253813</td>\n",
       "      <td>2007-11-09</td>\n",
       "      <td>79</td>\n",
       "      <td>0.644</td>\n",
       "      <td>0.549</td>\n",
       "      <td>...</td>\n",
       "      <td>0</td>\n",
       "      <td>0.0285</td>\n",
       "      <td>0.02090</td>\n",
       "      <td>0.000009</td>\n",
       "      <td>0.1340</td>\n",
       "      <td>0.167</td>\n",
       "      <td>90.040</td>\n",
       "      <td>37i9dQZF1EQoqCH7BwIYb7</td>\n",
       "      <td>R&amp;B Mix</td>\n",
       "      <td>r&amp;b</td>\n",
       "    </tr>\n",
       "    <tr>\n",
       "      <th>374</th>\n",
       "      <td>0bkTdkWwGk3OGFX0afD3Wj</td>\n",
       "      <td>Mystery Lady</td>\n",
       "      <td>3ycxRkcZ67ALN3GQJ57Vig</td>\n",
       "      <td>Masego</td>\n",
       "      <td>1S0yIZRDiFmqCQyTIEV175</td>\n",
       "      <td>228453</td>\n",
       "      <td>2020-11-13</td>\n",
       "      <td>68</td>\n",
       "      <td>0.747</td>\n",
       "      <td>0.494</td>\n",
       "      <td>...</td>\n",
       "      <td>0</td>\n",
       "      <td>0.1410</td>\n",
       "      <td>0.39300</td>\n",
       "      <td>0.000000</td>\n",
       "      <td>0.0982</td>\n",
       "      <td>0.624</td>\n",
       "      <td>76.006</td>\n",
       "      <td>37i9dQZF1EQoqCH7BwIYb7</td>\n",
       "      <td>R&amp;B Mix</td>\n",
       "      <td>r&amp;b</td>\n",
       "    </tr>\n",
       "    <tr>\n",
       "      <th>...</th>\n",
       "      <td>...</td>\n",
       "      <td>...</td>\n",
       "      <td>...</td>\n",
       "      <td>...</td>\n",
       "      <td>...</td>\n",
       "      <td>...</td>\n",
       "      <td>...</td>\n",
       "      <td>...</td>\n",
       "      <td>...</td>\n",
       "      <td>...</td>\n",
       "      <td>...</td>\n",
       "      <td>...</td>\n",
       "      <td>...</td>\n",
       "      <td>...</td>\n",
       "      <td>...</td>\n",
       "      <td>...</td>\n",
       "      <td>...</td>\n",
       "      <td>...</td>\n",
       "      <td>...</td>\n",
       "      <td>...</td>\n",
       "      <td>...</td>\n",
       "    </tr>\n",
       "    <tr>\n",
       "      <th>1618</th>\n",
       "      <td>2udGjDmpK1dH9VGyw7nrei</td>\n",
       "      <td>Cocaine</td>\n",
       "      <td>6PAt558ZEZl0DmdXlnjMgD</td>\n",
       "      <td>Eric Clapton</td>\n",
       "      <td>0GBrlPh90D25SQ6EJu4VtT</td>\n",
       "      <td>221640</td>\n",
       "      <td>1977-11-01</td>\n",
       "      <td>71</td>\n",
       "      <td>0.699</td>\n",
       "      <td>0.502</td>\n",
       "      <td>...</td>\n",
       "      <td>1</td>\n",
       "      <td>0.0278</td>\n",
       "      <td>0.06070</td>\n",
       "      <td>0.033700</td>\n",
       "      <td>0.3170</td>\n",
       "      <td>0.676</td>\n",
       "      <td>105.267</td>\n",
       "      <td>37i9dQZF1DX4vth7idTQch</td>\n",
       "      <td>Rockhymnen</td>\n",
       "      <td>rock</td>\n",
       "    </tr>\n",
       "    <tr>\n",
       "      <th>1621</th>\n",
       "      <td>0MKGH8UMfCnq5w7nG06oM5</td>\n",
       "      <td>Come As You Are</td>\n",
       "      <td>6olE6TJLqED3rqDCT0FyPh</td>\n",
       "      <td>Nirvana</td>\n",
       "      <td>2uEf3r9i2bnxwJQsxQ0xQ7</td>\n",
       "      <td>218920</td>\n",
       "      <td>1991-09-26</td>\n",
       "      <td>64</td>\n",
       "      <td>0.500</td>\n",
       "      <td>0.824</td>\n",
       "      <td>...</td>\n",
       "      <td>0</td>\n",
       "      <td>0.0388</td>\n",
       "      <td>0.00016</td>\n",
       "      <td>0.001610</td>\n",
       "      <td>0.0916</td>\n",
       "      <td>0.539</td>\n",
       "      <td>120.125</td>\n",
       "      <td>37i9dQZF1DX4vth7idTQch</td>\n",
       "      <td>Rockhymnen</td>\n",
       "      <td>rock</td>\n",
       "    </tr>\n",
       "    <tr>\n",
       "      <th>1628</th>\n",
       "      <td>1Cj2vqUwlJVG27gJrun92y</td>\n",
       "      <td>The Sound of Silence</td>\n",
       "      <td>3TOqt5oJwL9BE2NG9MEwDa</td>\n",
       "      <td>Disturbed</td>\n",
       "      <td>3qFQ4XNQ15alZrAaj5oGJK</td>\n",
       "      <td>248466</td>\n",
       "      <td>2015-08-21</td>\n",
       "      <td>73</td>\n",
       "      <td>0.322</td>\n",
       "      <td>0.280</td>\n",
       "      <td>...</td>\n",
       "      <td>0</td>\n",
       "      <td>0.0281</td>\n",
       "      <td>0.46800</td>\n",
       "      <td>0.000001</td>\n",
       "      <td>0.1020</td>\n",
       "      <td>0.175</td>\n",
       "      <td>85.794</td>\n",
       "      <td>37i9dQZF1DWXs1L3AC0Xio</td>\n",
       "      <td>Rock Ballads</td>\n",
       "      <td>rock</td>\n",
       "    </tr>\n",
       "    <tr>\n",
       "      <th>1636</th>\n",
       "      <td>6GrrkiCRO3HYdgRpO4eKEL</td>\n",
       "      <td>Swing Life Away</td>\n",
       "      <td>6Wr3hh341P84m3EI8qdn9O</td>\n",
       "      <td>Rise Against</td>\n",
       "      <td>1vHYkIhnwbpzrC3hGguDN6</td>\n",
       "      <td>200066</td>\n",
       "      <td>2004-01-01</td>\n",
       "      <td>59</td>\n",
       "      <td>0.477</td>\n",
       "      <td>0.426</td>\n",
       "      <td>...</td>\n",
       "      <td>1</td>\n",
       "      <td>0.0430</td>\n",
       "      <td>0.54400</td>\n",
       "      <td>0.000000</td>\n",
       "      <td>0.0903</td>\n",
       "      <td>0.789</td>\n",
       "      <td>184.866</td>\n",
       "      <td>37i9dQZF1DWXs1L3AC0Xio</td>\n",
       "      <td>Rock Ballads</td>\n",
       "      <td>rock</td>\n",
       "    </tr>\n",
       "    <tr>\n",
       "      <th>1684</th>\n",
       "      <td>5ceGigL7CZQ3Ih6W8SIbv8</td>\n",
       "      <td>Blurry</td>\n",
       "      <td>3dXaa6jwM7B52GZpaJEIr5</td>\n",
       "      <td>Puddle Of Mudd</td>\n",
       "      <td>4WAujFDGR5UdnGpK0tKy2v</td>\n",
       "      <td>304000</td>\n",
       "      <td>2001-01-01</td>\n",
       "      <td>0</td>\n",
       "      <td>0.431</td>\n",
       "      <td>0.940</td>\n",
       "      <td>...</td>\n",
       "      <td>0</td>\n",
       "      <td>0.0563</td>\n",
       "      <td>0.00916</td>\n",
       "      <td>0.000000</td>\n",
       "      <td>0.1420</td>\n",
       "      <td>0.484</td>\n",
       "      <td>157.477</td>\n",
       "      <td>37i9dQZF1DWXs1L3AC0Xio</td>\n",
       "      <td>Rock Ballads</td>\n",
       "      <td>rock</td>\n",
       "    </tr>\n",
       "  </tbody>\n",
       "</table>\n",
       "<p>170 rows × 22 columns</p>\n",
       "</div>\n",
       "    <div class=\"colab-df-buttons\">\n",
       "\n",
       "  <div class=\"colab-df-container\">\n",
       "    <button class=\"colab-df-convert\" onclick=\"convertToInteractive('df-ef6bbb15-70c2-49d6-b62a-3b31bec5fcd3')\"\n",
       "            title=\"Convert this dataframe to an interactive table.\"\n",
       "            style=\"display:none;\">\n",
       "\n",
       "  <svg xmlns=\"http://www.w3.org/2000/svg\" height=\"24px\" viewBox=\"0 -960 960 960\">\n",
       "    <path d=\"M120-120v-720h720v720H120Zm60-500h600v-160H180v160Zm220 220h160v-160H400v160Zm0 220h160v-160H400v160ZM180-400h160v-160H180v160Zm440 0h160v-160H620v160ZM180-180h160v-160H180v160Zm440 0h160v-160H620v160Z\"/>\n",
       "  </svg>\n",
       "    </button>\n",
       "\n",
       "  <style>\n",
       "    .colab-df-container {\n",
       "      display:flex;\n",
       "      gap: 12px;\n",
       "    }\n",
       "\n",
       "    .colab-df-convert {\n",
       "      background-color: #E8F0FE;\n",
       "      border: none;\n",
       "      border-radius: 50%;\n",
       "      cursor: pointer;\n",
       "      display: none;\n",
       "      fill: #1967D2;\n",
       "      height: 32px;\n",
       "      padding: 0 0 0 0;\n",
       "      width: 32px;\n",
       "    }\n",
       "\n",
       "    .colab-df-convert:hover {\n",
       "      background-color: #E2EBFA;\n",
       "      box-shadow: 0px 1px 2px rgba(60, 64, 67, 0.3), 0px 1px 3px 1px rgba(60, 64, 67, 0.15);\n",
       "      fill: #174EA6;\n",
       "    }\n",
       "\n",
       "    .colab-df-buttons div {\n",
       "      margin-bottom: 4px;\n",
       "    }\n",
       "\n",
       "    [theme=dark] .colab-df-convert {\n",
       "      background-color: #3B4455;\n",
       "      fill: #D2E3FC;\n",
       "    }\n",
       "\n",
       "    [theme=dark] .colab-df-convert:hover {\n",
       "      background-color: #434B5C;\n",
       "      box-shadow: 0px 1px 3px 1px rgba(0, 0, 0, 0.15);\n",
       "      filter: drop-shadow(0px 1px 2px rgba(0, 0, 0, 0.3));\n",
       "      fill: #FFFFFF;\n",
       "    }\n",
       "  </style>\n",
       "\n",
       "    <script>\n",
       "      const buttonEl =\n",
       "        document.querySelector('#df-ef6bbb15-70c2-49d6-b62a-3b31bec5fcd3 button.colab-df-convert');\n",
       "      buttonEl.style.display =\n",
       "        google.colab.kernel.accessAllowed ? 'block' : 'none';\n",
       "\n",
       "      async function convertToInteractive(key) {\n",
       "        const element = document.querySelector('#df-ef6bbb15-70c2-49d6-b62a-3b31bec5fcd3');\n",
       "        const dataTable =\n",
       "          await google.colab.kernel.invokeFunction('convertToInteractive',\n",
       "                                                    [key], {});\n",
       "        if (!dataTable) return;\n",
       "\n",
       "        const docLinkHtml = 'Like what you see? Visit the ' +\n",
       "          '<a target=\"_blank\" href=https://colab.research.google.com/notebooks/data_table.ipynb>data table notebook</a>'\n",
       "          + ' to learn more about interactive tables.';\n",
       "        element.innerHTML = '';\n",
       "        dataTable['output_type'] = 'display_data';\n",
       "        await google.colab.output.renderOutput(dataTable, element);\n",
       "        const docLink = document.createElement('div');\n",
       "        docLink.innerHTML = docLinkHtml;\n",
       "        element.appendChild(docLink);\n",
       "      }\n",
       "    </script>\n",
       "  </div>\n",
       "\n",
       "\n",
       "<div id=\"df-21c5fad0-9e43-4e20-9f2e-786ae8442531\">\n",
       "  <button class=\"colab-df-quickchart\" onclick=\"quickchart('df-21c5fad0-9e43-4e20-9f2e-786ae8442531')\"\n",
       "            title=\"Suggest charts.\"\n",
       "            style=\"display:none;\">\n",
       "\n",
       "<svg xmlns=\"http://www.w3.org/2000/svg\" height=\"24px\"viewBox=\"0 0 24 24\"\n",
       "     width=\"24px\">\n",
       "    <g>\n",
       "        <path d=\"M19 3H5c-1.1 0-2 .9-2 2v14c0 1.1.9 2 2 2h14c1.1 0 2-.9 2-2V5c0-1.1-.9-2-2-2zM9 17H7v-7h2v7zm4 0h-2V7h2v10zm4 0h-2v-4h2v4z\"/>\n",
       "    </g>\n",
       "</svg>\n",
       "  </button>\n",
       "\n",
       "<style>\n",
       "  .colab-df-quickchart {\n",
       "      --bg-color: #E8F0FE;\n",
       "      --fill-color: #1967D2;\n",
       "      --hover-bg-color: #E2EBFA;\n",
       "      --hover-fill-color: #174EA6;\n",
       "      --disabled-fill-color: #AAA;\n",
       "      --disabled-bg-color: #DDD;\n",
       "  }\n",
       "\n",
       "  [theme=dark] .colab-df-quickchart {\n",
       "      --bg-color: #3B4455;\n",
       "      --fill-color: #D2E3FC;\n",
       "      --hover-bg-color: #434B5C;\n",
       "      --hover-fill-color: #FFFFFF;\n",
       "      --disabled-bg-color: #3B4455;\n",
       "      --disabled-fill-color: #666;\n",
       "  }\n",
       "\n",
       "  .colab-df-quickchart {\n",
       "    background-color: var(--bg-color);\n",
       "    border: none;\n",
       "    border-radius: 50%;\n",
       "    cursor: pointer;\n",
       "    display: none;\n",
       "    fill: var(--fill-color);\n",
       "    height: 32px;\n",
       "    padding: 0;\n",
       "    width: 32px;\n",
       "  }\n",
       "\n",
       "  .colab-df-quickchart:hover {\n",
       "    background-color: var(--hover-bg-color);\n",
       "    box-shadow: 0 1px 2px rgba(60, 64, 67, 0.3), 0 1px 3px 1px rgba(60, 64, 67, 0.15);\n",
       "    fill: var(--button-hover-fill-color);\n",
       "  }\n",
       "\n",
       "  .colab-df-quickchart-complete:disabled,\n",
       "  .colab-df-quickchart-complete:disabled:hover {\n",
       "    background-color: var(--disabled-bg-color);\n",
       "    fill: var(--disabled-fill-color);\n",
       "    box-shadow: none;\n",
       "  }\n",
       "\n",
       "  .colab-df-spinner {\n",
       "    border: 2px solid var(--fill-color);\n",
       "    border-color: transparent;\n",
       "    border-bottom-color: var(--fill-color);\n",
       "    animation:\n",
       "      spin 1s steps(1) infinite;\n",
       "  }\n",
       "\n",
       "  @keyframes spin {\n",
       "    0% {\n",
       "      border-color: transparent;\n",
       "      border-bottom-color: var(--fill-color);\n",
       "      border-left-color: var(--fill-color);\n",
       "    }\n",
       "    20% {\n",
       "      border-color: transparent;\n",
       "      border-left-color: var(--fill-color);\n",
       "      border-top-color: var(--fill-color);\n",
       "    }\n",
       "    30% {\n",
       "      border-color: transparent;\n",
       "      border-left-color: var(--fill-color);\n",
       "      border-top-color: var(--fill-color);\n",
       "      border-right-color: var(--fill-color);\n",
       "    }\n",
       "    40% {\n",
       "      border-color: transparent;\n",
       "      border-right-color: var(--fill-color);\n",
       "      border-top-color: var(--fill-color);\n",
       "    }\n",
       "    60% {\n",
       "      border-color: transparent;\n",
       "      border-right-color: var(--fill-color);\n",
       "    }\n",
       "    80% {\n",
       "      border-color: transparent;\n",
       "      border-right-color: var(--fill-color);\n",
       "      border-bottom-color: var(--fill-color);\n",
       "    }\n",
       "    90% {\n",
       "      border-color: transparent;\n",
       "      border-bottom-color: var(--fill-color);\n",
       "    }\n",
       "  }\n",
       "</style>\n",
       "\n",
       "  <script>\n",
       "    async function quickchart(key) {\n",
       "      const quickchartButtonEl =\n",
       "        document.querySelector('#' + key + ' button');\n",
       "      quickchartButtonEl.disabled = true;  // To prevent multiple clicks.\n",
       "      quickchartButtonEl.classList.add('colab-df-spinner');\n",
       "      try {\n",
       "        const charts = await google.colab.kernel.invokeFunction(\n",
       "            'suggestCharts', [key], {});\n",
       "      } catch (error) {\n",
       "        console.error('Error during call to suggestCharts:', error);\n",
       "      }\n",
       "      quickchartButtonEl.classList.remove('colab-df-spinner');\n",
       "      quickchartButtonEl.classList.add('colab-df-quickchart-complete');\n",
       "    }\n",
       "    (() => {\n",
       "      let quickchartButtonEl =\n",
       "        document.querySelector('#df-21c5fad0-9e43-4e20-9f2e-786ae8442531 button');\n",
       "      quickchartButtonEl.style.display =\n",
       "        google.colab.kernel.accessAllowed ? 'block' : 'none';\n",
       "    })();\n",
       "  </script>\n",
       "</div>\n",
       "    </div>\n",
       "  </div>\n"
      ],
      "text/plain": [
       "                    track_id             track_name               artist_id  \\\n",
       "319   4AIiCP2scA6jt6jAKfkvTX  fue mejor (feat. SZA)  1U1el3k54VvEUzo3ybLPlM   \n",
       "323   7GaFYUqP2WdR4KTPk7cXoP        Let Me Love You  20s0P9QLxGqKuCsGwFsp7w   \n",
       "339   1DNA2z7Txysjk3cNz2nDLm                    WFM  35R1B97CfrqKFFI3QBkTDx   \n",
       "344   6IwKcFdiRQZOWeYNhUiWIv                 No One  3DiDSECUqqY1AuBP8qtaIa   \n",
       "374   0bkTdkWwGk3OGFX0afD3Wj           Mystery Lady  3ycxRkcZ67ALN3GQJ57Vig   \n",
       "...                      ...                    ...                     ...   \n",
       "1618  2udGjDmpK1dH9VGyw7nrei                Cocaine  6PAt558ZEZl0DmdXlnjMgD   \n",
       "1621  0MKGH8UMfCnq5w7nG06oM5        Come As You Are  6olE6TJLqED3rqDCT0FyPh   \n",
       "1628  1Cj2vqUwlJVG27gJrun92y   The Sound of Silence  3TOqt5oJwL9BE2NG9MEwDa   \n",
       "1636  6GrrkiCRO3HYdgRpO4eKEL        Swing Life Away  6Wr3hh341P84m3EI8qdn9O   \n",
       "1684  5ceGigL7CZQ3Ih6W8SIbv8                 Blurry  3dXaa6jwM7B52GZpaJEIr5   \n",
       "\n",
       "         artist_name                album_id  duration release_date  \\\n",
       "319       Kali Uchis  64SrjXrYNfYvQcccFmYEHu    230964   2020-12-04   \n",
       "323            Mario  0aihmuRLi1gBkxk4mbNfcv    249120   2004-03-15   \n",
       "339         RealestK  0bhFNhb3j8MRYLFXvnIXGp    136000   2021-10-06   \n",
       "344      Alicia Keys  6KlxyxhXEDo1LdheFulN7h    253813   2007-11-09   \n",
       "374           Masego  1S0yIZRDiFmqCQyTIEV175    228453   2020-11-13   \n",
       "...              ...                     ...       ...          ...   \n",
       "1618    Eric Clapton  0GBrlPh90D25SQ6EJu4VtT    221640   1977-11-01   \n",
       "1621         Nirvana  2uEf3r9i2bnxwJQsxQ0xQ7    218920   1991-09-26   \n",
       "1628       Disturbed  3qFQ4XNQ15alZrAaj5oGJK    248466   2015-08-21   \n",
       "1636    Rise Against  1vHYkIhnwbpzrC3hGguDN6    200066   2004-01-01   \n",
       "1684  Puddle Of Mudd  4WAujFDGR5UdnGpK0tKy2v    304000   2001-01-01   \n",
       "\n",
       "      popularity  danceability  energy  ...  mode  speechiness  acousticness  \\\n",
       "319           66         0.769   0.384  ...     0       0.0353       0.23900   \n",
       "323           69         0.686   0.588  ...     0       0.0554       0.17800   \n",
       "339           82         0.437   0.184  ...     1       0.0313       0.72000   \n",
       "344           79         0.644   0.549  ...     0       0.0285       0.02090   \n",
       "374           68         0.747   0.494  ...     0       0.1410       0.39300   \n",
       "...          ...           ...     ...  ...   ...          ...           ...   \n",
       "1618          71         0.699   0.502  ...     1       0.0278       0.06070   \n",
       "1621          64         0.500   0.824  ...     0       0.0388       0.00016   \n",
       "1628          73         0.322   0.280  ...     0       0.0281       0.46800   \n",
       "1636          59         0.477   0.426  ...     1       0.0430       0.54400   \n",
       "1684           0         0.431   0.940  ...     0       0.0563       0.00916   \n",
       "\n",
       "      instrumentalness  liveness  valence    tempo             playlist_id  \\\n",
       "319           0.000227    0.0762    0.230  106.002  37i9dQZF1EQoqCH7BwIYb7   \n",
       "323           0.000000    0.0954    0.617   94.519  37i9dQZF1EQoqCH7BwIYb7   \n",
       "339           0.002530    0.1130    0.247   80.088  37i9dQZF1EQoqCH7BwIYb7   \n",
       "344           0.000009    0.1340    0.167   90.040  37i9dQZF1EQoqCH7BwIYb7   \n",
       "374           0.000000    0.0982    0.624   76.006  37i9dQZF1EQoqCH7BwIYb7   \n",
       "...                ...       ...      ...      ...                     ...   \n",
       "1618          0.033700    0.3170    0.676  105.267  37i9dQZF1DX4vth7idTQch   \n",
       "1621          0.001610    0.0916    0.539  120.125  37i9dQZF1DX4vth7idTQch   \n",
       "1628          0.000001    0.1020    0.175   85.794  37i9dQZF1DWXs1L3AC0Xio   \n",
       "1636          0.000000    0.0903    0.789  184.866  37i9dQZF1DWXs1L3AC0Xio   \n",
       "1684          0.000000    0.1420    0.484  157.477  37i9dQZF1DWXs1L3AC0Xio   \n",
       "\n",
       "      playlist_name genre  \n",
       "319         R&B Mix   r&b  \n",
       "323         R&B Mix   r&b  \n",
       "339         R&B Mix   r&b  \n",
       "344         R&B Mix   r&b  \n",
       "374         R&B Mix   r&b  \n",
       "...             ...   ...  \n",
       "1618     Rockhymnen  rock  \n",
       "1621     Rockhymnen  rock  \n",
       "1628   Rock Ballads  rock  \n",
       "1636   Rock Ballads  rock  \n",
       "1684   Rock Ballads  rock  \n",
       "\n",
       "[170 rows x 22 columns]"
      ]
     },
     "execution_count": 19,
     "metadata": {},
     "output_type": "execute_result"
    }
   ],
   "source": [
    "# View duplicated\n",
    "# Use artist id and track name to ensure uniqueness\n",
    "tracks_df[tracks_df.duplicated(subset=['artist_id','track_name'])]"
   ]
  },
  {
   "cell_type": "code",
   "execution_count": null,
   "metadata": {
    "colab": {
     "base_uri": "https://localhost:8080/"
    },
    "id": "ci0CZvQG2wl3",
    "outputId": "061d931a-7e9a-4480-b695-8630c4431d52"
   },
   "outputs": [
    {
     "data": {
      "text/plain": [
       "(6563, 22)"
      ]
     },
     "execution_count": 20,
     "metadata": {},
     "output_type": "execute_result"
    }
   ],
   "source": [
    "# Filter non-uniquely listed tracks\n",
    "tracks_df = tracks_df.drop_duplicates(subset=['artist_id','track_name'])\n",
    "tracks_df.shape"
   ]
  },
  {
   "cell_type": "code",
   "execution_count": null,
   "metadata": {
    "colab": {
     "base_uri": "https://localhost:8080/"
    },
    "id": "uS246dS62wl3",
    "outputId": "3960633e-1317-4336-f620-2e59cf3fc7e9"
   },
   "outputs": [
    {
     "data": {
      "text/plain": [
       "jazz          1704\n",
       "electronic    1492\n",
       "rock          1482\n",
       "rap           1070\n",
       "r&b            815\n",
       "Name: genre, dtype: int64"
      ]
     },
     "execution_count": 21,
     "metadata": {},
     "output_type": "execute_result"
    }
   ],
   "source": [
    "# Get new genre tracks tally\n",
    "tracks_df['genre'].value_counts()"
   ]
  },
  {
   "cell_type": "markdown",
   "metadata": {
    "id": "3wlhH6Yw2wl7"
   },
   "source": [
    "## 3. Feature Engineering"
   ]
  },
  {
   "cell_type": "markdown",
   "metadata": {
    "id": "v1DIg0-q2wl7"
   },
   "source": [
    "**Categorical Encoding**\n",
    "Since supervised models only takes in integers as labels, we map genres to numbers"
   ]
  },
  {
   "cell_type": "code",
   "execution_count": null,
   "metadata": {
    "colab": {
     "base_uri": "https://localhost:8080/"
    },
    "id": "LktdcFQl2wl7",
    "outputId": "5b667d19-b25d-45d3-f7b0-548ee450be4c"
   },
   "outputs": [
    {
     "data": {
      "text/html": [
       "\n",
       "  <div id=\"df-af0065fb-b9fa-4846-82d3-16076abe9249\" class=\"colab-df-container\">\n",
       "    <div>\n",
       "<style scoped>\n",
       "    .dataframe tbody tr th:only-of-type {\n",
       "        vertical-align: middle;\n",
       "    }\n",
       "\n",
       "    .dataframe tbody tr th {\n",
       "        vertical-align: top;\n",
       "    }\n",
       "\n",
       "    .dataframe thead th {\n",
       "        text-align: right;\n",
       "    }\n",
       "</style>\n",
       "<table border=\"1\" class=\"dataframe\">\n",
       "  <thead>\n",
       "    <tr style=\"text-align: right;\">\n",
       "      <th></th>\n",
       "      <th>track_id</th>\n",
       "      <th>track_name</th>\n",
       "      <th>artist_id</th>\n",
       "      <th>artist_name</th>\n",
       "      <th>album_id</th>\n",
       "      <th>duration</th>\n",
       "      <th>release_date</th>\n",
       "      <th>popularity</th>\n",
       "      <th>danceability</th>\n",
       "      <th>energy</th>\n",
       "      <th>...</th>\n",
       "      <th>speechiness</th>\n",
       "      <th>acousticness</th>\n",
       "      <th>instrumentalness</th>\n",
       "      <th>liveness</th>\n",
       "      <th>valence</th>\n",
       "      <th>tempo</th>\n",
       "      <th>playlist_id</th>\n",
       "      <th>playlist_name</th>\n",
       "      <th>genre</th>\n",
       "      <th>genre_id</th>\n",
       "    </tr>\n",
       "  </thead>\n",
       "  <tbody>\n",
       "    <tr>\n",
       "      <th>0</th>\n",
       "      <td>2c7huQpWR29bcXrrvLcG2j</td>\n",
       "      <td>We Need A Resolution (feat. Timbaland)</td>\n",
       "      <td>0urTpYCsixqZwgNTkPJOJ4</td>\n",
       "      <td>Aaliyah</td>\n",
       "      <td>0cNaDPtbHC1PMJMRTY2GFc</td>\n",
       "      <td>242826</td>\n",
       "      <td>2001-07-07</td>\n",
       "      <td>64</td>\n",
       "      <td>0.728</td>\n",
       "      <td>0.512</td>\n",
       "      <td>...</td>\n",
       "      <td>0.2900</td>\n",
       "      <td>0.3000</td>\n",
       "      <td>0.000000</td>\n",
       "      <td>0.113</td>\n",
       "      <td>0.824</td>\n",
       "      <td>147.170</td>\n",
       "      <td>37i9dQZF1DWYmmr74INQlb</td>\n",
       "      <td>I Love My '00s R&amp;B</td>\n",
       "      <td>r&amp;b</td>\n",
       "      <td>2</td>\n",
       "    </tr>\n",
       "    <tr>\n",
       "      <th>1</th>\n",
       "      <td>0ceeRNqbOzRiGE42KWSrRa</td>\n",
       "      <td>Into You (feat. Fabolous)</td>\n",
       "      <td>0le01dl1WllSHhjEXRl4in</td>\n",
       "      <td>Tamia</td>\n",
       "      <td>43QuYbSfbTjcsghwJyUnyP</td>\n",
       "      <td>294093</td>\n",
       "      <td>2004-04-05</td>\n",
       "      <td>61</td>\n",
       "      <td>0.677</td>\n",
       "      <td>0.531</td>\n",
       "      <td>...</td>\n",
       "      <td>0.0327</td>\n",
       "      <td>0.2190</td>\n",
       "      <td>0.000000</td>\n",
       "      <td>0.173</td>\n",
       "      <td>0.570</td>\n",
       "      <td>91.104</td>\n",
       "      <td>37i9dQZF1DWYmmr74INQlb</td>\n",
       "      <td>I Love My '00s R&amp;B</td>\n",
       "      <td>r&amp;b</td>\n",
       "      <td>2</td>\n",
       "    </tr>\n",
       "    <tr>\n",
       "      <th>2</th>\n",
       "      <td>4iuNZTcvT9diFySSzVsnVS</td>\n",
       "      <td>When I See U</td>\n",
       "      <td>7xAcVHPiirnUqfdqo0USb1</td>\n",
       "      <td>Fantasia</td>\n",
       "      <td>42DybH3gl3WcfXAQySOEiX</td>\n",
       "      <td>217346</td>\n",
       "      <td>2006-12-09</td>\n",
       "      <td>71</td>\n",
       "      <td>0.569</td>\n",
       "      <td>0.596</td>\n",
       "      <td>...</td>\n",
       "      <td>0.1720</td>\n",
       "      <td>0.4520</td>\n",
       "      <td>0.000079</td>\n",
       "      <td>0.205</td>\n",
       "      <td>0.754</td>\n",
       "      <td>93.135</td>\n",
       "      <td>37i9dQZF1DWYmmr74INQlb</td>\n",
       "      <td>I Love My '00s R&amp;B</td>\n",
       "      <td>r&amp;b</td>\n",
       "      <td>2</td>\n",
       "    </tr>\n",
       "    <tr>\n",
       "      <th>4</th>\n",
       "      <td>2RqZFOLOnzVmHUX7ZMcaES</td>\n",
       "      <td>Let It Go</td>\n",
       "      <td>1vfezMIyCr4XUdYRaKIKi3</td>\n",
       "      <td>Keyshia Cole</td>\n",
       "      <td>7mdy09EO4q6F9VWBtXDDjK</td>\n",
       "      <td>238333</td>\n",
       "      <td>2007-01-01</td>\n",
       "      <td>67</td>\n",
       "      <td>0.806</td>\n",
       "      <td>0.721</td>\n",
       "      <td>...</td>\n",
       "      <td>0.2150</td>\n",
       "      <td>0.1970</td>\n",
       "      <td>0.000000</td>\n",
       "      <td>0.209</td>\n",
       "      <td>0.781</td>\n",
       "      <td>94.967</td>\n",
       "      <td>37i9dQZF1DWYmmr74INQlb</td>\n",
       "      <td>I Love My '00s R&amp;B</td>\n",
       "      <td>r&amp;b</td>\n",
       "      <td>2</td>\n",
       "    </tr>\n",
       "    <tr>\n",
       "      <th>5</th>\n",
       "      <td>6nTcn8CybBcx0t7IaXEJ6O</td>\n",
       "      <td>Thank God I Found You (feat. Joe &amp; Nas) - Make...</td>\n",
       "      <td>4iHNK0tOyZPYnBU7nGAgpQ</td>\n",
       "      <td>Mariah Carey</td>\n",
       "      <td>6zuCJaxmHKNKN5hMDF556U</td>\n",
       "      <td>251640</td>\n",
       "      <td>2000-04-18</td>\n",
       "      <td>60</td>\n",
       "      <td>0.608</td>\n",
       "      <td>0.760</td>\n",
       "      <td>...</td>\n",
       "      <td>0.2420</td>\n",
       "      <td>0.0129</td>\n",
       "      <td>0.000000</td>\n",
       "      <td>0.332</td>\n",
       "      <td>0.366</td>\n",
       "      <td>168.211</td>\n",
       "      <td>37i9dQZF1DWYmmr74INQlb</td>\n",
       "      <td>I Love My '00s R&amp;B</td>\n",
       "      <td>r&amp;b</td>\n",
       "      <td>2</td>\n",
       "    </tr>\n",
       "  </tbody>\n",
       "</table>\n",
       "<p>5 rows × 23 columns</p>\n",
       "</div>\n",
       "    <div class=\"colab-df-buttons\">\n",
       "\n",
       "  <div class=\"colab-df-container\">\n",
       "    <button class=\"colab-df-convert\" onclick=\"convertToInteractive('df-af0065fb-b9fa-4846-82d3-16076abe9249')\"\n",
       "            title=\"Convert this dataframe to an interactive table.\"\n",
       "            style=\"display:none;\">\n",
       "\n",
       "  <svg xmlns=\"http://www.w3.org/2000/svg\" height=\"24px\" viewBox=\"0 -960 960 960\">\n",
       "    <path d=\"M120-120v-720h720v720H120Zm60-500h600v-160H180v160Zm220 220h160v-160H400v160Zm0 220h160v-160H400v160ZM180-400h160v-160H180v160Zm440 0h160v-160H620v160ZM180-180h160v-160H180v160Zm440 0h160v-160H620v160Z\"/>\n",
       "  </svg>\n",
       "    </button>\n",
       "\n",
       "  <style>\n",
       "    .colab-df-container {\n",
       "      display:flex;\n",
       "      gap: 12px;\n",
       "    }\n",
       "\n",
       "    .colab-df-convert {\n",
       "      background-color: #E8F0FE;\n",
       "      border: none;\n",
       "      border-radius: 50%;\n",
       "      cursor: pointer;\n",
       "      display: none;\n",
       "      fill: #1967D2;\n",
       "      height: 32px;\n",
       "      padding: 0 0 0 0;\n",
       "      width: 32px;\n",
       "    }\n",
       "\n",
       "    .colab-df-convert:hover {\n",
       "      background-color: #E2EBFA;\n",
       "      box-shadow: 0px 1px 2px rgba(60, 64, 67, 0.3), 0px 1px 3px 1px rgba(60, 64, 67, 0.15);\n",
       "      fill: #174EA6;\n",
       "    }\n",
       "\n",
       "    .colab-df-buttons div {\n",
       "      margin-bottom: 4px;\n",
       "    }\n",
       "\n",
       "    [theme=dark] .colab-df-convert {\n",
       "      background-color: #3B4455;\n",
       "      fill: #D2E3FC;\n",
       "    }\n",
       "\n",
       "    [theme=dark] .colab-df-convert:hover {\n",
       "      background-color: #434B5C;\n",
       "      box-shadow: 0px 1px 3px 1px rgba(0, 0, 0, 0.15);\n",
       "      filter: drop-shadow(0px 1px 2px rgba(0, 0, 0, 0.3));\n",
       "      fill: #FFFFFF;\n",
       "    }\n",
       "  </style>\n",
       "\n",
       "    <script>\n",
       "      const buttonEl =\n",
       "        document.querySelector('#df-af0065fb-b9fa-4846-82d3-16076abe9249 button.colab-df-convert');\n",
       "      buttonEl.style.display =\n",
       "        google.colab.kernel.accessAllowed ? 'block' : 'none';\n",
       "\n",
       "      async function convertToInteractive(key) {\n",
       "        const element = document.querySelector('#df-af0065fb-b9fa-4846-82d3-16076abe9249');\n",
       "        const dataTable =\n",
       "          await google.colab.kernel.invokeFunction('convertToInteractive',\n",
       "                                                    [key], {});\n",
       "        if (!dataTable) return;\n",
       "\n",
       "        const docLinkHtml = 'Like what you see? Visit the ' +\n",
       "          '<a target=\"_blank\" href=https://colab.research.google.com/notebooks/data_table.ipynb>data table notebook</a>'\n",
       "          + ' to learn more about interactive tables.';\n",
       "        element.innerHTML = '';\n",
       "        dataTable['output_type'] = 'display_data';\n",
       "        await google.colab.output.renderOutput(dataTable, element);\n",
       "        const docLink = document.createElement('div');\n",
       "        docLink.innerHTML = docLinkHtml;\n",
       "        element.appendChild(docLink);\n",
       "      }\n",
       "    </script>\n",
       "  </div>\n",
       "\n",
       "\n",
       "<div id=\"df-4cd57d91-9947-40dc-9528-bedbb7fc29bc\">\n",
       "  <button class=\"colab-df-quickchart\" onclick=\"quickchart('df-4cd57d91-9947-40dc-9528-bedbb7fc29bc')\"\n",
       "            title=\"Suggest charts.\"\n",
       "            style=\"display:none;\">\n",
       "\n",
       "<svg xmlns=\"http://www.w3.org/2000/svg\" height=\"24px\"viewBox=\"0 0 24 24\"\n",
       "     width=\"24px\">\n",
       "    <g>\n",
       "        <path d=\"M19 3H5c-1.1 0-2 .9-2 2v14c0 1.1.9 2 2 2h14c1.1 0 2-.9 2-2V5c0-1.1-.9-2-2-2zM9 17H7v-7h2v7zm4 0h-2V7h2v10zm4 0h-2v-4h2v4z\"/>\n",
       "    </g>\n",
       "</svg>\n",
       "  </button>\n",
       "\n",
       "<style>\n",
       "  .colab-df-quickchart {\n",
       "      --bg-color: #E8F0FE;\n",
       "      --fill-color: #1967D2;\n",
       "      --hover-bg-color: #E2EBFA;\n",
       "      --hover-fill-color: #174EA6;\n",
       "      --disabled-fill-color: #AAA;\n",
       "      --disabled-bg-color: #DDD;\n",
       "  }\n",
       "\n",
       "  [theme=dark] .colab-df-quickchart {\n",
       "      --bg-color: #3B4455;\n",
       "      --fill-color: #D2E3FC;\n",
       "      --hover-bg-color: #434B5C;\n",
       "      --hover-fill-color: #FFFFFF;\n",
       "      --disabled-bg-color: #3B4455;\n",
       "      --disabled-fill-color: #666;\n",
       "  }\n",
       "\n",
       "  .colab-df-quickchart {\n",
       "    background-color: var(--bg-color);\n",
       "    border: none;\n",
       "    border-radius: 50%;\n",
       "    cursor: pointer;\n",
       "    display: none;\n",
       "    fill: var(--fill-color);\n",
       "    height: 32px;\n",
       "    padding: 0;\n",
       "    width: 32px;\n",
       "  }\n",
       "\n",
       "  .colab-df-quickchart:hover {\n",
       "    background-color: var(--hover-bg-color);\n",
       "    box-shadow: 0 1px 2px rgba(60, 64, 67, 0.3), 0 1px 3px 1px rgba(60, 64, 67, 0.15);\n",
       "    fill: var(--button-hover-fill-color);\n",
       "  }\n",
       "\n",
       "  .colab-df-quickchart-complete:disabled,\n",
       "  .colab-df-quickchart-complete:disabled:hover {\n",
       "    background-color: var(--disabled-bg-color);\n",
       "    fill: var(--disabled-fill-color);\n",
       "    box-shadow: none;\n",
       "  }\n",
       "\n",
       "  .colab-df-spinner {\n",
       "    border: 2px solid var(--fill-color);\n",
       "    border-color: transparent;\n",
       "    border-bottom-color: var(--fill-color);\n",
       "    animation:\n",
       "      spin 1s steps(1) infinite;\n",
       "  }\n",
       "\n",
       "  @keyframes spin {\n",
       "    0% {\n",
       "      border-color: transparent;\n",
       "      border-bottom-color: var(--fill-color);\n",
       "      border-left-color: var(--fill-color);\n",
       "    }\n",
       "    20% {\n",
       "      border-color: transparent;\n",
       "      border-left-color: var(--fill-color);\n",
       "      border-top-color: var(--fill-color);\n",
       "    }\n",
       "    30% {\n",
       "      border-color: transparent;\n",
       "      border-left-color: var(--fill-color);\n",
       "      border-top-color: var(--fill-color);\n",
       "      border-right-color: var(--fill-color);\n",
       "    }\n",
       "    40% {\n",
       "      border-color: transparent;\n",
       "      border-right-color: var(--fill-color);\n",
       "      border-top-color: var(--fill-color);\n",
       "    }\n",
       "    60% {\n",
       "      border-color: transparent;\n",
       "      border-right-color: var(--fill-color);\n",
       "    }\n",
       "    80% {\n",
       "      border-color: transparent;\n",
       "      border-right-color: var(--fill-color);\n",
       "      border-bottom-color: var(--fill-color);\n",
       "    }\n",
       "    90% {\n",
       "      border-color: transparent;\n",
       "      border-bottom-color: var(--fill-color);\n",
       "    }\n",
       "  }\n",
       "</style>\n",
       "\n",
       "  <script>\n",
       "    async function quickchart(key) {\n",
       "      const quickchartButtonEl =\n",
       "        document.querySelector('#' + key + ' button');\n",
       "      quickchartButtonEl.disabled = true;  // To prevent multiple clicks.\n",
       "      quickchartButtonEl.classList.add('colab-df-spinner');\n",
       "      try {\n",
       "        const charts = await google.colab.kernel.invokeFunction(\n",
       "            'suggestCharts', [key], {});\n",
       "      } catch (error) {\n",
       "        console.error('Error during call to suggestCharts:', error);\n",
       "      }\n",
       "      quickchartButtonEl.classList.remove('colab-df-spinner');\n",
       "      quickchartButtonEl.classList.add('colab-df-quickchart-complete');\n",
       "    }\n",
       "    (() => {\n",
       "      let quickchartButtonEl =\n",
       "        document.querySelector('#df-4cd57d91-9947-40dc-9528-bedbb7fc29bc button');\n",
       "      quickchartButtonEl.style.display =\n",
       "        google.colab.kernel.accessAllowed ? 'block' : 'none';\n",
       "    })();\n",
       "  </script>\n",
       "</div>\n",
       "    </div>\n",
       "  </div>\n"
      ],
      "text/plain": [
       "                 track_id                                         track_name  \\\n",
       "0  2c7huQpWR29bcXrrvLcG2j             We Need A Resolution (feat. Timbaland)   \n",
       "1  0ceeRNqbOzRiGE42KWSrRa                          Into You (feat. Fabolous)   \n",
       "2  4iuNZTcvT9diFySSzVsnVS                                       When I See U   \n",
       "4  2RqZFOLOnzVmHUX7ZMcaES                                          Let It Go   \n",
       "5  6nTcn8CybBcx0t7IaXEJ6O  Thank God I Found You (feat. Joe & Nas) - Make...   \n",
       "\n",
       "                artist_id   artist_name                album_id  duration  \\\n",
       "0  0urTpYCsixqZwgNTkPJOJ4       Aaliyah  0cNaDPtbHC1PMJMRTY2GFc    242826   \n",
       "1  0le01dl1WllSHhjEXRl4in         Tamia  43QuYbSfbTjcsghwJyUnyP    294093   \n",
       "2  7xAcVHPiirnUqfdqo0USb1      Fantasia  42DybH3gl3WcfXAQySOEiX    217346   \n",
       "4  1vfezMIyCr4XUdYRaKIKi3  Keyshia Cole  7mdy09EO4q6F9VWBtXDDjK    238333   \n",
       "5  4iHNK0tOyZPYnBU7nGAgpQ  Mariah Carey  6zuCJaxmHKNKN5hMDF556U    251640   \n",
       "\n",
       "  release_date  popularity  danceability  energy  ...  speechiness  \\\n",
       "0   2001-07-07          64         0.728   0.512  ...       0.2900   \n",
       "1   2004-04-05          61         0.677   0.531  ...       0.0327   \n",
       "2   2006-12-09          71         0.569   0.596  ...       0.1720   \n",
       "4   2007-01-01          67         0.806   0.721  ...       0.2150   \n",
       "5   2000-04-18          60         0.608   0.760  ...       0.2420   \n",
       "\n",
       "   acousticness  instrumentalness  liveness  valence    tempo  \\\n",
       "0        0.3000          0.000000     0.113    0.824  147.170   \n",
       "1        0.2190          0.000000     0.173    0.570   91.104   \n",
       "2        0.4520          0.000079     0.205    0.754   93.135   \n",
       "4        0.1970          0.000000     0.209    0.781   94.967   \n",
       "5        0.0129          0.000000     0.332    0.366  168.211   \n",
       "\n",
       "              playlist_id       playlist_name  genre genre_id  \n",
       "0  37i9dQZF1DWYmmr74INQlb  I Love My '00s R&B    r&b        2  \n",
       "1  37i9dQZF1DWYmmr74INQlb  I Love My '00s R&B    r&b        2  \n",
       "2  37i9dQZF1DWYmmr74INQlb  I Love My '00s R&B    r&b        2  \n",
       "4  37i9dQZF1DWYmmr74INQlb  I Love My '00s R&B    r&b        2  \n",
       "5  37i9dQZF1DWYmmr74INQlb  I Love My '00s R&B    r&b        2  \n",
       "\n",
       "[5 rows x 23 columns]"
      ]
     },
     "execution_count": 22,
     "metadata": {},
     "output_type": "execute_result"
    }
   ],
   "source": [
    "tracks_df[\"genre\"] = tracks_df[\"genre\"].astype('category')\n",
    "tracks_df['genre_id'] = tracks_df[\"genre\"].cat.codes\n",
    "tracks_df.head()"
   ]
  },
  {
   "cell_type": "markdown",
   "metadata": {
    "id": "XHFY2kmI2wl7"
   },
   "source": [
    "Build dictionary of label ids for later"
   ]
  },
  {
   "cell_type": "code",
   "execution_count": null,
   "metadata": {
    "colab": {
     "base_uri": "https://localhost:8080/"
    },
    "id": "Td4k-fAF2wl7",
    "outputId": "de9eac5f-8e67-4524-ec70-7c25991ff774"
   },
   "outputs": [
    {
     "data": {
      "text/plain": [
       "{0: 'electronic', 1: 'jazz', 2: 'r&b', 3: 'rap', 4: 'rock'}"
      ]
     },
     "execution_count": 23,
     "metadata": {},
     "output_type": "execute_result"
    }
   ],
   "source": [
    "genre_lookup = tracks_df[['genre_id','genre']].drop_duplicates()\\\n",
    "                        .sort_values('genre_id')\\\n",
    "                        .set_index('genre_id')\\\n",
    "                        .to_dict()['genre']\n",
    "genre_lookup"
   ]
  },
  {
   "cell_type": "markdown",
   "metadata": {
    "id": "zBLIQIXG2wl7"
   },
   "source": [
    "Select audio features to use for the model"
   ]
  },
  {
   "cell_type": "code",
   "execution_count": null,
   "metadata": {
    "colab": {
     "base_uri": "https://localhost:8080/"
    },
    "id": "RNFZphgg2wl7",
    "outputId": "31caf7d1-c92c-4028-c40d-62e1e89fca0c"
   },
   "outputs": [
    {
     "name": "stdout",
     "output_type": "stream",
     "text": [
      "6563 6563\n"
     ]
    }
   ],
   "source": [
    "# create feature matrix (X)\n",
    "# pick energy and tempo as features\n",
    "feature_cols = ['danceability', 'energy', 'loudness', 'speechiness', 'acousticness', 'instrumentalness',\\\n",
    "                'liveness', 'valence', 'tempo']\n",
    "X = tracks_df[feature_cols]\n",
    "y = tracks_df['genre_id']\n",
    "print(len(X),len(y))"
   ]
  },
  {
   "cell_type": "markdown",
   "metadata": {
    "id": "pbacYrP72wl8"
   },
   "source": [
    "Add to matrices"
   ]
  },
  {
   "cell_type": "code",
   "execution_count": null,
   "metadata": {
    "id": "wSWfcQWz2wl8"
   },
   "outputs": [],
   "source": [
    "X = tracks_df[feature_cols]\n",
    "y = tracks_df['genre_id']"
   ]
  },
  {
   "cell_type": "markdown",
   "metadata": {
    "id": "kAU_OAa92wl8"
   },
   "source": [
    "Split to train and test set"
   ]
  },
  {
   "cell_type": "code",
   "execution_count": null,
   "metadata": {
    "id": "9Zi_chkI2wl8"
   },
   "outputs": [],
   "source": [
    "np.random.seed(42)\n",
    "X_train, X_test, y_train, y_test = train_test_split(X, y, test_size=0.2)"
   ]
  },
  {
   "cell_type": "markdown",
   "metadata": {
    "id": "IHV_bgDz2wl8"
   },
   "source": [
    "## 4. Train Models"
   ]
  },
  {
   "cell_type": "markdown",
   "metadata": {
    "id": "k8T-qPLC2wl8"
   },
   "source": [
    "### 4.1. k-Nearest Neighbors (kNN)"
   ]
  },
  {
   "cell_type": "markdown",
   "metadata": {
    "id": "Fs-v4RFB2wl8"
   },
   "source": [
    "Perform KNN using `K = [2, 50]` and validate using k-fold cross validation `k = 5`"
   ]
  },
  {
   "cell_type": "markdown",
   "metadata": {
    "id": "mOuNEM73uLCe"
   },
   "source": []
  },
  {
   "cell_type": "code",
   "execution_count": null,
   "metadata": {
    "id": "VlJY7F442wl8"
   },
   "outputs": [],
   "source": [
    "# Set parameter values\n",
    "n_neighbors = np.arange(2,51)\n",
    "k = 5 # for kfold"
   ]
  },
  {
   "cell_type": "code",
   "execution_count": null,
   "metadata": {
    "id": "uI7Kb56o2wl8"
   },
   "outputs": [],
   "source": [
    "# Set scaler\n",
    "scaler = MinMaxScaler()   # RobustScaler would also work\n",
    "\n",
    "# Initialize model\n",
    "model = KNeighborsClassifier()\n",
    "\n",
    "# Initialize cross validation\n",
    "cv = KFold(n_splits=k, shuffle=True, random_state=42)\n",
    "\n",
    "# Initialize pipeline\n",
    "pipeline = Pipeline([(\"scaler\", scaler),(\"knn\", model)])"
   ]
  },
  {
   "cell_type": "markdown",
   "metadata": {
    "id": "QRQTq6Sf2wl8"
   },
   "source": [
    "Initialize parameter grid"
   ]
  },
  {
   "cell_type": "code",
   "execution_count": null,
   "metadata": {
    "id": "F2Kon-s62wl8"
   },
   "outputs": [],
   "source": [
    "# Initialize parameters\n",
    "param_grid = {'knn__n_neighbors': n_neighbors}"
   ]
  },
  {
   "cell_type": "markdown",
   "metadata": {
    "id": "HMeDROjE2wl8"
   },
   "source": [
    "Find optimal parameters"
   ]
  },
  {
   "cell_type": "code",
   "execution_count": null,
   "metadata": {
    "colab": {
     "base_uri": "https://localhost:8080/"
    },
    "id": "9v4GeNTL2wl8",
    "outputId": "7dba5514-3a8e-4cee-f694-cced8b811e49"
   },
   "outputs": [
    {
     "data": {
      "text/html": [
       "<style>#sk-container-id-1 {color: black;background-color: white;}#sk-container-id-1 pre{padding: 0;}#sk-container-id-1 div.sk-toggleable {background-color: white;}#sk-container-id-1 label.sk-toggleable__label {cursor: pointer;display: block;width: 100%;margin-bottom: 0;padding: 0.3em;box-sizing: border-box;text-align: center;}#sk-container-id-1 label.sk-toggleable__label-arrow:before {content: \"▸\";float: left;margin-right: 0.25em;color: #696969;}#sk-container-id-1 label.sk-toggleable__label-arrow:hover:before {color: black;}#sk-container-id-1 div.sk-estimator:hover label.sk-toggleable__label-arrow:before {color: black;}#sk-container-id-1 div.sk-toggleable__content {max-height: 0;max-width: 0;overflow: hidden;text-align: left;background-color: #f0f8ff;}#sk-container-id-1 div.sk-toggleable__content pre {margin: 0.2em;color: black;border-radius: 0.25em;background-color: #f0f8ff;}#sk-container-id-1 input.sk-toggleable__control:checked~div.sk-toggleable__content {max-height: 200px;max-width: 100%;overflow: auto;}#sk-container-id-1 input.sk-toggleable__control:checked~label.sk-toggleable__label-arrow:before {content: \"▾\";}#sk-container-id-1 div.sk-estimator input.sk-toggleable__control:checked~label.sk-toggleable__label {background-color: #d4ebff;}#sk-container-id-1 div.sk-label input.sk-toggleable__control:checked~label.sk-toggleable__label {background-color: #d4ebff;}#sk-container-id-1 input.sk-hidden--visually {border: 0;clip: rect(1px 1px 1px 1px);clip: rect(1px, 1px, 1px, 1px);height: 1px;margin: -1px;overflow: hidden;padding: 0;position: absolute;width: 1px;}#sk-container-id-1 div.sk-estimator {font-family: monospace;background-color: #f0f8ff;border: 1px dotted black;border-radius: 0.25em;box-sizing: border-box;margin-bottom: 0.5em;}#sk-container-id-1 div.sk-estimator:hover {background-color: #d4ebff;}#sk-container-id-1 div.sk-parallel-item::after {content: \"\";width: 100%;border-bottom: 1px solid gray;flex-grow: 1;}#sk-container-id-1 div.sk-label:hover label.sk-toggleable__label {background-color: #d4ebff;}#sk-container-id-1 div.sk-serial::before {content: \"\";position: absolute;border-left: 1px solid gray;box-sizing: border-box;top: 0;bottom: 0;left: 50%;z-index: 0;}#sk-container-id-1 div.sk-serial {display: flex;flex-direction: column;align-items: center;background-color: white;padding-right: 0.2em;padding-left: 0.2em;position: relative;}#sk-container-id-1 div.sk-item {position: relative;z-index: 1;}#sk-container-id-1 div.sk-parallel {display: flex;align-items: stretch;justify-content: center;background-color: white;position: relative;}#sk-container-id-1 div.sk-item::before, #sk-container-id-1 div.sk-parallel-item::before {content: \"\";position: absolute;border-left: 1px solid gray;box-sizing: border-box;top: 0;bottom: 0;left: 50%;z-index: -1;}#sk-container-id-1 div.sk-parallel-item {display: flex;flex-direction: column;z-index: 1;position: relative;background-color: white;}#sk-container-id-1 div.sk-parallel-item:first-child::after {align-self: flex-end;width: 50%;}#sk-container-id-1 div.sk-parallel-item:last-child::after {align-self: flex-start;width: 50%;}#sk-container-id-1 div.sk-parallel-item:only-child::after {width: 0;}#sk-container-id-1 div.sk-dashed-wrapped {border: 1px dashed gray;margin: 0 0.4em 0.5em 0.4em;box-sizing: border-box;padding-bottom: 0.4em;background-color: white;}#sk-container-id-1 div.sk-label label {font-family: monospace;font-weight: bold;display: inline-block;line-height: 1.2em;}#sk-container-id-1 div.sk-label-container {text-align: center;}#sk-container-id-1 div.sk-container {/* jupyter's `normalize.less` sets `[hidden] { display: none; }` but bootstrap.min.css set `[hidden] { display: none !important; }` so we also need the `!important` here to be able to override the default hidden behavior on the sphinx rendered scikit-learn.org. See: https://github.com/scikit-learn/scikit-learn/issues/21755 */display: inline-block !important;position: relative;}#sk-container-id-1 div.sk-text-repr-fallback {display: none;}</style><div id=\"sk-container-id-1\" class=\"sk-top-container\"><div class=\"sk-text-repr-fallback\"><pre>GridSearchCV(cv=KFold(n_splits=5, random_state=42, shuffle=True),\n",
       "             estimator=Pipeline(steps=[(&#x27;scaler&#x27;, MinMaxScaler()),\n",
       "                                       (&#x27;knn&#x27;, KNeighborsClassifier())]),\n",
       "             param_grid={&#x27;knn__n_neighbors&#x27;: array([ 2,  3,  4,  5,  6,  7,  8,  9, 10, 11, 12, 13, 14, 15, 16, 17, 18,\n",
       "       19, 20, 21, 22, 23, 24, 25, 26, 27, 28, 29, 30, 31, 32, 33, 34, 35,\n",
       "       36, 37, 38, 39, 40, 41, 42, 43, 44, 45, 46, 47, 48, 49, 50])},\n",
       "             verbose=1)</pre><b>In a Jupyter environment, please rerun this cell to show the HTML representation or trust the notebook. <br />On GitHub, the HTML representation is unable to render, please try loading this page with nbviewer.org.</b></div><div class=\"sk-container\" hidden><div class=\"sk-item sk-dashed-wrapped\"><div class=\"sk-label-container\"><div class=\"sk-label sk-toggleable\"><input class=\"sk-toggleable__control sk-hidden--visually\" id=\"sk-estimator-id-1\" type=\"checkbox\" ><label for=\"sk-estimator-id-1\" class=\"sk-toggleable__label sk-toggleable__label-arrow\">GridSearchCV</label><div class=\"sk-toggleable__content\"><pre>GridSearchCV(cv=KFold(n_splits=5, random_state=42, shuffle=True),\n",
       "             estimator=Pipeline(steps=[(&#x27;scaler&#x27;, MinMaxScaler()),\n",
       "                                       (&#x27;knn&#x27;, KNeighborsClassifier())]),\n",
       "             param_grid={&#x27;knn__n_neighbors&#x27;: array([ 2,  3,  4,  5,  6,  7,  8,  9, 10, 11, 12, 13, 14, 15, 16, 17, 18,\n",
       "       19, 20, 21, 22, 23, 24, 25, 26, 27, 28, 29, 30, 31, 32, 33, 34, 35,\n",
       "       36, 37, 38, 39, 40, 41, 42, 43, 44, 45, 46, 47, 48, 49, 50])},\n",
       "             verbose=1)</pre></div></div></div><div class=\"sk-parallel\"><div class=\"sk-parallel-item\"><div class=\"sk-item\"><div class=\"sk-label-container\"><div class=\"sk-label sk-toggleable\"><input class=\"sk-toggleable__control sk-hidden--visually\" id=\"sk-estimator-id-2\" type=\"checkbox\" ><label for=\"sk-estimator-id-2\" class=\"sk-toggleable__label sk-toggleable__label-arrow\">estimator: Pipeline</label><div class=\"sk-toggleable__content\"><pre>Pipeline(steps=[(&#x27;scaler&#x27;, MinMaxScaler()), (&#x27;knn&#x27;, KNeighborsClassifier())])</pre></div></div></div><div class=\"sk-serial\"><div class=\"sk-item\"><div class=\"sk-serial\"><div class=\"sk-item\"><div class=\"sk-estimator sk-toggleable\"><input class=\"sk-toggleable__control sk-hidden--visually\" id=\"sk-estimator-id-3\" type=\"checkbox\" ><label for=\"sk-estimator-id-3\" class=\"sk-toggleable__label sk-toggleable__label-arrow\">MinMaxScaler</label><div class=\"sk-toggleable__content\"><pre>MinMaxScaler()</pre></div></div></div><div class=\"sk-item\"><div class=\"sk-estimator sk-toggleable\"><input class=\"sk-toggleable__control sk-hidden--visually\" id=\"sk-estimator-id-4\" type=\"checkbox\" ><label for=\"sk-estimator-id-4\" class=\"sk-toggleable__label sk-toggleable__label-arrow\">KNeighborsClassifier</label><div class=\"sk-toggleable__content\"><pre>KNeighborsClassifier()</pre></div></div></div></div></div></div></div></div></div></div></div></div>"
      ],
      "text/plain": [
       "GridSearchCV(cv=KFold(n_splits=5, random_state=42, shuffle=True),\n",
       "             estimator=Pipeline(steps=[('scaler', MinMaxScaler()),\n",
       "                                       ('knn', KNeighborsClassifier())]),\n",
       "             param_grid={'knn__n_neighbors': array([ 2,  3,  4,  5,  6,  7,  8,  9, 10, 11, 12, 13, 14, 15, 16, 17, 18,\n",
       "       19, 20, 21, 22, 23, 24, 25, 26, 27, 28, 29, 30, 31, 32, 33, 34, 35,\n",
       "       36, 37, 38, 39, 40, 41, 42, 43, 44, 45, 46, 47, 48, 49, 50])},\n",
       "             verbose=1)"
      ]
     },
     "execution_count": 30,
     "metadata": {},
     "output_type": "execute_result"
    }
   ],
   "source": [
    "model_grid_search = GridSearchCV(pipeline, param_grid, verbose = 1, cv = cv)\n",
    "model_grid_search"
   ]
  },
  {
   "cell_type": "code",
   "execution_count": null,
   "metadata": {
    "colab": {
     "base_uri": "https://localhost:8080/"
    },
    "id": "ugTxfZHb2wl9",
    "outputId": "afede467-ca60-4f5a-d88e-a4787138711e"
   },
   "outputs": [
    {
     "name": "stdout",
     "output_type": "stream",
     "text": [
      "Fitting 5 folds for each of 49 candidates, totalling 245 fits\n"
     ]
    },
    {
     "data": {
      "text/html": [
       "<style>#sk-container-id-2 {color: black;background-color: white;}#sk-container-id-2 pre{padding: 0;}#sk-container-id-2 div.sk-toggleable {background-color: white;}#sk-container-id-2 label.sk-toggleable__label {cursor: pointer;display: block;width: 100%;margin-bottom: 0;padding: 0.3em;box-sizing: border-box;text-align: center;}#sk-container-id-2 label.sk-toggleable__label-arrow:before {content: \"▸\";float: left;margin-right: 0.25em;color: #696969;}#sk-container-id-2 label.sk-toggleable__label-arrow:hover:before {color: black;}#sk-container-id-2 div.sk-estimator:hover label.sk-toggleable__label-arrow:before {color: black;}#sk-container-id-2 div.sk-toggleable__content {max-height: 0;max-width: 0;overflow: hidden;text-align: left;background-color: #f0f8ff;}#sk-container-id-2 div.sk-toggleable__content pre {margin: 0.2em;color: black;border-radius: 0.25em;background-color: #f0f8ff;}#sk-container-id-2 input.sk-toggleable__control:checked~div.sk-toggleable__content {max-height: 200px;max-width: 100%;overflow: auto;}#sk-container-id-2 input.sk-toggleable__control:checked~label.sk-toggleable__label-arrow:before {content: \"▾\";}#sk-container-id-2 div.sk-estimator input.sk-toggleable__control:checked~label.sk-toggleable__label {background-color: #d4ebff;}#sk-container-id-2 div.sk-label input.sk-toggleable__control:checked~label.sk-toggleable__label {background-color: #d4ebff;}#sk-container-id-2 input.sk-hidden--visually {border: 0;clip: rect(1px 1px 1px 1px);clip: rect(1px, 1px, 1px, 1px);height: 1px;margin: -1px;overflow: hidden;padding: 0;position: absolute;width: 1px;}#sk-container-id-2 div.sk-estimator {font-family: monospace;background-color: #f0f8ff;border: 1px dotted black;border-radius: 0.25em;box-sizing: border-box;margin-bottom: 0.5em;}#sk-container-id-2 div.sk-estimator:hover {background-color: #d4ebff;}#sk-container-id-2 div.sk-parallel-item::after {content: \"\";width: 100%;border-bottom: 1px solid gray;flex-grow: 1;}#sk-container-id-2 div.sk-label:hover label.sk-toggleable__label {background-color: #d4ebff;}#sk-container-id-2 div.sk-serial::before {content: \"\";position: absolute;border-left: 1px solid gray;box-sizing: border-box;top: 0;bottom: 0;left: 50%;z-index: 0;}#sk-container-id-2 div.sk-serial {display: flex;flex-direction: column;align-items: center;background-color: white;padding-right: 0.2em;padding-left: 0.2em;position: relative;}#sk-container-id-2 div.sk-item {position: relative;z-index: 1;}#sk-container-id-2 div.sk-parallel {display: flex;align-items: stretch;justify-content: center;background-color: white;position: relative;}#sk-container-id-2 div.sk-item::before, #sk-container-id-2 div.sk-parallel-item::before {content: \"\";position: absolute;border-left: 1px solid gray;box-sizing: border-box;top: 0;bottom: 0;left: 50%;z-index: -1;}#sk-container-id-2 div.sk-parallel-item {display: flex;flex-direction: column;z-index: 1;position: relative;background-color: white;}#sk-container-id-2 div.sk-parallel-item:first-child::after {align-self: flex-end;width: 50%;}#sk-container-id-2 div.sk-parallel-item:last-child::after {align-self: flex-start;width: 50%;}#sk-container-id-2 div.sk-parallel-item:only-child::after {width: 0;}#sk-container-id-2 div.sk-dashed-wrapped {border: 1px dashed gray;margin: 0 0.4em 0.5em 0.4em;box-sizing: border-box;padding-bottom: 0.4em;background-color: white;}#sk-container-id-2 div.sk-label label {font-family: monospace;font-weight: bold;display: inline-block;line-height: 1.2em;}#sk-container-id-2 div.sk-label-container {text-align: center;}#sk-container-id-2 div.sk-container {/* jupyter's `normalize.less` sets `[hidden] { display: none; }` but bootstrap.min.css set `[hidden] { display: none !important; }` so we also need the `!important` here to be able to override the default hidden behavior on the sphinx rendered scikit-learn.org. See: https://github.com/scikit-learn/scikit-learn/issues/21755 */display: inline-block !important;position: relative;}#sk-container-id-2 div.sk-text-repr-fallback {display: none;}</style><div id=\"sk-container-id-2\" class=\"sk-top-container\"><div class=\"sk-text-repr-fallback\"><pre>GridSearchCV(cv=KFold(n_splits=5, random_state=42, shuffle=True),\n",
       "             estimator=Pipeline(steps=[(&#x27;scaler&#x27;, MinMaxScaler()),\n",
       "                                       (&#x27;knn&#x27;, KNeighborsClassifier())]),\n",
       "             param_grid={&#x27;knn__n_neighbors&#x27;: array([ 2,  3,  4,  5,  6,  7,  8,  9, 10, 11, 12, 13, 14, 15, 16, 17, 18,\n",
       "       19, 20, 21, 22, 23, 24, 25, 26, 27, 28, 29, 30, 31, 32, 33, 34, 35,\n",
       "       36, 37, 38, 39, 40, 41, 42, 43, 44, 45, 46, 47, 48, 49, 50])},\n",
       "             verbose=1)</pre><b>In a Jupyter environment, please rerun this cell to show the HTML representation or trust the notebook. <br />On GitHub, the HTML representation is unable to render, please try loading this page with nbviewer.org.</b></div><div class=\"sk-container\" hidden><div class=\"sk-item sk-dashed-wrapped\"><div class=\"sk-label-container\"><div class=\"sk-label sk-toggleable\"><input class=\"sk-toggleable__control sk-hidden--visually\" id=\"sk-estimator-id-5\" type=\"checkbox\" ><label for=\"sk-estimator-id-5\" class=\"sk-toggleable__label sk-toggleable__label-arrow\">GridSearchCV</label><div class=\"sk-toggleable__content\"><pre>GridSearchCV(cv=KFold(n_splits=5, random_state=42, shuffle=True),\n",
       "             estimator=Pipeline(steps=[(&#x27;scaler&#x27;, MinMaxScaler()),\n",
       "                                       (&#x27;knn&#x27;, KNeighborsClassifier())]),\n",
       "             param_grid={&#x27;knn__n_neighbors&#x27;: array([ 2,  3,  4,  5,  6,  7,  8,  9, 10, 11, 12, 13, 14, 15, 16, 17, 18,\n",
       "       19, 20, 21, 22, 23, 24, 25, 26, 27, 28, 29, 30, 31, 32, 33, 34, 35,\n",
       "       36, 37, 38, 39, 40, 41, 42, 43, 44, 45, 46, 47, 48, 49, 50])},\n",
       "             verbose=1)</pre></div></div></div><div class=\"sk-parallel\"><div class=\"sk-parallel-item\"><div class=\"sk-item\"><div class=\"sk-label-container\"><div class=\"sk-label sk-toggleable\"><input class=\"sk-toggleable__control sk-hidden--visually\" id=\"sk-estimator-id-6\" type=\"checkbox\" ><label for=\"sk-estimator-id-6\" class=\"sk-toggleable__label sk-toggleable__label-arrow\">estimator: Pipeline</label><div class=\"sk-toggleable__content\"><pre>Pipeline(steps=[(&#x27;scaler&#x27;, MinMaxScaler()), (&#x27;knn&#x27;, KNeighborsClassifier())])</pre></div></div></div><div class=\"sk-serial\"><div class=\"sk-item\"><div class=\"sk-serial\"><div class=\"sk-item\"><div class=\"sk-estimator sk-toggleable\"><input class=\"sk-toggleable__control sk-hidden--visually\" id=\"sk-estimator-id-7\" type=\"checkbox\" ><label for=\"sk-estimator-id-7\" class=\"sk-toggleable__label sk-toggleable__label-arrow\">MinMaxScaler</label><div class=\"sk-toggleable__content\"><pre>MinMaxScaler()</pre></div></div></div><div class=\"sk-item\"><div class=\"sk-estimator sk-toggleable\"><input class=\"sk-toggleable__control sk-hidden--visually\" id=\"sk-estimator-id-8\" type=\"checkbox\" ><label for=\"sk-estimator-id-8\" class=\"sk-toggleable__label sk-toggleable__label-arrow\">KNeighborsClassifier</label><div class=\"sk-toggleable__content\"><pre>KNeighborsClassifier()</pre></div></div></div></div></div></div></div></div></div></div></div></div>"
      ],
      "text/plain": [
       "GridSearchCV(cv=KFold(n_splits=5, random_state=42, shuffle=True),\n",
       "             estimator=Pipeline(steps=[('scaler', MinMaxScaler()),\n",
       "                                       ('knn', KNeighborsClassifier())]),\n",
       "             param_grid={'knn__n_neighbors': array([ 2,  3,  4,  5,  6,  7,  8,  9, 10, 11, 12, 13, 14, 15, 16, 17, 18,\n",
       "       19, 20, 21, 22, 23, 24, 25, 26, 27, 28, 29, 30, 31, 32, 33, 34, 35,\n",
       "       36, 37, 38, 39, 40, 41, 42, 43, 44, 45, 46, 47, 48, 49, 50])},\n",
       "             verbose=1)"
      ]
     },
     "execution_count": 31,
     "metadata": {},
     "output_type": "execute_result"
    }
   ],
   "source": [
    "model_grid_search.fit(X_train, y_train)"
   ]
  },
  {
   "cell_type": "markdown",
   "metadata": {
    "id": "DeVmoj3v2wl9"
   },
   "source": [
    "Get best params and scores"
   ]
  },
  {
   "cell_type": "code",
   "execution_count": null,
   "metadata": {
    "colab": {
     "base_uri": "https://localhost:8080/"
    },
    "id": "dHBbAMLC2wl9",
    "outputId": "4d56ac3f-a56b-453a-ba61-8a48aea3c9c2"
   },
   "outputs": [
    {
     "name": "stdout",
     "output_type": "stream",
     "text": [
      "Best hyperparameters: {'knn__n_neighbors': 44}\n",
      "Train best score: 0.687048\n",
      "Train best score std: 0.0117132\n"
     ]
    }
   ],
   "source": [
    "print(f\"Best hyperparameters: {model_grid_search.best_params_}\")\n",
    "print(f\"Train best score: {model_grid_search.best_score_:0.6}\")\n",
    "print(f\"Train best score std: {np.std(model_grid_search.cv_results_['mean_test_score']):0.6}\")"
   ]
  },
  {
   "cell_type": "markdown",
   "metadata": {
    "id": "bO0Cnaf32wl9"
   },
   "source": [
    "View test score"
   ]
  },
  {
   "cell_type": "code",
   "execution_count": null,
   "metadata": {
    "colab": {
     "base_uri": "https://localhost:8080/"
    },
    "id": "9TUNScOG2wl9",
    "outputId": "7ec7bbb6-dfb7-46ee-adde-b57418c9d427"
   },
   "outputs": [
    {
     "name": "stdout",
     "output_type": "stream",
     "text": [
      "Test best score: 0.682407\n"
     ]
    }
   ],
   "source": [
    "test_score = model_grid_search.score(X_test, y_test)\n",
    "print(f\"Test best score: {test_score:0.6}\")"
   ]
  },
  {
   "cell_type": "markdown",
   "metadata": {
    "id": "Bm7mfsmw2wl9"
   },
   "source": [
    "Select best KNN model"
   ]
  },
  {
   "cell_type": "code",
   "execution_count": null,
   "metadata": {
    "colab": {
     "base_uri": "https://localhost:8080/"
    },
    "id": "75lom6xd2wl9",
    "outputId": "fd577e5d-e786-4925-fe02-fb8ffcb454c1"
   },
   "outputs": [
    {
     "data": {
      "text/html": [
       "<style>#sk-container-id-3 {color: black;background-color: white;}#sk-container-id-3 pre{padding: 0;}#sk-container-id-3 div.sk-toggleable {background-color: white;}#sk-container-id-3 label.sk-toggleable__label {cursor: pointer;display: block;width: 100%;margin-bottom: 0;padding: 0.3em;box-sizing: border-box;text-align: center;}#sk-container-id-3 label.sk-toggleable__label-arrow:before {content: \"▸\";float: left;margin-right: 0.25em;color: #696969;}#sk-container-id-3 label.sk-toggleable__label-arrow:hover:before {color: black;}#sk-container-id-3 div.sk-estimator:hover label.sk-toggleable__label-arrow:before {color: black;}#sk-container-id-3 div.sk-toggleable__content {max-height: 0;max-width: 0;overflow: hidden;text-align: left;background-color: #f0f8ff;}#sk-container-id-3 div.sk-toggleable__content pre {margin: 0.2em;color: black;border-radius: 0.25em;background-color: #f0f8ff;}#sk-container-id-3 input.sk-toggleable__control:checked~div.sk-toggleable__content {max-height: 200px;max-width: 100%;overflow: auto;}#sk-container-id-3 input.sk-toggleable__control:checked~label.sk-toggleable__label-arrow:before {content: \"▾\";}#sk-container-id-3 div.sk-estimator input.sk-toggleable__control:checked~label.sk-toggleable__label {background-color: #d4ebff;}#sk-container-id-3 div.sk-label input.sk-toggleable__control:checked~label.sk-toggleable__label {background-color: #d4ebff;}#sk-container-id-3 input.sk-hidden--visually {border: 0;clip: rect(1px 1px 1px 1px);clip: rect(1px, 1px, 1px, 1px);height: 1px;margin: -1px;overflow: hidden;padding: 0;position: absolute;width: 1px;}#sk-container-id-3 div.sk-estimator {font-family: monospace;background-color: #f0f8ff;border: 1px dotted black;border-radius: 0.25em;box-sizing: border-box;margin-bottom: 0.5em;}#sk-container-id-3 div.sk-estimator:hover {background-color: #d4ebff;}#sk-container-id-3 div.sk-parallel-item::after {content: \"\";width: 100%;border-bottom: 1px solid gray;flex-grow: 1;}#sk-container-id-3 div.sk-label:hover label.sk-toggleable__label {background-color: #d4ebff;}#sk-container-id-3 div.sk-serial::before {content: \"\";position: absolute;border-left: 1px solid gray;box-sizing: border-box;top: 0;bottom: 0;left: 50%;z-index: 0;}#sk-container-id-3 div.sk-serial {display: flex;flex-direction: column;align-items: center;background-color: white;padding-right: 0.2em;padding-left: 0.2em;position: relative;}#sk-container-id-3 div.sk-item {position: relative;z-index: 1;}#sk-container-id-3 div.sk-parallel {display: flex;align-items: stretch;justify-content: center;background-color: white;position: relative;}#sk-container-id-3 div.sk-item::before, #sk-container-id-3 div.sk-parallel-item::before {content: \"\";position: absolute;border-left: 1px solid gray;box-sizing: border-box;top: 0;bottom: 0;left: 50%;z-index: -1;}#sk-container-id-3 div.sk-parallel-item {display: flex;flex-direction: column;z-index: 1;position: relative;background-color: white;}#sk-container-id-3 div.sk-parallel-item:first-child::after {align-self: flex-end;width: 50%;}#sk-container-id-3 div.sk-parallel-item:last-child::after {align-self: flex-start;width: 50%;}#sk-container-id-3 div.sk-parallel-item:only-child::after {width: 0;}#sk-container-id-3 div.sk-dashed-wrapped {border: 1px dashed gray;margin: 0 0.4em 0.5em 0.4em;box-sizing: border-box;padding-bottom: 0.4em;background-color: white;}#sk-container-id-3 div.sk-label label {font-family: monospace;font-weight: bold;display: inline-block;line-height: 1.2em;}#sk-container-id-3 div.sk-label-container {text-align: center;}#sk-container-id-3 div.sk-container {/* jupyter's `normalize.less` sets `[hidden] { display: none; }` but bootstrap.min.css set `[hidden] { display: none !important; }` so we also need the `!important` here to be able to override the default hidden behavior on the sphinx rendered scikit-learn.org. See: https://github.com/scikit-learn/scikit-learn/issues/21755 */display: inline-block !important;position: relative;}#sk-container-id-3 div.sk-text-repr-fallback {display: none;}</style><div id=\"sk-container-id-3\" class=\"sk-top-container\"><div class=\"sk-text-repr-fallback\"><pre>Pipeline(steps=[(&#x27;scaler&#x27;, MinMaxScaler()),\n",
       "                (&#x27;knn&#x27;, KNeighborsClassifier(n_neighbors=44))])</pre><b>In a Jupyter environment, please rerun this cell to show the HTML representation or trust the notebook. <br />On GitHub, the HTML representation is unable to render, please try loading this page with nbviewer.org.</b></div><div class=\"sk-container\" hidden><div class=\"sk-item sk-dashed-wrapped\"><div class=\"sk-label-container\"><div class=\"sk-label sk-toggleable\"><input class=\"sk-toggleable__control sk-hidden--visually\" id=\"sk-estimator-id-9\" type=\"checkbox\" ><label for=\"sk-estimator-id-9\" class=\"sk-toggleable__label sk-toggleable__label-arrow\">Pipeline</label><div class=\"sk-toggleable__content\"><pre>Pipeline(steps=[(&#x27;scaler&#x27;, MinMaxScaler()),\n",
       "                (&#x27;knn&#x27;, KNeighborsClassifier(n_neighbors=44))])</pre></div></div></div><div class=\"sk-serial\"><div class=\"sk-item\"><div class=\"sk-estimator sk-toggleable\"><input class=\"sk-toggleable__control sk-hidden--visually\" id=\"sk-estimator-id-10\" type=\"checkbox\" ><label for=\"sk-estimator-id-10\" class=\"sk-toggleable__label sk-toggleable__label-arrow\">MinMaxScaler</label><div class=\"sk-toggleable__content\"><pre>MinMaxScaler()</pre></div></div></div><div class=\"sk-item\"><div class=\"sk-estimator sk-toggleable\"><input class=\"sk-toggleable__control sk-hidden--visually\" id=\"sk-estimator-id-11\" type=\"checkbox\" ><label for=\"sk-estimator-id-11\" class=\"sk-toggleable__label sk-toggleable__label-arrow\">KNeighborsClassifier</label><div class=\"sk-toggleable__content\"><pre>KNeighborsClassifier(n_neighbors=44)</pre></div></div></div></div></div></div></div>"
      ],
      "text/plain": [
       "Pipeline(steps=[('scaler', MinMaxScaler()),\n",
       "                ('knn', KNeighborsClassifier(n_neighbors=44))])"
      ]
     },
     "execution_count": 34,
     "metadata": {},
     "output_type": "execute_result"
    }
   ],
   "source": [
    "knn_model_pipeline = model_grid_search.best_estimator_\n",
    "knn_model_pipeline"
   ]
  },
  {
   "cell_type": "markdown",
   "metadata": {
    "id": "stdwET3k2wl_"
   },
   "source": [
    "### 4.2. Random Forest (RF)"
   ]
  },
  {
   "cell_type": "markdown",
   "metadata": {
    "id": "BDMWePUH2wl_"
   },
   "source": [
    "Perform Random Forest and validate using k-fold cross validation k = 5"
   ]
  },
  {
   "cell_type": "code",
   "execution_count": null,
   "metadata": {
    "id": "XSJ-sDke2wl_"
   },
   "outputs": [],
   "source": [
    "# Set parameter values\n",
    "k = 5 # for kfold"
   ]
  },
  {
   "cell_type": "code",
   "execution_count": null,
   "metadata": {
    "id": "vvPdd-8T2wl_"
   },
   "outputs": [],
   "source": [
    "# Set scaler\n",
    "scaler = MinMaxScaler()   # RobustScaler would also work\n",
    "\n",
    "# Initialize model\n",
    "model = RandomForestClassifier()\n",
    "\n",
    "# Initialize pipeline\n",
    "pipeline = Pipeline ([(\"scaler\", scaler),(\"rfc\", model)])\n",
    "\n",
    "# Initialize cross validation\n",
    "cv = KFold(n_splits=k, shuffle=True, random_state=42)"
   ]
  },
  {
   "cell_type": "markdown",
   "metadata": {
    "id": "Cvi95zZ22wl_"
   },
   "source": [
    "Initialize parameter grid"
   ]
  },
  {
   "cell_type": "code",
   "execution_count": null,
   "metadata": {
    "id": "V9yYlP_z2wl_"
   },
   "outputs": [],
   "source": [
    "param_grid = {\n",
    "    'rfc__n_estimators': [50, 100, 200, 500],\n",
    "    'rfc__max_depth' : [None, 5, 10, 15, 20],\n",
    "}"
   ]
  },
  {
   "cell_type": "markdown",
   "metadata": {
    "id": "a-5oJHSp2wl_"
   },
   "source": [
    "Find optimal parameters"
   ]
  },
  {
   "cell_type": "code",
   "execution_count": null,
   "metadata": {
    "colab": {
     "base_uri": "https://localhost:8080/",
     "height": 170
    },
    "id": "_kjLJwp_2wl_",
    "outputId": "fe5af897-f193-4528-ffbb-3b1bdb41aaa5"
   },
   "outputs": [
    {
     "name": "stdout",
     "output_type": "stream",
     "text": [
      "Fitting 5 folds for each of 20 candidates, totalling 100 fits\n"
     ]
    },
    {
     "data": {
      "text/html": [
       "<style>#sk-container-id-4 {color: black;background-color: white;}#sk-container-id-4 pre{padding: 0;}#sk-container-id-4 div.sk-toggleable {background-color: white;}#sk-container-id-4 label.sk-toggleable__label {cursor: pointer;display: block;width: 100%;margin-bottom: 0;padding: 0.3em;box-sizing: border-box;text-align: center;}#sk-container-id-4 label.sk-toggleable__label-arrow:before {content: \"▸\";float: left;margin-right: 0.25em;color: #696969;}#sk-container-id-4 label.sk-toggleable__label-arrow:hover:before {color: black;}#sk-container-id-4 div.sk-estimator:hover label.sk-toggleable__label-arrow:before {color: black;}#sk-container-id-4 div.sk-toggleable__content {max-height: 0;max-width: 0;overflow: hidden;text-align: left;background-color: #f0f8ff;}#sk-container-id-4 div.sk-toggleable__content pre {margin: 0.2em;color: black;border-radius: 0.25em;background-color: #f0f8ff;}#sk-container-id-4 input.sk-toggleable__control:checked~div.sk-toggleable__content {max-height: 200px;max-width: 100%;overflow: auto;}#sk-container-id-4 input.sk-toggleable__control:checked~label.sk-toggleable__label-arrow:before {content: \"▾\";}#sk-container-id-4 div.sk-estimator input.sk-toggleable__control:checked~label.sk-toggleable__label {background-color: #d4ebff;}#sk-container-id-4 div.sk-label input.sk-toggleable__control:checked~label.sk-toggleable__label {background-color: #d4ebff;}#sk-container-id-4 input.sk-hidden--visually {border: 0;clip: rect(1px 1px 1px 1px);clip: rect(1px, 1px, 1px, 1px);height: 1px;margin: -1px;overflow: hidden;padding: 0;position: absolute;width: 1px;}#sk-container-id-4 div.sk-estimator {font-family: monospace;background-color: #f0f8ff;border: 1px dotted black;border-radius: 0.25em;box-sizing: border-box;margin-bottom: 0.5em;}#sk-container-id-4 div.sk-estimator:hover {background-color: #d4ebff;}#sk-container-id-4 div.sk-parallel-item::after {content: \"\";width: 100%;border-bottom: 1px solid gray;flex-grow: 1;}#sk-container-id-4 div.sk-label:hover label.sk-toggleable__label {background-color: #d4ebff;}#sk-container-id-4 div.sk-serial::before {content: \"\";position: absolute;border-left: 1px solid gray;box-sizing: border-box;top: 0;bottom: 0;left: 50%;z-index: 0;}#sk-container-id-4 div.sk-serial {display: flex;flex-direction: column;align-items: center;background-color: white;padding-right: 0.2em;padding-left: 0.2em;position: relative;}#sk-container-id-4 div.sk-item {position: relative;z-index: 1;}#sk-container-id-4 div.sk-parallel {display: flex;align-items: stretch;justify-content: center;background-color: white;position: relative;}#sk-container-id-4 div.sk-item::before, #sk-container-id-4 div.sk-parallel-item::before {content: \"\";position: absolute;border-left: 1px solid gray;box-sizing: border-box;top: 0;bottom: 0;left: 50%;z-index: -1;}#sk-container-id-4 div.sk-parallel-item {display: flex;flex-direction: column;z-index: 1;position: relative;background-color: white;}#sk-container-id-4 div.sk-parallel-item:first-child::after {align-self: flex-end;width: 50%;}#sk-container-id-4 div.sk-parallel-item:last-child::after {align-self: flex-start;width: 50%;}#sk-container-id-4 div.sk-parallel-item:only-child::after {width: 0;}#sk-container-id-4 div.sk-dashed-wrapped {border: 1px dashed gray;margin: 0 0.4em 0.5em 0.4em;box-sizing: border-box;padding-bottom: 0.4em;background-color: white;}#sk-container-id-4 div.sk-label label {font-family: monospace;font-weight: bold;display: inline-block;line-height: 1.2em;}#sk-container-id-4 div.sk-label-container {text-align: center;}#sk-container-id-4 div.sk-container {/* jupyter's `normalize.less` sets `[hidden] { display: none; }` but bootstrap.min.css set `[hidden] { display: none !important; }` so we also need the `!important` here to be able to override the default hidden behavior on the sphinx rendered scikit-learn.org. See: https://github.com/scikit-learn/scikit-learn/issues/21755 */display: inline-block !important;position: relative;}#sk-container-id-4 div.sk-text-repr-fallback {display: none;}</style><div id=\"sk-container-id-4\" class=\"sk-top-container\"><div class=\"sk-text-repr-fallback\"><pre>GridSearchCV(cv=KFold(n_splits=5, random_state=42, shuffle=True),\n",
       "             estimator=Pipeline(steps=[(&#x27;scaler&#x27;, MinMaxScaler()),\n",
       "                                       (&#x27;rfc&#x27;, RandomForestClassifier())]),\n",
       "             param_grid={&#x27;rfc__max_depth&#x27;: [None, 5, 10, 15, 20],\n",
       "                         &#x27;rfc__n_estimators&#x27;: [50, 100, 200, 500]},\n",
       "             verbose=1)</pre><b>In a Jupyter environment, please rerun this cell to show the HTML representation or trust the notebook. <br />On GitHub, the HTML representation is unable to render, please try loading this page with nbviewer.org.</b></div><div class=\"sk-container\" hidden><div class=\"sk-item sk-dashed-wrapped\"><div class=\"sk-label-container\"><div class=\"sk-label sk-toggleable\"><input class=\"sk-toggleable__control sk-hidden--visually\" id=\"sk-estimator-id-12\" type=\"checkbox\" ><label for=\"sk-estimator-id-12\" class=\"sk-toggleable__label sk-toggleable__label-arrow\">GridSearchCV</label><div class=\"sk-toggleable__content\"><pre>GridSearchCV(cv=KFold(n_splits=5, random_state=42, shuffle=True),\n",
       "             estimator=Pipeline(steps=[(&#x27;scaler&#x27;, MinMaxScaler()),\n",
       "                                       (&#x27;rfc&#x27;, RandomForestClassifier())]),\n",
       "             param_grid={&#x27;rfc__max_depth&#x27;: [None, 5, 10, 15, 20],\n",
       "                         &#x27;rfc__n_estimators&#x27;: [50, 100, 200, 500]},\n",
       "             verbose=1)</pre></div></div></div><div class=\"sk-parallel\"><div class=\"sk-parallel-item\"><div class=\"sk-item\"><div class=\"sk-label-container\"><div class=\"sk-label sk-toggleable\"><input class=\"sk-toggleable__control sk-hidden--visually\" id=\"sk-estimator-id-13\" type=\"checkbox\" ><label for=\"sk-estimator-id-13\" class=\"sk-toggleable__label sk-toggleable__label-arrow\">estimator: Pipeline</label><div class=\"sk-toggleable__content\"><pre>Pipeline(steps=[(&#x27;scaler&#x27;, MinMaxScaler()), (&#x27;rfc&#x27;, RandomForestClassifier())])</pre></div></div></div><div class=\"sk-serial\"><div class=\"sk-item\"><div class=\"sk-serial\"><div class=\"sk-item\"><div class=\"sk-estimator sk-toggleable\"><input class=\"sk-toggleable__control sk-hidden--visually\" id=\"sk-estimator-id-14\" type=\"checkbox\" ><label for=\"sk-estimator-id-14\" class=\"sk-toggleable__label sk-toggleable__label-arrow\">MinMaxScaler</label><div class=\"sk-toggleable__content\"><pre>MinMaxScaler()</pre></div></div></div><div class=\"sk-item\"><div class=\"sk-estimator sk-toggleable\"><input class=\"sk-toggleable__control sk-hidden--visually\" id=\"sk-estimator-id-15\" type=\"checkbox\" ><label for=\"sk-estimator-id-15\" class=\"sk-toggleable__label sk-toggleable__label-arrow\">RandomForestClassifier</label><div class=\"sk-toggleable__content\"><pre>RandomForestClassifier()</pre></div></div></div></div></div></div></div></div></div></div></div></div>"
      ],
      "text/plain": [
       "GridSearchCV(cv=KFold(n_splits=5, random_state=42, shuffle=True),\n",
       "             estimator=Pipeline(steps=[('scaler', MinMaxScaler()),\n",
       "                                       ('rfc', RandomForestClassifier())]),\n",
       "             param_grid={'rfc__max_depth': [None, 5, 10, 15, 20],\n",
       "                         'rfc__n_estimators': [50, 100, 200, 500]},\n",
       "             verbose=1)"
      ]
     },
     "execution_count": 38,
     "metadata": {},
     "output_type": "execute_result"
    }
   ],
   "source": [
    "model_grid_search = GridSearchCV(pipeline, param_grid, verbose = 1, cv = cv)\n",
    "model_grid_search.fit(X_train, y_train)"
   ]
  },
  {
   "cell_type": "markdown",
   "metadata": {
    "id": "3XaP2i4f2wl_"
   },
   "source": [
    "Get best params and scores"
   ]
  },
  {
   "cell_type": "code",
   "execution_count": null,
   "metadata": {
    "colab": {
     "base_uri": "https://localhost:8080/"
    },
    "id": "lDxpwWCo2wl_",
    "outputId": "2f31d05d-ae34-4038-a2a8-96ade3ec2ea4"
   },
   "outputs": [
    {
     "name": "stdout",
     "output_type": "stream",
     "text": [
      "Best hyperparameters: {'rfc__max_depth': None, 'rfc__n_estimators': 500}\n",
      "Train best score: 0.745905\n",
      "Train best score std: 0.0191\n"
     ]
    }
   ],
   "source": [
    "print(f\"Best hyperparameters: {model_grid_search.best_params_}\")\n",
    "print(f\"Train best score: {model_grid_search.best_score_:0.6}\")\n",
    "print(f\"Train best score std: {np.std(model_grid_search.cv_results_['mean_test_score']):0.6}\")"
   ]
  },
  {
   "cell_type": "markdown",
   "metadata": {
    "id": "wMB71A5r2wl_"
   },
   "source": [
    "View test score"
   ]
  },
  {
   "cell_type": "code",
   "execution_count": null,
   "metadata": {
    "colab": {
     "base_uri": "https://localhost:8080/"
    },
    "id": "LexAxwqQ2wl_",
    "outputId": "3c429284-c819-4dc5-ddd3-314c7af8b1fd"
   },
   "outputs": [
    {
     "name": "stdout",
     "output_type": "stream",
     "text": [
      "Test best score: 0.737243\n"
     ]
    }
   ],
   "source": [
    "test_score = model_grid_search.score(X_test, y_test)\n",
    "print(f\"Test best score: {test_score:0.6}\")"
   ]
  },
  {
   "cell_type": "markdown",
   "metadata": {
    "id": "YK4DniSg2wl_"
   },
   "source": [
    "Visualize final tree"
   ]
  },
  {
   "cell_type": "code",
   "execution_count": null,
   "metadata": {
    "colab": {
     "base_uri": "https://localhost:8080/",
     "height": 805
    },
    "id": "QBZgagdx2wl_",
    "outputId": "c36bf23b-2669-439d-9d9c-eec4740f41f5"
   },
   "outputs": [
    {
     "data": {
      "image/png": "[encoded data removed]",
      "text/plain": [
       "<Figure size 1200x800 with 1 Axes>"
      ]
     },
     "metadata": {},
     "output_type": "display_data"
    }
   ],
   "source": [
    "best_params = {k.split('__')[1]:v for k,v in model_grid_search.best_params_.items()}\n",
    "rfc_best = RandomForestClassifier(random_state=42, **best_params)\n",
    "rfc_best.fit(X_train, y_train)\n",
    "\n",
    "# plot\n",
    "plt.figure(figsize=(12,8))\n",
    "plot_tree(rfc_best.estimators_[0],feature_names=X_train.columns, filled=True, fontsize=5)\n",
    "plt.tight_layout()\n"
   ]
  },
  {
   "cell_type": "markdown",
   "metadata": {
    "id": "KT1i2S7V2wmA"
   },
   "source": [
    "Select best RF model"
   ]
  },
  {
   "cell_type": "code",
   "execution_count": null,
   "metadata": {
    "colab": {
     "base_uri": "https://localhost:8080/",
     "height": 126
    },
    "id": "xbf-VEBQ2wmA",
    "outputId": "b2fb516a-9686-4954-f299-ecb01254dc22"
   },
   "outputs": [
    {
     "data": {
      "text/html": [
       "<style>#sk-container-id-5 {color: black;background-color: white;}#sk-container-id-5 pre{padding: 0;}#sk-container-id-5 div.sk-toggleable {background-color: white;}#sk-container-id-5 label.sk-toggleable__label {cursor: pointer;display: block;width: 100%;margin-bottom: 0;padding: 0.3em;box-sizing: border-box;text-align: center;}#sk-container-id-5 label.sk-toggleable__label-arrow:before {content: \"▸\";float: left;margin-right: 0.25em;color: #696969;}#sk-container-id-5 label.sk-toggleable__label-arrow:hover:before {color: black;}#sk-container-id-5 div.sk-estimator:hover label.sk-toggleable__label-arrow:before {color: black;}#sk-container-id-5 div.sk-toggleable__content {max-height: 0;max-width: 0;overflow: hidden;text-align: left;background-color: #f0f8ff;}#sk-container-id-5 div.sk-toggleable__content pre {margin: 0.2em;color: black;border-radius: 0.25em;background-color: #f0f8ff;}#sk-container-id-5 input.sk-toggleable__control:checked~div.sk-toggleable__content {max-height: 200px;max-width: 100%;overflow: auto;}#sk-container-id-5 input.sk-toggleable__control:checked~label.sk-toggleable__label-arrow:before {content: \"▾\";}#sk-container-id-5 div.sk-estimator input.sk-toggleable__control:checked~label.sk-toggleable__label {background-color: #d4ebff;}#sk-container-id-5 div.sk-label input.sk-toggleable__control:checked~label.sk-toggleable__label {background-color: #d4ebff;}#sk-container-id-5 input.sk-hidden--visually {border: 0;clip: rect(1px 1px 1px 1px);clip: rect(1px, 1px, 1px, 1px);height: 1px;margin: -1px;overflow: hidden;padding: 0;position: absolute;width: 1px;}#sk-container-id-5 div.sk-estimator {font-family: monospace;background-color: #f0f8ff;border: 1px dotted black;border-radius: 0.25em;box-sizing: border-box;margin-bottom: 0.5em;}#sk-container-id-5 div.sk-estimator:hover {background-color: #d4ebff;}#sk-container-id-5 div.sk-parallel-item::after {content: \"\";width: 100%;border-bottom: 1px solid gray;flex-grow: 1;}#sk-container-id-5 div.sk-label:hover label.sk-toggleable__label {background-color: #d4ebff;}#sk-container-id-5 div.sk-serial::before {content: \"\";position: absolute;border-left: 1px solid gray;box-sizing: border-box;top: 0;bottom: 0;left: 50%;z-index: 0;}#sk-container-id-5 div.sk-serial {display: flex;flex-direction: column;align-items: center;background-color: white;padding-right: 0.2em;padding-left: 0.2em;position: relative;}#sk-container-id-5 div.sk-item {position: relative;z-index: 1;}#sk-container-id-5 div.sk-parallel {display: flex;align-items: stretch;justify-content: center;background-color: white;position: relative;}#sk-container-id-5 div.sk-item::before, #sk-container-id-5 div.sk-parallel-item::before {content: \"\";position: absolute;border-left: 1px solid gray;box-sizing: border-box;top: 0;bottom: 0;left: 50%;z-index: -1;}#sk-container-id-5 div.sk-parallel-item {display: flex;flex-direction: column;z-index: 1;position: relative;background-color: white;}#sk-container-id-5 div.sk-parallel-item:first-child::after {align-self: flex-end;width: 50%;}#sk-container-id-5 div.sk-parallel-item:last-child::after {align-self: flex-start;width: 50%;}#sk-container-id-5 div.sk-parallel-item:only-child::after {width: 0;}#sk-container-id-5 div.sk-dashed-wrapped {border: 1px dashed gray;margin: 0 0.4em 0.5em 0.4em;box-sizing: border-box;padding-bottom: 0.4em;background-color: white;}#sk-container-id-5 div.sk-label label {font-family: monospace;font-weight: bold;display: inline-block;line-height: 1.2em;}#sk-container-id-5 div.sk-label-container {text-align: center;}#sk-container-id-5 div.sk-container {/* jupyter's `normalize.less` sets `[hidden] { display: none; }` but bootstrap.min.css set `[hidden] { display: none !important; }` so we also need the `!important` here to be able to override the default hidden behavior on the sphinx rendered scikit-learn.org. See: https://github.com/scikit-learn/scikit-learn/issues/21755 */display: inline-block !important;position: relative;}#sk-container-id-5 div.sk-text-repr-fallback {display: none;}</style><div id=\"sk-container-id-5\" class=\"sk-top-container\"><div class=\"sk-text-repr-fallback\"><pre>Pipeline(steps=[(&#x27;scaler&#x27;, MinMaxScaler()),\n",
       "                (&#x27;rfc&#x27;, RandomForestClassifier(n_estimators=500))])</pre><b>In a Jupyter environment, please rerun this cell to show the HTML representation or trust the notebook. <br />On GitHub, the HTML representation is unable to render, please try loading this page with nbviewer.org.</b></div><div class=\"sk-container\" hidden><div class=\"sk-item sk-dashed-wrapped\"><div class=\"sk-label-container\"><div class=\"sk-label sk-toggleable\"><input class=\"sk-toggleable__control sk-hidden--visually\" id=\"sk-estimator-id-16\" type=\"checkbox\" ><label for=\"sk-estimator-id-16\" class=\"sk-toggleable__label sk-toggleable__label-arrow\">Pipeline</label><div class=\"sk-toggleable__content\"><pre>Pipeline(steps=[(&#x27;scaler&#x27;, MinMaxScaler()),\n",
       "                (&#x27;rfc&#x27;, RandomForestClassifier(n_estimators=500))])</pre></div></div></div><div class=\"sk-serial\"><div class=\"sk-item\"><div class=\"sk-estimator sk-toggleable\"><input class=\"sk-toggleable__control sk-hidden--visually\" id=\"sk-estimator-id-17\" type=\"checkbox\" ><label for=\"sk-estimator-id-17\" class=\"sk-toggleable__label sk-toggleable__label-arrow\">MinMaxScaler</label><div class=\"sk-toggleable__content\"><pre>MinMaxScaler()</pre></div></div></div><div class=\"sk-item\"><div class=\"sk-estimator sk-toggleable\"><input class=\"sk-toggleable__control sk-hidden--visually\" id=\"sk-estimator-id-18\" type=\"checkbox\" ><label for=\"sk-estimator-id-18\" class=\"sk-toggleable__label sk-toggleable__label-arrow\">RandomForestClassifier</label><div class=\"sk-toggleable__content\"><pre>RandomForestClassifier(n_estimators=500)</pre></div></div></div></div></div></div></div>"
      ],
      "text/plain": [
       "Pipeline(steps=[('scaler', MinMaxScaler()),\n",
       "                ('rfc', RandomForestClassifier(n_estimators=500))])"
      ]
     },
     "execution_count": 42,
     "metadata": {},
     "output_type": "execute_result"
    }
   ],
   "source": [
    "rfc_model_pipeline = model_grid_search.best_estimator_\n",
    "rfc_model_pipeline"
   ]
  },
  {
   "cell_type": "markdown",
   "metadata": {
    "id": "o7r1u1Pv2wmA"
   },
   "source": [
    "## 5. Select Best Model"
   ]
  },
  {
   "cell_type": "markdown",
   "metadata": {
    "id": "_Q-Y5nMq2wmA"
   },
   "source": [
    "Generate genre predictions per best model"
   ]
  },
  {
   "cell_type": "code",
   "execution_count": null,
   "metadata": {
    "id": "D3uPGWzg2wmA"
   },
   "outputs": [],
   "source": [
    "knn_y_pred = knn_model_pipeline.fit(X_train, y_train).predict(X_test)\n",
    "# svc_y_pred = svc_model_pipeline.fit(X_train, y_train).predict(X_test)\n",
    "rfc_y_pred = rfc_model_pipeline.fit(X_train, y_train).predict(X_test)"
   ]
  },
  {
   "cell_type": "markdown",
   "metadata": {
    "id": "uL6NDm5S2wmA"
   },
   "source": [
    "Generate classification report per best model"
   ]
  },
  {
   "cell_type": "code",
   "execution_count": null,
   "metadata": {
    "colab": {
     "base_uri": "https://localhost:8080/"
    },
    "id": "NiWg0zfL2wmA",
    "outputId": "fbff8c61-0afc-4048-9acf-f31c9fb8ee55"
   },
   "outputs": [
    {
     "name": "stdout",
     "output_type": "stream",
     "text": [
      "-------------------------------------------------------------\n",
      "KNN\n",
      "              precision    recall  f1-score   support\n",
      "\n",
      "  electronic       0.68      0.72      0.70       274\n",
      "        jazz       0.82      0.81      0.81       354\n",
      "         r&b       0.47      0.33      0.39       187\n",
      "         rap       0.59      0.67      0.63       203\n",
      "        rock       0.68      0.73      0.70       295\n",
      "\n",
      "    accuracy                           0.68      1313\n",
      "   macro avg       0.65      0.65      0.65      1313\n",
      "weighted avg       0.68      0.68      0.68      1313\n",
      "\n",
      "-------------------------------------------------------------\n",
      "RF\n",
      "              precision    recall  f1-score   support\n",
      "\n",
      "  electronic       0.79      0.76      0.77       274\n",
      "        jazz       0.85      0.84      0.84       354\n",
      "         r&b       0.54      0.45      0.49       187\n",
      "         rap       0.62      0.69      0.65       203\n",
      "        rock       0.75      0.81      0.78       295\n",
      "\n",
      "    accuracy                           0.74      1313\n",
      "   macro avg       0.71      0.71      0.71      1313\n",
      "weighted avg       0.73      0.74      0.73      1313\n",
      "\n"
     ]
    }
   ],
   "source": [
    "model_names = ['KNN','RF']\n",
    "for i,y_pred in enumerate([knn_y_pred, rfc_y_pred]):\n",
    "    print('-------------------------------------------------------------')\n",
    "    print(model_names[i])\n",
    "    print(classification_report(y_test,y_pred,\\\n",
    "                                target_names=genre_lookup.values()))"
   ]
  },
  {
   "cell_type": "markdown",
   "metadata": {
    "id": "QCzsDzy32wmA"
   },
   "source": [
    "- accuracy = % correct genre classifications\n",
    "        all correct / all\n",
    "- precision =  % correct genre classifications given everything model classified as that genre, emphasizes false positives\n",
    "        TP/TP+FP\n",
    "- recall = % correct genre classifications given all actual tracks in the genre, emphasizes false negatives\n",
    "        TP/TP+FN\n",
    "- f1-score = weighted average of Precision and Recall\n",
    "        F1 Score = 2*(Recall * Precision) / (Recall + Precision)\n",
    "- support = number of items in the class\n",
    "\n",
    "- macro ave = average of the unweighted mean per label\n",
    "- weighted ave = average of the weighted mean per label\n"
   ]
  },
  {
   "cell_type": "markdown",
   "metadata": {
    "id": "enZjknjq2wmA"
   },
   "source": [
    "Plot confusion matrices"
   ]
  },
  {
   "cell_type": "code",
   "execution_count": null,
   "metadata": {
    "colab": {
     "base_uri": "https://localhost:8080/",
     "height": 536
    },
    "id": "mNJ7m1eD2wmA",
    "outputId": "36d9ab19-b180-4834-c4e1-e29609023e1f"
   },
   "outputs": [
    {
     "data": {
      "image/png": "[encoded data removed]",
      "text/plain": [
       "<Figure size 1000x500 with 2 Axes>"
      ]
     },
     "metadata": {},
     "output_type": "display_data"
    }
   ],
   "source": [
    "fig,axs = plt.subplots(1,2, figsize=(10,5))\n",
    "model_names = ['KNN','RF']\n",
    "for i,y_pred in enumerate([knn_y_pred, rfc_y_pred]):\n",
    "    cm = confusion_matrix(y_test, y_pred)\n",
    "    cmd = ConfusionMatrixDisplay(cm, display_labels=list(genre_lookup.values()))\n",
    "    cmd.plot(ax=axs[i], xticks_rotation=90, colorbar=False)\n",
    "    axs[i].set_title(model_names[i])\n",
    "plt.tight_layout()\n"
   ]
  },
  {
   "cell_type": "markdown",
   "metadata": {
    "id": "H31O6hrZ2wmA"
   },
   "source": [
    "Store best model"
   ]
  },
  {
   "cell_type": "code",
   "execution_count": null,
   "metadata": {
    "id": "nOAHlKcn2wmA"
   },
   "outputs": [],
   "source": [
    "best_model_pipeline = rfc_model_pipeline"
   ]
  },
  {
   "cell_type": "code",
   "execution_count": null,
   "metadata": {
    "id": "iA8yustx2wmA"
   },
   "outputs": [],
   "source": [
    "best_model = best_model_pipeline.named_steps['rfc']\n",
    "best_model_scaler = best_model_pipeline.named_steps['scaler']"
   ]
  },
  {
   "cell_type": "markdown",
   "metadata": {
    "id": "EizUSD9C2wmA"
   },
   "source": [
    "Add predictions as columns to `tracks_df`"
   ]
  },
  {
   "cell_type": "code",
   "execution_count": null,
   "metadata": {
    "colab": {
     "base_uri": "https://localhost:8080/",
     "height": 721
    },
    "id": "FleX8OQI2wmA",
    "outputId": "134c3bb8-c699-4e54-aa89-9549400e8452"
   },
   "outputs": [
    {
     "data": {
      "text/html": [
       "\n",
       "  <div id=\"df-0886682b-6216-46f5-80dc-b025d7723655\" class=\"colab-df-container\">\n",
       "    <div>\n",
       "<style scoped>\n",
       "    .dataframe tbody tr th:only-of-type {\n",
       "        vertical-align: middle;\n",
       "    }\n",
       "\n",
       "    .dataframe tbody tr th {\n",
       "        vertical-align: top;\n",
       "    }\n",
       "\n",
       "    .dataframe thead th {\n",
       "        text-align: right;\n",
       "    }\n",
       "</style>\n",
       "<table border=\"1\" class=\"dataframe\">\n",
       "  <thead>\n",
       "    <tr style=\"text-align: right;\">\n",
       "      <th></th>\n",
       "      <th>track_id</th>\n",
       "      <th>track_name</th>\n",
       "      <th>artist_id</th>\n",
       "      <th>artist_name</th>\n",
       "      <th>album_id</th>\n",
       "      <th>duration</th>\n",
       "      <th>release_date</th>\n",
       "      <th>popularity</th>\n",
       "      <th>danceability</th>\n",
       "      <th>energy</th>\n",
       "      <th>...</th>\n",
       "      <th>instrumentalness</th>\n",
       "      <th>liveness</th>\n",
       "      <th>valence</th>\n",
       "      <th>tempo</th>\n",
       "      <th>playlist_id</th>\n",
       "      <th>playlist_name</th>\n",
       "      <th>genre</th>\n",
       "      <th>genre_id</th>\n",
       "      <th>predicted_genre_id</th>\n",
       "      <th>predicted_genre</th>\n",
       "    </tr>\n",
       "  </thead>\n",
       "  <tbody>\n",
       "    <tr>\n",
       "      <th>0</th>\n",
       "      <td>2c7huQpWR29bcXrrvLcG2j</td>\n",
       "      <td>We Need A Resolution (feat. Timbaland)</td>\n",
       "      <td>0urTpYCsixqZwgNTkPJOJ4</td>\n",
       "      <td>Aaliyah</td>\n",
       "      <td>0cNaDPtbHC1PMJMRTY2GFc</td>\n",
       "      <td>242826</td>\n",
       "      <td>2001-07-07</td>\n",
       "      <td>64</td>\n",
       "      <td>0.728</td>\n",
       "      <td>0.512</td>\n",
       "      <td>...</td>\n",
       "      <td>0.000000</td>\n",
       "      <td>0.113</td>\n",
       "      <td>0.824</td>\n",
       "      <td>147.170</td>\n",
       "      <td>37i9dQZF1DWYmmr74INQlb</td>\n",
       "      <td>I Love My '00s R&amp;B</td>\n",
       "      <td>r&amp;b</td>\n",
       "      <td>2</td>\n",
       "      <td>2</td>\n",
       "      <td>r&amp;b</td>\n",
       "    </tr>\n",
       "    <tr>\n",
       "      <th>1</th>\n",
       "      <td>0ceeRNqbOzRiGE42KWSrRa</td>\n",
       "      <td>Into You (feat. Fabolous)</td>\n",
       "      <td>0le01dl1WllSHhjEXRl4in</td>\n",
       "      <td>Tamia</td>\n",
       "      <td>43QuYbSfbTjcsghwJyUnyP</td>\n",
       "      <td>294093</td>\n",
       "      <td>2004-04-05</td>\n",
       "      <td>61</td>\n",
       "      <td>0.677</td>\n",
       "      <td>0.531</td>\n",
       "      <td>...</td>\n",
       "      <td>0.000000</td>\n",
       "      <td>0.173</td>\n",
       "      <td>0.570</td>\n",
       "      <td>91.104</td>\n",
       "      <td>37i9dQZF1DWYmmr74INQlb</td>\n",
       "      <td>I Love My '00s R&amp;B</td>\n",
       "      <td>r&amp;b</td>\n",
       "      <td>2</td>\n",
       "      <td>2</td>\n",
       "      <td>r&amp;b</td>\n",
       "    </tr>\n",
       "    <tr>\n",
       "      <th>2</th>\n",
       "      <td>4iuNZTcvT9diFySSzVsnVS</td>\n",
       "      <td>When I See U</td>\n",
       "      <td>7xAcVHPiirnUqfdqo0USb1</td>\n",
       "      <td>Fantasia</td>\n",
       "      <td>42DybH3gl3WcfXAQySOEiX</td>\n",
       "      <td>217346</td>\n",
       "      <td>2006-12-09</td>\n",
       "      <td>71</td>\n",
       "      <td>0.569</td>\n",
       "      <td>0.596</td>\n",
       "      <td>...</td>\n",
       "      <td>0.000079</td>\n",
       "      <td>0.205</td>\n",
       "      <td>0.754</td>\n",
       "      <td>93.135</td>\n",
       "      <td>37i9dQZF1DWYmmr74INQlb</td>\n",
       "      <td>I Love My '00s R&amp;B</td>\n",
       "      <td>r&amp;b</td>\n",
       "      <td>2</td>\n",
       "      <td>2</td>\n",
       "      <td>r&amp;b</td>\n",
       "    </tr>\n",
       "    <tr>\n",
       "      <th>4</th>\n",
       "      <td>2RqZFOLOnzVmHUX7ZMcaES</td>\n",
       "      <td>Let It Go</td>\n",
       "      <td>1vfezMIyCr4XUdYRaKIKi3</td>\n",
       "      <td>Keyshia Cole</td>\n",
       "      <td>7mdy09EO4q6F9VWBtXDDjK</td>\n",
       "      <td>238333</td>\n",
       "      <td>2007-01-01</td>\n",
       "      <td>67</td>\n",
       "      <td>0.806</td>\n",
       "      <td>0.721</td>\n",
       "      <td>...</td>\n",
       "      <td>0.000000</td>\n",
       "      <td>0.209</td>\n",
       "      <td>0.781</td>\n",
       "      <td>94.967</td>\n",
       "      <td>37i9dQZF1DWYmmr74INQlb</td>\n",
       "      <td>I Love My '00s R&amp;B</td>\n",
       "      <td>r&amp;b</td>\n",
       "      <td>2</td>\n",
       "      <td>2</td>\n",
       "      <td>r&amp;b</td>\n",
       "    </tr>\n",
       "    <tr>\n",
       "      <th>5</th>\n",
       "      <td>6nTcn8CybBcx0t7IaXEJ6O</td>\n",
       "      <td>Thank God I Found You (feat. Joe &amp; Nas) - Make...</td>\n",
       "      <td>4iHNK0tOyZPYnBU7nGAgpQ</td>\n",
       "      <td>Mariah Carey</td>\n",
       "      <td>6zuCJaxmHKNKN5hMDF556U</td>\n",
       "      <td>251640</td>\n",
       "      <td>2000-04-18</td>\n",
       "      <td>60</td>\n",
       "      <td>0.608</td>\n",
       "      <td>0.760</td>\n",
       "      <td>...</td>\n",
       "      <td>0.000000</td>\n",
       "      <td>0.332</td>\n",
       "      <td>0.366</td>\n",
       "      <td>168.211</td>\n",
       "      <td>37i9dQZF1DWYmmr74INQlb</td>\n",
       "      <td>I Love My '00s R&amp;B</td>\n",
       "      <td>r&amp;b</td>\n",
       "      <td>2</td>\n",
       "      <td>2</td>\n",
       "      <td>r&amp;b</td>\n",
       "    </tr>\n",
       "    <tr>\n",
       "      <th>...</th>\n",
       "      <td>...</td>\n",
       "      <td>...</td>\n",
       "      <td>...</td>\n",
       "      <td>...</td>\n",
       "      <td>...</td>\n",
       "      <td>...</td>\n",
       "      <td>...</td>\n",
       "      <td>...</td>\n",
       "      <td>...</td>\n",
       "      <td>...</td>\n",
       "      <td>...</td>\n",
       "      <td>...</td>\n",
       "      <td>...</td>\n",
       "      <td>...</td>\n",
       "      <td>...</td>\n",
       "      <td>...</td>\n",
       "      <td>...</td>\n",
       "      <td>...</td>\n",
       "      <td>...</td>\n",
       "      <td>...</td>\n",
       "      <td>...</td>\n",
       "    </tr>\n",
       "    <tr>\n",
       "      <th>1815</th>\n",
       "      <td>7lSDCrF11sdTVfjbAQVZE8</td>\n",
       "      <td>I Fought the Law</td>\n",
       "      <td>3RGLhK1IP9jnYFH4BRFJBS</td>\n",
       "      <td>The Clash</td>\n",
       "      <td>3Zkggi5I9uH5x94DuN6u1S</td>\n",
       "      <td>163240</td>\n",
       "      <td>2013-08-26</td>\n",
       "      <td>63</td>\n",
       "      <td>0.526</td>\n",
       "      <td>0.900</td>\n",
       "      <td>...</td>\n",
       "      <td>0.000041</td>\n",
       "      <td>0.140</td>\n",
       "      <td>0.883</td>\n",
       "      <td>151.279</td>\n",
       "      <td>37i9dQZF1DX2S9rTKTX6JP</td>\n",
       "      <td>Rock Covers</td>\n",
       "      <td>rock</td>\n",
       "      <td>4</td>\n",
       "      <td>4</td>\n",
       "      <td>rock</td>\n",
       "    </tr>\n",
       "    <tr>\n",
       "      <th>1816</th>\n",
       "      <td>7umzok5rx1Lctwa2pb03OR</td>\n",
       "      <td>When Doves Cry</td>\n",
       "      <td>4v9rMwiF0d2Fh7bStHloi1</td>\n",
       "      <td>Everyone Loves A Villain</td>\n",
       "      <td>302wtl4vr5C1SsCTfBFMsJ</td>\n",
       "      <td>196938</td>\n",
       "      <td>2020-02-14</td>\n",
       "      <td>39</td>\n",
       "      <td>0.531</td>\n",
       "      <td>0.898</td>\n",
       "      <td>...</td>\n",
       "      <td>0.000198</td>\n",
       "      <td>0.335</td>\n",
       "      <td>0.490</td>\n",
       "      <td>117.005</td>\n",
       "      <td>37i9dQZF1DX2S9rTKTX6JP</td>\n",
       "      <td>Rock Covers</td>\n",
       "      <td>rock</td>\n",
       "      <td>4</td>\n",
       "      <td>4</td>\n",
       "      <td>rock</td>\n",
       "    </tr>\n",
       "    <tr>\n",
       "      <th>1817</th>\n",
       "      <td>5pNRCnwwQZmluol3V1pR6e</td>\n",
       "      <td>Losing My Religion</td>\n",
       "      <td>1kkyfIopIiVvaPHHlbsfac</td>\n",
       "      <td>Movements</td>\n",
       "      <td>5XkUTL5Ccl5krryba7M7JI</td>\n",
       "      <td>269946</td>\n",
       "      <td>2018-11-09</td>\n",
       "      <td>0</td>\n",
       "      <td>0.548</td>\n",
       "      <td>0.898</td>\n",
       "      <td>...</td>\n",
       "      <td>0.000021</td>\n",
       "      <td>0.298</td>\n",
       "      <td>0.704</td>\n",
       "      <td>127.994</td>\n",
       "      <td>37i9dQZF1DX2S9rTKTX6JP</td>\n",
       "      <td>Rock Covers</td>\n",
       "      <td>rock</td>\n",
       "      <td>4</td>\n",
       "      <td>4</td>\n",
       "      <td>rock</td>\n",
       "    </tr>\n",
       "    <tr>\n",
       "      <th>1818</th>\n",
       "      <td>4s7Nan6D8QC02ORXGM0slB</td>\n",
       "      <td>That Thing You Do!</td>\n",
       "      <td>1MrEurzLcL8ugfP1PrUPWG</td>\n",
       "      <td>Billie Joe Armstrong</td>\n",
       "      <td>5Oa5fQh8Uv1GJQk7Wx3QoM</td>\n",
       "      <td>168600</td>\n",
       "      <td>2020-08-28</td>\n",
       "      <td>38</td>\n",
       "      <td>0.457</td>\n",
       "      <td>0.942</td>\n",
       "      <td>...</td>\n",
       "      <td>0.000000</td>\n",
       "      <td>0.153</td>\n",
       "      <td>0.595</td>\n",
       "      <td>134.998</td>\n",
       "      <td>37i9dQZF1DX2S9rTKTX6JP</td>\n",
       "      <td>Rock Covers</td>\n",
       "      <td>rock</td>\n",
       "      <td>4</td>\n",
       "      <td>4</td>\n",
       "      <td>rock</td>\n",
       "    </tr>\n",
       "    <tr>\n",
       "      <th>1819</th>\n",
       "      <td>0OQLMQBKeaFuA2PJRdMuik</td>\n",
       "      <td>Ramble On</td>\n",
       "      <td>3FUY2gzHeIiaesXtOAdB7A</td>\n",
       "      <td>Train</td>\n",
       "      <td>6wFpk4lFTAhrmfkvZxf6Gg</td>\n",
       "      <td>262293</td>\n",
       "      <td>2016-05-27</td>\n",
       "      <td>34</td>\n",
       "      <td>0.568</td>\n",
       "      <td>0.686</td>\n",
       "      <td>...</td>\n",
       "      <td>0.052300</td>\n",
       "      <td>0.109</td>\n",
       "      <td>0.886</td>\n",
       "      <td>98.333</td>\n",
       "      <td>37i9dQZF1DX2S9rTKTX6JP</td>\n",
       "      <td>Rock Covers</td>\n",
       "      <td>rock</td>\n",
       "      <td>4</td>\n",
       "      <td>4</td>\n",
       "      <td>rock</td>\n",
       "    </tr>\n",
       "  </tbody>\n",
       "</table>\n",
       "<p>6563 rows × 25 columns</p>\n",
       "</div>\n",
       "    <div class=\"colab-df-buttons\">\n",
       "\n",
       "  <div class=\"colab-df-container\">\n",
       "    <button class=\"colab-df-convert\" onclick=\"convertToInteractive('df-0886682b-6216-46f5-80dc-b025d7723655')\"\n",
       "            title=\"Convert this dataframe to an interactive table.\"\n",
       "            style=\"display:none;\">\n",
       "\n",
       "  <svg xmlns=\"http://www.w3.org/2000/svg\" height=\"24px\" viewBox=\"0 -960 960 960\">\n",
       "    <path d=\"M120-120v-720h720v720H120Zm60-500h600v-160H180v160Zm220 220h160v-160H400v160Zm0 220h160v-160H400v160ZM180-400h160v-160H180v160Zm440 0h160v-160H620v160ZM180-180h160v-160H180v160Zm440 0h160v-160H620v160Z\"/>\n",
       "  </svg>\n",
       "    </button>\n",
       "\n",
       "  <style>\n",
       "    .colab-df-container {\n",
       "      display:flex;\n",
       "      gap: 12px;\n",
       "    }\n",
       "\n",
       "    .colab-df-convert {\n",
       "      background-color: #E8F0FE;\n",
       "      border: none;\n",
       "      border-radius: 50%;\n",
       "      cursor: pointer;\n",
       "      display: none;\n",
       "      fill: #1967D2;\n",
       "      height: 32px;\n",
       "      padding: 0 0 0 0;\n",
       "      width: 32px;\n",
       "    }\n",
       "\n",
       "    .colab-df-convert:hover {\n",
       "      background-color: #E2EBFA;\n",
       "      box-shadow: 0px 1px 2px rgba(60, 64, 67, 0.3), 0px 1px 3px 1px rgba(60, 64, 67, 0.15);\n",
       "      fill: #174EA6;\n",
       "    }\n",
       "\n",
       "    .colab-df-buttons div {\n",
       "      margin-bottom: 4px;\n",
       "    }\n",
       "\n",
       "    [theme=dark] .colab-df-convert {\n",
       "      background-color: #3B4455;\n",
       "      fill: #D2E3FC;\n",
       "    }\n",
       "\n",
       "    [theme=dark] .colab-df-convert:hover {\n",
       "      background-color: #434B5C;\n",
       "      box-shadow: 0px 1px 3px 1px rgba(0, 0, 0, 0.15);\n",
       "      filter: drop-shadow(0px 1px 2px rgba(0, 0, 0, 0.3));\n",
       "      fill: #FFFFFF;\n",
       "    }\n",
       "  </style>\n",
       "\n",
       "    <script>\n",
       "      const buttonEl =\n",
       "        document.querySelector('#df-0886682b-6216-46f5-80dc-b025d7723655 button.colab-df-convert');\n",
       "      buttonEl.style.display =\n",
       "        google.colab.kernel.accessAllowed ? 'block' : 'none';\n",
       "\n",
       "      async function convertToInteractive(key) {\n",
       "        const element = document.querySelector('#df-0886682b-6216-46f5-80dc-b025d7723655');\n",
       "        const dataTable =\n",
       "          await google.colab.kernel.invokeFunction('convertToInteractive',\n",
       "                                                    [key], {});\n",
       "        if (!dataTable) return;\n",
       "\n",
       "        const docLinkHtml = 'Like what you see? Visit the ' +\n",
       "          '<a target=\"_blank\" href=https://colab.research.google.com/notebooks/data_table.ipynb>data table notebook</a>'\n",
       "          + ' to learn more about interactive tables.';\n",
       "        element.innerHTML = '';\n",
       "        dataTable['output_type'] = 'display_data';\n",
       "        await google.colab.output.renderOutput(dataTable, element);\n",
       "        const docLink = document.createElement('div');\n",
       "        docLink.innerHTML = docLinkHtml;\n",
       "        element.appendChild(docLink);\n",
       "      }\n",
       "    </script>\n",
       "  </div>\n",
       "\n",
       "\n",
       "<div id=\"df-e007635e-297d-4d7b-8180-eeb66cef0d5a\">\n",
       "  <button class=\"colab-df-quickchart\" onclick=\"quickchart('df-e007635e-297d-4d7b-8180-eeb66cef0d5a')\"\n",
       "            title=\"Suggest charts.\"\n",
       "            style=\"display:none;\">\n",
       "\n",
       "<svg xmlns=\"http://www.w3.org/2000/svg\" height=\"24px\"viewBox=\"0 0 24 24\"\n",
       "     width=\"24px\">\n",
       "    <g>\n",
       "        <path d=\"M19 3H5c-1.1 0-2 .9-2 2v14c0 1.1.9 2 2 2h14c1.1 0 2-.9 2-2V5c0-1.1-.9-2-2-2zM9 17H7v-7h2v7zm4 0h-2V7h2v10zm4 0h-2v-4h2v4z\"/>\n",
       "    </g>\n",
       "</svg>\n",
       "  </button>\n",
       "\n",
       "<style>\n",
       "  .colab-df-quickchart {\n",
       "      --bg-color: #E8F0FE;\n",
       "      --fill-color: #1967D2;\n",
       "      --hover-bg-color: #E2EBFA;\n",
       "      --hover-fill-color: #174EA6;\n",
       "      --disabled-fill-color: #AAA;\n",
       "      --disabled-bg-color: #DDD;\n",
       "  }\n",
       "\n",
       "  [theme=dark] .colab-df-quickchart {\n",
       "      --bg-color: #3B4455;\n",
       "      --fill-color: #D2E3FC;\n",
       "      --hover-bg-color: #434B5C;\n",
       "      --hover-fill-color: #FFFFFF;\n",
       "      --disabled-bg-color: #3B4455;\n",
       "      --disabled-fill-color: #666;\n",
       "  }\n",
       "\n",
       "  .colab-df-quickchart {\n",
       "    background-color: var(--bg-color);\n",
       "    border: none;\n",
       "    border-radius: 50%;\n",
       "    cursor: pointer;\n",
       "    display: none;\n",
       "    fill: var(--fill-color);\n",
       "    height: 32px;\n",
       "    padding: 0;\n",
       "    width: 32px;\n",
       "  }\n",
       "\n",
       "  .colab-df-quickchart:hover {\n",
       "    background-color: var(--hover-bg-color);\n",
       "    box-shadow: 0 1px 2px rgba(60, 64, 67, 0.3), 0 1px 3px 1px rgba(60, 64, 67, 0.15);\n",
       "    fill: var(--button-hover-fill-color);\n",
       "  }\n",
       "\n",
       "  .colab-df-quickchart-complete:disabled,\n",
       "  .colab-df-quickchart-complete:disabled:hover {\n",
       "    background-color: var(--disabled-bg-color);\n",
       "    fill: var(--disabled-fill-color);\n",
       "    box-shadow: none;\n",
       "  }\n",
       "\n",
       "  .colab-df-spinner {\n",
       "    border: 2px solid var(--fill-color);\n",
       "    border-color: transparent;\n",
       "    border-bottom-color: var(--fill-color);\n",
       "    animation:\n",
       "      spin 1s steps(1) infinite;\n",
       "  }\n",
       "\n",
       "  @keyframes spin {\n",
       "    0% {\n",
       "      border-color: transparent;\n",
       "      border-bottom-color: var(--fill-color);\n",
       "      border-left-color: var(--fill-color);\n",
       "    }\n",
       "    20% {\n",
       "      border-color: transparent;\n",
       "      border-left-color: var(--fill-color);\n",
       "      border-top-color: var(--fill-color);\n",
       "    }\n",
       "    30% {\n",
       "      border-color: transparent;\n",
       "      border-left-color: var(--fill-color);\n",
       "      border-top-color: var(--fill-color);\n",
       "      border-right-color: var(--fill-color);\n",
       "    }\n",
       "    40% {\n",
       "      border-color: transparent;\n",
       "      border-right-color: var(--fill-color);\n",
       "      border-top-color: var(--fill-color);\n",
       "    }\n",
       "    60% {\n",
       "      border-color: transparent;\n",
       "      border-right-color: var(--fill-color);\n",
       "    }\n",
       "    80% {\n",
       "      border-color: transparent;\n",
       "      border-right-color: var(--fill-color);\n",
       "      border-bottom-color: var(--fill-color);\n",
       "    }\n",
       "    90% {\n",
       "      border-color: transparent;\n",
       "      border-bottom-color: var(--fill-color);\n",
       "    }\n",
       "  }\n",
       "</style>\n",
       "\n",
       "  <script>\n",
       "    async function quickchart(key) {\n",
       "      const quickchartButtonEl =\n",
       "        document.querySelector('#' + key + ' button');\n",
       "      quickchartButtonEl.disabled = true;  // To prevent multiple clicks.\n",
       "      quickchartButtonEl.classList.add('colab-df-spinner');\n",
       "      try {\n",
       "        const charts = await google.colab.kernel.invokeFunction(\n",
       "            'suggestCharts', [key], {});\n",
       "      } catch (error) {\n",
       "        console.error('Error during call to suggestCharts:', error);\n",
       "      }\n",
       "      quickchartButtonEl.classList.remove('colab-df-spinner');\n",
       "      quickchartButtonEl.classList.add('colab-df-quickchart-complete');\n",
       "    }\n",
       "    (() => {\n",
       "      let quickchartButtonEl =\n",
       "        document.querySelector('#df-e007635e-297d-4d7b-8180-eeb66cef0d5a button');\n",
       "      quickchartButtonEl.style.display =\n",
       "        google.colab.kernel.accessAllowed ? 'block' : 'none';\n",
       "    })();\n",
       "  </script>\n",
       "</div>\n",
       "    </div>\n",
       "  </div>\n"
      ],
      "text/plain": [
       "                    track_id  \\\n",
       "0     2c7huQpWR29bcXrrvLcG2j   \n",
       "1     0ceeRNqbOzRiGE42KWSrRa   \n",
       "2     4iuNZTcvT9diFySSzVsnVS   \n",
       "4     2RqZFOLOnzVmHUX7ZMcaES   \n",
       "5     6nTcn8CybBcx0t7IaXEJ6O   \n",
       "...                      ...   \n",
       "1815  7lSDCrF11sdTVfjbAQVZE8   \n",
       "1816  7umzok5rx1Lctwa2pb03OR   \n",
       "1817  5pNRCnwwQZmluol3V1pR6e   \n",
       "1818  4s7Nan6D8QC02ORXGM0slB   \n",
       "1819  0OQLMQBKeaFuA2PJRdMuik   \n",
       "\n",
       "                                             track_name  \\\n",
       "0                We Need A Resolution (feat. Timbaland)   \n",
       "1                             Into You (feat. Fabolous)   \n",
       "2                                          When I See U   \n",
       "4                                             Let It Go   \n",
       "5     Thank God I Found You (feat. Joe & Nas) - Make...   \n",
       "...                                                 ...   \n",
       "1815                                   I Fought the Law   \n",
       "1816                                     When Doves Cry   \n",
       "1817                                 Losing My Religion   \n",
       "1818                                 That Thing You Do!   \n",
       "1819                                          Ramble On   \n",
       "\n",
       "                   artist_id               artist_name  \\\n",
       "0     0urTpYCsixqZwgNTkPJOJ4                   Aaliyah   \n",
       "1     0le01dl1WllSHhjEXRl4in                     Tamia   \n",
       "2     7xAcVHPiirnUqfdqo0USb1                  Fantasia   \n",
       "4     1vfezMIyCr4XUdYRaKIKi3              Keyshia Cole   \n",
       "5     4iHNK0tOyZPYnBU7nGAgpQ              Mariah Carey   \n",
       "...                      ...                       ...   \n",
       "1815  3RGLhK1IP9jnYFH4BRFJBS                 The Clash   \n",
       "1816  4v9rMwiF0d2Fh7bStHloi1  Everyone Loves A Villain   \n",
       "1817  1kkyfIopIiVvaPHHlbsfac                 Movements   \n",
       "1818  1MrEurzLcL8ugfP1PrUPWG      Billie Joe Armstrong   \n",
       "1819  3FUY2gzHeIiaesXtOAdB7A                     Train   \n",
       "\n",
       "                    album_id  duration release_date  popularity  danceability  \\\n",
       "0     0cNaDPtbHC1PMJMRTY2GFc    242826   2001-07-07          64         0.728   \n",
       "1     43QuYbSfbTjcsghwJyUnyP    294093   2004-04-05          61         0.677   \n",
       "2     42DybH3gl3WcfXAQySOEiX    217346   2006-12-09          71         0.569   \n",
       "4     7mdy09EO4q6F9VWBtXDDjK    238333   2007-01-01          67         0.806   \n",
       "5     6zuCJaxmHKNKN5hMDF556U    251640   2000-04-18          60         0.608   \n",
       "...                      ...       ...          ...         ...           ...   \n",
       "1815  3Zkggi5I9uH5x94DuN6u1S    163240   2013-08-26          63         0.526   \n",
       "1816  302wtl4vr5C1SsCTfBFMsJ    196938   2020-02-14          39         0.531   \n",
       "1817  5XkUTL5Ccl5krryba7M7JI    269946   2018-11-09           0         0.548   \n",
       "1818  5Oa5fQh8Uv1GJQk7Wx3QoM    168600   2020-08-28          38         0.457   \n",
       "1819  6wFpk4lFTAhrmfkvZxf6Gg    262293   2016-05-27          34         0.568   \n",
       "\n",
       "      energy  ...  instrumentalness  liveness  valence    tempo  \\\n",
       "0      0.512  ...          0.000000     0.113    0.824  147.170   \n",
       "1      0.531  ...          0.000000     0.173    0.570   91.104   \n",
       "2      0.596  ...          0.000079     0.205    0.754   93.135   \n",
       "4      0.721  ...          0.000000     0.209    0.781   94.967   \n",
       "5      0.760  ...          0.000000     0.332    0.366  168.211   \n",
       "...      ...  ...               ...       ...      ...      ...   \n",
       "1815   0.900  ...          0.000041     0.140    0.883  151.279   \n",
       "1816   0.898  ...          0.000198     0.335    0.490  117.005   \n",
       "1817   0.898  ...          0.000021     0.298    0.704  127.994   \n",
       "1818   0.942  ...          0.000000     0.153    0.595  134.998   \n",
       "1819   0.686  ...          0.052300     0.109    0.886   98.333   \n",
       "\n",
       "                 playlist_id       playlist_name  genre  genre_id  \\\n",
       "0     37i9dQZF1DWYmmr74INQlb  I Love My '00s R&B    r&b         2   \n",
       "1     37i9dQZF1DWYmmr74INQlb  I Love My '00s R&B    r&b         2   \n",
       "2     37i9dQZF1DWYmmr74INQlb  I Love My '00s R&B    r&b         2   \n",
       "4     37i9dQZF1DWYmmr74INQlb  I Love My '00s R&B    r&b         2   \n",
       "5     37i9dQZF1DWYmmr74INQlb  I Love My '00s R&B    r&b         2   \n",
       "...                      ...                 ...    ...       ...   \n",
       "1815  37i9dQZF1DX2S9rTKTX6JP         Rock Covers   rock         4   \n",
       "1816  37i9dQZF1DX2S9rTKTX6JP         Rock Covers   rock         4   \n",
       "1817  37i9dQZF1DX2S9rTKTX6JP         Rock Covers   rock         4   \n",
       "1818  37i9dQZF1DX2S9rTKTX6JP         Rock Covers   rock         4   \n",
       "1819  37i9dQZF1DX2S9rTKTX6JP         Rock Covers   rock         4   \n",
       "\n",
       "      predicted_genre_id predicted_genre  \n",
       "0                      2             r&b  \n",
       "1                      2             r&b  \n",
       "2                      2             r&b  \n",
       "4                      2             r&b  \n",
       "5                      2             r&b  \n",
       "...                  ...             ...  \n",
       "1815                   4            rock  \n",
       "1816                   4            rock  \n",
       "1817                   4            rock  \n",
       "1818                   4            rock  \n",
       "1819                   4            rock  \n",
       "\n",
       "[6563 rows x 25 columns]"
      ]
     },
     "execution_count": 47,
     "metadata": {},
     "output_type": "execute_result"
    }
   ],
   "source": [
    "tracks_df['predicted_genre_id'] = best_model_pipeline.predict(tracks_df[feature_cols])\n",
    "tracks_df['predicted_genre'] = tracks_df['predicted_genre_id'].map(genre_lookup)\n",
    "tracks_df"
   ]
  },
  {
   "cell_type": "markdown",
   "metadata": {
    "id": "pNL8U47j2wmA"
   },
   "source": [
    "Use scaler from pipeline to transform"
   ]
  },
  {
   "cell_type": "code",
   "execution_count": null,
   "metadata": {
    "id": "VlkGhkFi2wmA"
   },
   "outputs": [],
   "source": [
    "features = best_model_scaler.transform(X_train)"
   ]
  },
  {
   "cell_type": "markdown",
   "metadata": {
    "id": "1q8attqr2wmA"
   },
   "source": [
    "Run SHAP explainer and get importance values"
   ]
  },
  {
   "cell_type": "code",
   "execution_count": null,
   "metadata": {
    "id": "ylnoUrLD2wmA"
   },
   "outputs": [],
   "source": [
    "explainer = shap.TreeExplainer(best_model,\\\n",
    "                            feature_names=feature_cols)\n",
    "shap_values = explainer.shap_values(features)"
   ]
  },
  {
   "cell_type": "code",
   "execution_count": null,
   "metadata": {
    "id": "FlvutfzG2wmB"
   },
   "outputs": [],
   "source": [
    "shap.summary_plot(shap_values=shap_values,\n",
    "                  features = features,\n",
    "                  feature_names = feature_cols,\n",
    "                  class_names = list(genre_lookup.values()),\n",
    "                  plot_type = \"bar\")"
   ]
  },
  {
   "cell_type": "code",
   "execution_count": null,
   "metadata": {
    "id": "8U1PqTnq2wmB"
   },
   "outputs": [],
   "source": [
    "# Get sample track and index, scale features\n",
    "sample = tracks_df[tracks_df['track_name'].str.contains('Under Pressure')]\n",
    "sample_idx = sample.index.values[0]\n",
    "sample_features = best_model_scaler.transform(sample[feature_cols])\n",
    "sample"
   ]
  },
  {
   "cell_type": "code",
   "execution_count": null,
   "metadata": {
    "id": "A8yIrGPn2wmB"
   },
   "outputs": [],
   "source": [
    "# Plot force plot per genre\n",
    "shap_values = explainer.shap_values(sample_features)\n",
    "shap.initjs()\n",
    "for genre_id in range(8):\n",
    "    print(genre_lookup[genre_id])\n",
    "    display(shap.force_plot(explainer.expected_value[genre_id], shap_values[genre_id], sample_features,\\\n",
    "                             feature_names=feature_cols))\n"
   ]
  },
  {
   "cell_type": "markdown",
   "metadata": {
    "id": "FFJzZyQi2wmB"
   },
   "source": [
    "## Save the pipeline"
   ]
  },
  {
   "cell_type": "code",
   "execution_count": null,
   "metadata": {
    "colab": {
     "base_uri": "https://localhost:8080/"
    },
    "id": "1uf3-HUU2wmB",
    "outputId": "91dc235d-a79f-4614-ccd0-0906bb2a730f"
   },
   "outputs": [
    {
     "data": {
      "text/plain": [
       "['genre_classifier_group4.pkl']"
      ]
     },
     "execution_count": 48,
     "metadata": {},
     "output_type": "execute_result"
    }
   ],
   "source": [
    "joblib.dump(best_model_pipeline,'genre_classifier_group4.pkl')"
   ]
  }
 ],
 "metadata": {
  "colab": {
   "provenance": [],
   "toc_visible": true
  },
  "kernelspec": {
   "display_name": "Python 3 (ipykernel)",
   "language": "python",
   "name": "python3"
  },
  "language_info": {
   "codemirror_mode": {
    "name": "ipython",
    "version": 3
   },
   "file_extension": ".py",
   "mimetype": "text/x-python",
   "name": "python",
   "nbconvert_exporter": "python",
   "pygments_lexer": "ipython3",
   "version": "3.11.5"
  }
 },
 "nbformat": 4,
 "nbformat_minor": 4
}
