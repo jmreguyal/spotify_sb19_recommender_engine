{
 "cells": [
  {
   "cell_type": "markdown",
   "metadata": {
    "id": "vtCscwsq34Ph"
   },
   "source": [
    "# Deploy Playlist to Spotify\n",
    "\n",
    "This notebook shows how to deploy the recommender engine generated tracks as a playlist in Spotify using `spotipy` module."
   ]
  },
  {
   "cell_type": "code",
   "execution_count": 1,
   "metadata": {
    "colab": {
     "base_uri": "https://localhost:8080/"
    },
    "id": "C-4TVXX7nQxL",
    "outputId": "1e441c7e-bcb9-4985-81e4-b7b9e1cd2962"
   },
   "outputs": [
    {
     "name": "stdout",
     "output_type": "stream",
     "text": [
      "Collecting spotipy\n",
      "  Downloading spotipy-2.23.0-py3-none-any.whl (29 kB)\n",
      "Collecting redis>=3.5.3 (from spotipy)\n",
      "  Downloading redis-5.0.1-py3-none-any.whl (250 kB)\n",
      "\u001b[2K     \u001b[90m━━━━━━━━━━━━━━━━━━━━━━━━━━━━━━━━━━━━━━━━\u001b[0m \u001b[32m250.3/250.3 kB\u001b[0m \u001b[31m10.3 MB/s\u001b[0m eta \u001b[36m0:00:00\u001b[0m\n",
      "\u001b[?25hRequirement already satisfied: requests>=2.25.0 in /usr/local/lib/python3.10/dist-packages (from spotipy) (2.31.0)\n",
      "Requirement already satisfied: six>=1.15.0 in /usr/local/lib/python3.10/dist-packages (from spotipy) (1.16.0)\n",
      "Requirement already satisfied: urllib3>=1.26.0 in /usr/local/lib/python3.10/dist-packages (from spotipy) (2.0.7)\n",
      "Requirement already satisfied: async-timeout>=4.0.2 in /usr/local/lib/python3.10/dist-packages (from redis>=3.5.3->spotipy) (4.0.3)\n",
      "Requirement already satisfied: charset-normalizer<4,>=2 in /usr/local/lib/python3.10/dist-packages (from requests>=2.25.0->spotipy) (3.3.1)\n",
      "Requirement already satisfied: idna<4,>=2.5 in /usr/local/lib/python3.10/dist-packages (from requests>=2.25.0->spotipy) (3.4)\n",
      "Requirement already satisfied: certifi>=2017.4.17 in /usr/local/lib/python3.10/dist-packages (from requests>=2.25.0->spotipy) (2023.7.22)\n",
      "Installing collected packages: redis, spotipy\n",
      "Successfully installed redis-5.0.1 spotipy-2.23.0\n"
     ]
    }
   ],
   "source": [
    "!pip install spotipy"
   ]
  },
  {
   "cell_type": "code",
   "execution_count": 2,
   "metadata": {
    "ExecuteTime": {
     "end_time": "2021-06-01T13:37:09.010248Z",
     "start_time": "2021-06-01T13:37:08.426087Z"
    },
    "id": "N_LFRHJ034Pj"
   },
   "outputs": [],
   "source": [
    "import spotipy\n",
    "from spotipy.oauth2 import SpotifyClientCredentials, SpotifyOAuth\n",
    "\n",
    "import getpass\n",
    "import time"
   ]
  },
  {
   "cell_type": "markdown",
   "metadata": {
    "id": "6hAXlG5-34Pj"
   },
   "source": [
    "## Setup credentials"
   ]
  },
  {
   "cell_type": "code",
   "execution_count": 12,
   "metadata": {
    "colab": {
     "base_uri": "https://localhost:8080/"
    },
    "id": "BSzEiJKm4RQg",
    "outputId": "6cc72d8a-2288-40ba-8e47-3cdbafb1a830"
   },
   "outputs": [
    {
     "name": "stdout",
     "output_type": "stream",
     "text": [
      "Enter Spotify app client id: ··········\n"
     ]
    }
   ],
   "source": [
    "client_id = getpass.getpass(prompt='Enter Spotify app client id: ')"
   ]
  },
  {
   "cell_type": "code",
   "execution_count": 13,
   "metadata": {
    "colab": {
     "base_uri": "https://localhost:8080/"
    },
    "id": "8QlheYl64Tq9",
    "outputId": "ce53b4c9-0c49-46da-f94f-08b36a4cc3b4"
   },
   "outputs": [
    {
     "name": "stdout",
     "output_type": "stream",
     "text": [
      "Enter Spotify app client secret: ··········\n"
     ]
    }
   ],
   "source": [
    "client_secret = getpass.getpass(prompt='Enter Spotify app client secret: ')"
   ]
  },
  {
   "cell_type": "markdown",
   "metadata": {
    "id": "SSIDFpIFPL_d"
   },
   "source": [
    "HOWTO find your Spotify username:\n",
    "1.  Head to open.spotify.com and log in with your account details\n",
    "2.  Click the 👤 icon -> Account\n",
    "3. A new tab should open. Under Account, click Edit Profile\n",
    "4. Username is the first field, on top of the email field.\n",
    "\n",
    "Copy your username and replace the string below"
   ]
  },
  {
   "cell_type": "code",
   "execution_count": 15,
   "metadata": {
    "id": "lol8Tl4X4fY4"
   },
   "outputs": [],
   "source": [
    "### MODIFY THIS\n",
    "username = '31plstd6eznu34zunkads6ie3mwm'\n",
    "###\n",
    "redirect_uri='https://localhost:8888/callback/'\n",
    "scope = \"user-library-modify playlist-modify-public\""
   ]
  },
  {
   "cell_type": "code",
   "execution_count": 21,
   "metadata": {
    "id": "TFIvAnOSMd6_"
   },
   "outputs": [],
   "source": [
    "# Authenticate with Spotify\n",
    "sp = spotipy.Spotify(auth_manager=SpotifyOAuth(client_id=client_id,\n",
    "                                               client_secret=client_secret,\n",
    "                                               redirect_uri=redirect_uri,\n",
    "                                               scope=scope, open_browser=False))\n"
   ]
  },
  {
   "cell_type": "markdown",
   "metadata": {
    "id": "28Uddjzq34Pk"
   },
   "source": [
    "## Add track ids from recommender engine\n",
    "Replace this with most recent track id recommendations"
   ]
  },
  {
   "cell_type": "code",
   "execution_count": 27,
   "metadata": {
    "id": "VsGXhcjWMegN"
   },
   "outputs": [],
   "source": [
    "### MODIFY THIS\n",
    "seed_track = 'MAPA'\n",
    "track_id_list = ['3121oviCd6WOUTEtnd0ucS', '45qHHrtyuiKtx1N74Iak7C', '5nmHl233yo8XJvaNfdKAWU',\n",
    "                 '52okn5MNA47tk87PeZJLEL', '2Xnv3GntqbBH1juvUYSpHG', '09mEdoA6zrmBPgTEN5qXmN',\n",
    "                 '0sVgOxAOOAj0K8PdFEGhrR']\n",
    "###"
   ]
  },
  {
   "cell_type": "code",
   "execution_count": 29,
   "metadata": {
    "id": "EgEgi7OrMecZ"
   },
   "outputs": [],
   "source": [
    "### MODIFY THIS\n",
    "seed_track = 'GENTO'\n",
    "track_id_list = ['6KuqAtoeVzxAYOaMveLNpH', '4w1lzcaoZ1IC2K5TwjalRP', '4QPEwDdOMhY7rNS05mTyMR',\n",
    "                 '5QDLhrAOJJdNAmCTJ8xMyW', '09CtPGIpYB4BrO8qb1RGsF']\n",
    "###"
   ]
  },
  {
   "cell_type": "code",
   "execution_count": 33,
   "metadata": {
    "id": "l9a0SooQMeZY"
   },
   "outputs": [],
   "source": [
    "### MODIFY THIS\n",
    "seed_track = 'Bazinga'\n",
    "track_id_list = ['74cB0AlVMZEqN7h7MY6bK9', '3WfaJhCL4p2JbdffJjV6Va', '2qQpFbqqkLOGySgNK8wBXt',\n",
    "                 '6n5M2Al3QgTScpO4AZH9OI', '10AsRVRdU07cMAFHeGYO3c', '46cgcwt80u5CaiqHu361UH']\n",
    "###"
   ]
  },
  {
   "cell_type": "markdown",
   "metadata": {
    "id": "yhGImDNS34Pk"
   },
   "source": [
    "## Deploy playlist to Spotify\n",
    "\n",
    "\n"
   ]
  },
  {
   "cell_type": "markdown",
   "metadata": {
    "id": "SnouJc-aQKIp"
   },
   "source": [
    "### 1. Create new playlist\n",
    "**IMPORTANT:** To run next cell:\n",
    "1. Click the URL after \"Go to the following URL\". It should open a new tab\n",
    "2. Go to that new tab. It should be a blank webpage.\n",
    "3. Copy the URL and past it in the prompt box after \"Enter the URL you were redirected to:\"\n",
    "\n",
    "If successful, cell below would return the new playlist data in the usual JSON output format\n"
   ]
  },
  {
   "cell_type": "code",
   "execution_count": 34,
   "metadata": {
    "ExecuteTime": {
     "end_time": "2021-06-01T13:41:13.124540Z",
     "start_time": "2021-06-01T13:41:12.770371Z"
    },
    "colab": {
     "base_uri": "https://localhost:8080/"
    },
    "id": "AYNsQS3E34Pk",
    "outputId": "dc4d6403-bd4f-4ca8-b123-7f448f542779"
   },
   "outputs": [
    {
     "data": {
      "text/plain": [
       "{'collaborative': False,\n",
       " 'description': '',\n",
       " 'external_urls': {'spotify': 'https://open.spotify.com/playlist/304r3zVsmNsQnI5ayDlN8G'},\n",
       " 'followers': {'href': None, 'total': 0},\n",
       " 'href': 'https://api.spotify.com/v1/playlists/304r3zVsmNsQnI5ayDlN8G',\n",
       " 'id': '304r3zVsmNsQnI5ayDlN8G',\n",
       " 'images': [],\n",
       " 'name': 'Eskwelabs: Recommendations for seed track: Bazinga',\n",
       " 'owner': {'display_name': 'Job Jason Chua',\n",
       "  'external_urls': {'spotify': 'https://open.spotify.com/user/31plstd6eznu34zunkads6ie3mwm'},\n",
       "  'href': 'https://api.spotify.com/v1/users/31plstd6eznu34zunkads6ie3mwm',\n",
       "  'id': '31plstd6eznu34zunkads6ie3mwm',\n",
       "  'type': 'user',\n",
       "  'uri': 'spotify:user:31plstd6eznu34zunkads6ie3mwm'},\n",
       " 'primary_color': None,\n",
       " 'public': True,\n",
       " 'snapshot_id': 'MSxjZDIxNDZiM2MxNTNlOGU5YmI4NTU3MGIxOGNkNDQ3MTViZGZhMTE0',\n",
       " 'tracks': {'href': 'https://api.spotify.com/v1/playlists/304r3zVsmNsQnI5ayDlN8G/tracks',\n",
       "  'items': [],\n",
       "  'limit': 100,\n",
       "  'next': None,\n",
       "  'offset': 0,\n",
       "  'previous': None,\n",
       "  'total': 0},\n",
       " 'type': 'playlist',\n",
       " 'uri': 'spotify:playlist:304r3zVsmNsQnI5ayDlN8G'}"
      ]
     },
     "execution_count": 34,
     "metadata": {},
     "output_type": "execute_result"
    }
   ],
   "source": [
    "new_playlist_name = f\"Eskwelabs: Recommendations for seed track: {seed_track}\"\n",
    "new_playlist = sp.user_playlist_create(username, name=new_playlist_name)\n",
    "new_playlist"
   ]
  },
  {
   "cell_type": "code",
   "execution_count": 35,
   "metadata": {
    "ExecuteTime": {
     "end_time": "2021-06-01T13:42:08.088927Z",
     "start_time": "2021-06-01T13:42:08.061846Z"
    },
    "colab": {
     "base_uri": "https://localhost:8080/",
     "height": 35
    },
    "id": "6oCKRI5K34Pl",
    "outputId": "63e48b7b-5aef-4a61-8670-3531c2df7799"
   },
   "outputs": [
    {
     "data": {
      "application/vnd.google.colaboratory.intrinsic+json": {
       "type": "string"
      },
      "text/plain": [
       "'304r3zVsmNsQnI5ayDlN8G'"
      ]
     },
     "execution_count": 35,
     "metadata": {},
     "output_type": "execute_result"
    }
   ],
   "source": [
    "new_playlist['id']"
   ]
  },
  {
   "cell_type": "markdown",
   "metadata": {
    "id": "PMtS_Ar6QCw-"
   },
   "source": [
    "### 2. Add tracks to the newly created playlist"
   ]
  },
  {
   "cell_type": "code",
   "execution_count": 36,
   "metadata": {
    "ExecuteTime": {
     "end_time": "2021-06-01T13:42:47.007584Z",
     "start_time": "2021-06-01T13:42:46.829631Z"
    },
    "colab": {
     "base_uri": "https://localhost:8080/"
    },
    "id": "KHWcKe3K34Pl",
    "outputId": "14a1a0e1-f83a-45e6-e982-6d04fb0d2445"
   },
   "outputs": [
    {
     "data": {
      "text/plain": [
       "{'snapshot_id': 'MixkMmVmNjI0NDNmOWQyNWU2ZjRiNWRiODM3YWQ3NTYzZjdlM2EyODFl'}"
      ]
     },
     "execution_count": 36,
     "metadata": {},
     "output_type": "execute_result"
    }
   ],
   "source": [
    "playlist_id=new_playlist['id']\n",
    "sp.user_playlist_add_tracks(username, playlist_id, track_id_list)"
   ]
  }
 ],
 "metadata": {
  "colab": {
   "provenance": []
  },
  "kernelspec": {
   "display_name": "Python 3 (ipykernel)",
   "language": "python",
   "name": "python3"
  },
  "language_info": {
   "codemirror_mode": {
    "name": "ipython",
    "version": 3
   },
   "file_extension": ".py",
   "mimetype": "text/x-python",
   "name": "python",
   "nbconvert_exporter": "python",
   "pygments_lexer": "ipython3",
   "version": "3.11.5"
  }
 },
 "nbformat": 4,
 "nbformat_minor": 4
}
